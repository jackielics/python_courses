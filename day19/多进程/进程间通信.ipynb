{
 "cells": [
  {
   "attachments": {},
   "cell_type": "markdown",
   "metadata": {},
   "source": [
    "1. Queue 的使用"
   ]
  },
  {
   "cell_type": "code",
   "execution_count": 1,
   "metadata": {},
   "outputs": [
    {
     "name": "stdout",
     "output_type": "stream",
     "text": [
      "False\n",
      "True\n",
      "消息列队已满，现有消息数量:3\n",
      "消息列队已满，现有消息数量:3\n",
      "消息1\n",
      "消息2\n",
      "消息3\n"
     ]
    }
   ],
   "source": [
    "# coding=utf-8\n",
    "from multiprocessing import Queue\n",
    "q = Queue(3)  # 初始化一个Queue 对象，最多可接收三条put 消息\n",
    "q.put(\"消息1\")\n",
    "q.put(\"消息2\")\n",
    "print(q.full())  # False\n",
    "q.put(\"消息3\")\n",
    "print(q.full())  # True\n",
    "# 因为消息列队已满下面的try 都会抛出异常，第一个try 会等待2 秒后再抛出异常，第二个Try 会立刻抛出异常\n",
    "try:\n",
    "    q.put(\"消息4\", True, 2)\n",
    "except:\n",
    "    print(\"消息列队已满，现有消息数量:%s\" % q.qsize())\n",
    "try:\n",
    "    q.put_nowait(\"消息4\")\n",
    "except:\n",
    "    print(\"消息列队已满，现有消息数量:%s\" % q.qsize())\n",
    "# 推荐的方式，先判断消息列队是否已满，再写入\n",
    "if not q.full():\n",
    "    q.put_nowait(\"消息4\")\n",
    "# 读取消息时，先判断消息列队是否为空，再读取\n",
    "if not q.empty():\n",
    "    for i in range(q.qsize()):\n",
    "        print(q.get_nowait())\n"
   ]
  },
  {
   "attachments": {},
   "cell_type": "markdown",
   "metadata": {},
   "source": [
    "2. Queue 实例"
   ]
  },
  {
   "cell_type": "code",
   "execution_count": 1,
   "metadata": {},
   "outputs": [
    {
     "name": "stdout",
     "output_type": "stream",
     "text": [
      "0\n",
      "\n",
      "所有数据都写入并且读完\n"
     ]
    }
   ],
   "source": [
    "from multiprocessing import Process, Queue\n",
    "import os\n",
    "import time\n",
    "import random\n",
    "# 写数据进程执行的代码:\n",
    "\n",
    "\n",
    "def write(q):\n",
    "    for value in ['A', 'B', 'C']:\n",
    "        print('Put %s to queue...' % value)\n",
    "        q.put(value)\n",
    "        time.sleep(1)\n",
    "# 读数据进程执行的代码:\n",
    "\n",
    "\n",
    "def read(q):\n",
    "    while True:\n",
    "        if not q.empty():\n",
    "            value = q.get(True)\n",
    "            print('Get %s from queue.' % value)\n",
    "            time.sleep(2)\n",
    "        else:\n",
    "            break\n",
    "\n",
    "\n",
    "if __name__ == '__main__':\n",
    "    # 父进程创建Queue，并传给各个子进程：\n",
    "    q = Queue()\n",
    "    pw = Process(target=write, args=(q,))\n",
    "    pr = Process(target=read, args=(q,))\n",
    "    # 启动子进程pw，写入:\n",
    "    pw.start()\n",
    "    time.sleep(0.5)\n",
    "    # 启动子进程pr，读取:\n",
    "    pr.start()\n",
    "    # 等待pw,pr 结束:\n",
    "    pw.join()\n",
    "    pr.join()\n",
    "    # pr 进程里是死循环，无法等待其结束，只能强行终止:\n",
    "    print(q.qsize())\n",
    "    print('')\n",
    "    print('所有数据都写入并且读完')\n"
   ]
  },
  {
   "cell_type": "code",
   "execution_count": 1,
   "metadata": {},
   "outputs": [
    {
     "data": {
      "text/plain": [
       "b'\\n\\x00\\x00\\x00'"
      ]
     },
     "execution_count": 1,
     "metadata": {},
     "output_type": "execute_result"
    }
   ],
   "source": [
    "import struct\n",
    "struct.pack('I', 10)"
   ]
  },
  {
   "cell_type": "code",
   "execution_count": null,
   "metadata": {},
   "outputs": [],
   "source": []
  }
 ],
 "metadata": {
  "kernelspec": {
   "display_name": "Python 3",
   "language": "python",
   "name": "python3"
  },
  "language_info": {
   "codemirror_mode": {
    "name": "ipython",
    "version": 3
   },
   "file_extension": ".py",
   "mimetype": "text/x-python",
   "name": "python",
   "nbconvert_exporter": "python",
   "pygments_lexer": "ipython3",
   "version": "3.8.10"
  },
  "orig_nbformat": 4
 },
 "nbformat": 4,
 "nbformat_minor": 2
}
