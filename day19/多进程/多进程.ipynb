{
 "cells": [
  {
   "attachments": {},
   "cell_type": "markdown",
   "metadata": {},
   "source": [
    "## 进程的创建-multiprocessing"
   ]
  },
  {
   "cell_type": "code",
   "execution_count": 2,
   "metadata": {},
   "outputs": [
    {
     "name": "stdout",
     "output_type": "stream",
     "text": [
      "----1----\n",
      "----1----\n"
     ]
    },
    {
     "ename": "KeyboardInterrupt",
     "evalue": "",
     "output_type": "error",
     "traceback": [
      "\u001b[1;31m---------------------------------------------------------------------------\u001b[0m",
      "\u001b[1;31mKeyboardInterrupt\u001b[0m                         Traceback (most recent call last)",
      "\u001b[1;32md:\\Codes\\王道Python\\多进程编程\\多进程.ipynb 单元格 1\u001b[0m in \u001b[0;36m<cell line: 11>\u001b[1;34m()\u001b[0m\n\u001b[0;32m     <a href='vscode-notebook-cell:/d%3A/Codes/%E7%8E%8B%E9%81%93Python/%E5%A4%9A%E8%BF%9B%E7%A8%8B%E7%BC%96%E7%A8%8B/%E5%A4%9A%E8%BF%9B%E7%A8%8B.ipynb#W0sZmlsZQ%3D%3D?line=13'>14</a>\u001b[0m \u001b[39mwhile\u001b[39;00m \u001b[39mTrue\u001b[39;00m:\n\u001b[0;32m     <a href='vscode-notebook-cell:/d%3A/Codes/%E7%8E%8B%E9%81%93Python/%E5%A4%9A%E8%BF%9B%E7%A8%8B%E7%BC%96%E7%A8%8B/%E5%A4%9A%E8%BF%9B%E7%A8%8B.ipynb#W0sZmlsZQ%3D%3D?line=14'>15</a>\u001b[0m     \u001b[39mprint\u001b[39m(\u001b[39m\"\u001b[39m\u001b[39m----1----\u001b[39m\u001b[39m\"\u001b[39m)\n\u001b[1;32m---> <a href='vscode-notebook-cell:/d%3A/Codes/%E7%8E%8B%E9%81%93Python/%E5%A4%9A%E8%BF%9B%E7%A8%8B%E7%BC%96%E7%A8%8B/%E5%A4%9A%E8%BF%9B%E7%A8%8B.ipynb#W0sZmlsZQ%3D%3D?line=15'>16</a>\u001b[0m     time\u001b[39m.\u001b[39msleep(\u001b[39m1\u001b[39m)\n",
      "\u001b[1;31mKeyboardInterrupt\u001b[0m: "
     ]
    }
   ],
   "source": [
    "# -*- coding:utf-8 -*-\n",
    "from multiprocessing import Process\n",
    "import time\n",
    "\n",
    "def run_proc():\n",
    "    \"\"\"子进程要执行的代码\"\"\"\n",
    "    while True:\n",
    "        print(\"----2----\")\n",
    "        time.sleep(1)\n",
    "\n",
    "if __name__=='__main__':\n",
    "    p = Process(target=run_proc)\n",
    "    p.start()\n",
    "    while True:\n",
    "        print(\"----1----\")\n",
    "        time.sleep(1)"
   ]
  },
  {
   "attachments": {},
   "cell_type": "markdown",
   "metadata": {},
   "source": [
    "## 获取进程pid"
   ]
  },
  {
   "cell_type": "code",
   "execution_count": 1,
   "metadata": {},
   "outputs": [
    {
     "name": "stdout",
     "output_type": "stream",
     "text": [
      "父进程pid: 27312\n"
     ]
    }
   ],
   "source": [
    "# -*- coding:utf-8 -*-\n",
    "from multiprocessing import Process\n",
    "import os\n",
    "import time\n",
    "def run_proc():\n",
    "    \"\"\"子进程要执行的代码\"\"\"\n",
    "    print('子进程运行中，pid=%d...' % os.getpid()) # os.getpid 获取当前进程的进程号\n",
    "    print('子进程将要结束...')\n",
    "\n",
    "if __name__ == '__main__':\n",
    "    print('父进程pid: %d' % os.getpid()) # os.getpid 获取当前进程的进程号\n",
    "    p = Process(target=run_proc)\n",
    "    p.start()"
   ]
  },
  {
   "attachments": {},
   "cell_type": "markdown",
   "metadata": {},
   "source": [
    "## Process 语法结构如下"
   ]
  },
  {
   "attachments": {},
   "cell_type": "markdown",
   "metadata": {},
   "source": [
    "Process(group , target , name , args , kwargs) \\\n",
    "• target：如果传递了函数的引用，可以让这个子进程就执行这里的代码 \\\n",
    "• args：给target 指定的函数传递的参数，以元组的方式传递 \\\n",
    "• kwargs：给target 指定的函数传递命名参数，keyword 参数 \\\n",
    "• name：给进程设定一个名字，可以不设定 \\\n",
    "• group：指定进程组，大多数情况下用不到 \\\n",
    "Process 创建的实例对象的常用方法： \\\n",
    "• start()：启动子进程实例（创建子进程） \\\n",
    "• is_alive()：判断进程子进程是否还在活着 \\\n",
    "• join([timeout])：是否等待子进程执行结束，或等待多少秒--回收子进程尸体 \\\n",
    "• terminate()：不管任务是否完成，立即终止子进程 \\\n",
    "Process 创建的实例对象的常用属性： \\\n",
    "• name：当前进程的别名，默认为Process-N，N 为从1 开始递增的整数 \\\n",
    "• pid：当前进程的pid（进程号）"
   ]
  },
  {
   "attachments": {},
   "cell_type": "markdown",
   "metadata": {},
   "source": [
    "## 给子进程指定的函数传递参数"
   ]
  },
  {
   "cell_type": "code",
   "execution_count": 1,
   "metadata": {},
   "outputs": [],
   "source": [
    "# -*- coding:utf-8 -*-\n",
    "from multiprocessing import Process\n",
    "import os\n",
    "from time import sleep\n",
    "def run_proc1(name, age, **kwargs):\n",
    "    for i in range(10):\n",
    "        print('子进程运行中，name= %s,age=%d ,pid=%d...' % (name, age, os.getpid()))\n",
    "        print(kwargs)\n",
    "        sleep(0.2)\n",
    "\n",
    "if __name__=='__main__':\n",
    "    p = Process(target=run_proc1, args=('test',18), kwargs={\"m\":20})\n",
    "    p.start() # p.start() # 启动子进程\n",
    "    sleep(1)\n",
    "    p.terminate() # 终止子进程\n",
    "    p.join() # 等待子进程结束后再继续往下运行，通常用于进程间的同步"
   ]
  },
  {
   "attachments": {},
   "cell_type": "markdown",
   "metadata": {},
   "source": [
    "## 5. 进程间是否共享全局变量"
   ]
  },
  {
   "cell_type": "code",
   "execution_count": 5,
   "metadata": {},
   "outputs": [],
   "source": [
    "# -*- coding:utf-8 -*-\n",
    "from multiprocessing import Process\n",
    "import os\n",
    "import time\n",
    "nums = [11, 22]\n",
    "def work1():\n",
    "    \"\"\"子进程要执行的代码\"\"\"\n",
    "    print(\"in process1 pid=%d ,nums=%s\" % (os.getpid(), nums))\n",
    "    for i in range(3):\n",
    "        nums.append(i)\n",
    "        time.sleep(1)\n",
    "        print(\"in process1 pid=%d ,nums=%s\" % (os.getpid(), nums))\n",
    "\n",
    "def work2():\n",
    "    \"\"\"子进程要执行的代码\"\"\"\n",
    "    print(\"in process2 pid=%d ,nums=%s\" % (os.getpid(), nums))\n",
    "    \n",
    "if __name__ == '__main__':\n",
    "    p1 = Process(target=work1)\n",
    "    p1.start()\n",
    "    p1.join()\n",
    "    p2 = Process(target=work2)\n",
    "    p2.start()"
   ]
  },
  {
   "cell_type": "code",
   "execution_count": 9,
   "metadata": {},
   "outputs": [
    {
     "name": "stdout",
     "output_type": "stream",
     "text": [
      "Results: []\n"
     ]
    }
   ],
   "source": [
    "import multiprocessing\n",
    "\n",
    "def worker(num, q):\n",
    "    print('Worker %d started' % num)\n",
    "    result = num * 2\n",
    "    q.put(result)\n",
    "\n",
    "if __name__ == '__main__':\n",
    "    q = multiprocessing.Queue()\n",
    "    processes = [multiprocessing.Process(target=worker, args=(i, q)) for i in range(5)]\n",
    "    for p in processes:\n",
    "        p.start()\n",
    "    for p in processes:\n",
    "        p.join()\n",
    "    results = []\n",
    "    while not q.empty():\n",
    "        result = q.get()\n",
    "        results.append(result)\n",
    "    print('Results:', results)\n"
   ]
  },
  {
   "cell_type": "code",
   "execution_count": null,
   "metadata": {},
   "outputs": [],
   "source": []
  }
 ],
 "metadata": {
  "kernelspec": {
   "display_name": "Python 3",
   "language": "python",
   "name": "python3"
  },
  "language_info": {
   "codemirror_mode": {
    "name": "ipython",
    "version": 3
   },
   "file_extension": ".py",
   "mimetype": "text/x-python",
   "name": "python",
   "nbconvert_exporter": "python",
   "pygments_lexer": "ipython3",
   "version": "3.8.10"
  },
  "orig_nbformat": 4
 },
 "nbformat": 4,
 "nbformat_minor": 2
}
