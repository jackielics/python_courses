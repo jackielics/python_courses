{
 "cells": [
  {
   "attachments": {},
   "cell_type": "markdown",
   "metadata": {},
   "source": [
    "1、\t创建子进程（子进程while True），通过ps查看是否有两个进程，同时通过top查看两个进程的CPU占有率，然后通过kill杀掉其中一个进程"
   ]
  },
  {
   "cell_type": "code",
   "execution_count": 1,
   "metadata": {},
   "outputs": [
    {
     "ename": "AttributeError",
     "evalue": "module 'os' has no attribute 'fork'",
     "output_type": "error",
     "traceback": [
      "\u001b[1;31m---------------------------------------------------------------------------\u001b[0m",
      "\u001b[1;31mAttributeError\u001b[0m                            Traceback (most recent call last)",
      "\u001b[1;32md:\\Codes\\王道Python\\day19\\day19_李昌盛.ipynb 单元格 2\u001b[0m in \u001b[0;36m<cell line: 3>\u001b[1;34m()\u001b[0m\n\u001b[0;32m      <a href='vscode-notebook-cell:/d%3A/Codes/%E7%8E%8B%E9%81%93Python/day19/day19_%E6%9D%8E%E6%98%8C%E7%9B%9B.ipynb#W1sZmlsZQ%3D%3D?line=0'>1</a>\u001b[0m \u001b[39mimport\u001b[39;00m \u001b[39mos\u001b[39;00m\n\u001b[1;32m----> <a href='vscode-notebook-cell:/d%3A/Codes/%E7%8E%8B%E9%81%93Python/day19/day19_%E6%9D%8E%E6%98%8C%E7%9B%9B.ipynb#W1sZmlsZQ%3D%3D?line=2'>3</a>\u001b[0m pid \u001b[39m=\u001b[39m os\u001b[39m.\u001b[39mfork()\n\u001b[0;32m      <a href='vscode-notebook-cell:/d%3A/Codes/%E7%8E%8B%E9%81%93Python/day19/day19_%E6%9D%8E%E6%98%8C%E7%9B%9B.ipynb#W1sZmlsZQ%3D%3D?line=4'>5</a>\u001b[0m \u001b[39mif\u001b[39;00m pid \u001b[39m==\u001b[39m \u001b[39m0\u001b[39m:\n\u001b[0;32m      <a href='vscode-notebook-cell:/d%3A/Codes/%E7%8E%8B%E9%81%93Python/day19/day19_%E6%9D%8E%E6%98%8C%E7%9B%9B.ipynb#W1sZmlsZQ%3D%3D?line=5'>6</a>\u001b[0m     \u001b[39m# 在子进程中\u001b[39;00m\n\u001b[0;32m      <a href='vscode-notebook-cell:/d%3A/Codes/%E7%8E%8B%E9%81%93Python/day19/day19_%E6%9D%8E%E6%98%8C%E7%9B%9B.ipynb#W1sZmlsZQ%3D%3D?line=6'>7</a>\u001b[0m     \u001b[39mprint\u001b[39m(\u001b[39m\"\u001b[39m\u001b[39mThis is child process\u001b[39m\u001b[39m\"\u001b[39m)\n",
      "\u001b[1;31mAttributeError\u001b[0m: module 'os' has no attribute 'fork'"
     ]
    }
   ],
   "source": [
    "import os\n",
    "\n",
    "pid = os.fork()\n",
    "\n",
    "if pid == 0:\n",
    "    # 在子进程中\n",
    "    print(\"This is child process\")\n",
    "    while True:\n",
    "        pass\n",
    "else:\n",
    "    # 在父进程中\n",
    "    print(\"This is parent process:\", pid)\n",
    "    while True:\n",
    "        pass\n"
   ]
  },
  {
   "cell_type": "markdown",
   "metadata": {},
   "source": [
    "2、\t创建子进程，能够获取子进程pid并打印"
   ]
  },
  {
   "cell_type": "code",
   "execution_count": null,
   "metadata": {},
   "outputs": [],
   "source": [
    "import os\n",
    "\n",
    "pid = os.fork()\n",
    "\n",
    "if pid == 0:\n",
    "    # 在子进程中\n",
    "    print(\"This is child process\")\n",
    "    while True:\n",
    "        pass\n",
    "else:\n",
    "    # 在父进程中\n",
    "    print(\"This is parent process:\", pid)\n",
    "    while True:\n",
    "        pass\n"
   ]
  },
  {
   "attachments": {},
   "cell_type": "markdown",
   "metadata": {},
   "source": [
    "3、\t给子进程传参，查看子进程修改了传递的列表中的值以后，父进程中是否会变化，子进程修改全局变量，父进程join子进程后，打印全局变量是否变化"
   ]
  },
  {
   "cell_type": "code",
   "execution_count": null,
   "metadata": {},
   "outputs": [],
   "source": []
  },
  {
   "attachments": {},
   "cell_type": "markdown",
   "metadata": {},
   "source": [
    "4、\t创建两个子进程，一个子进程写消息队列，一个读消息队列（依次写入A，B，C），确保写的内容，读的进程，读取完毕并打印（与上课一致）"
   ]
  },
  {
   "cell_type": "code",
   "execution_count": null,
   "metadata": {},
   "outputs": [],
   "source": []
  },
  {
   "attachments": {},
   "cell_type": "markdown",
   "metadata": {},
   "source": [
    "5、\t创建进程池，进程池中一个进程往queue中写，一个读并打印（与上课一致）"
   ]
  },
  {
   "cell_type": "code",
   "execution_count": null,
   "metadata": {},
   "outputs": [],
   "source": []
  }
 ],
 "metadata": {
  "kernelspec": {
   "display_name": "Python 3",
   "language": "python",
   "name": "python3"
  },
  "language_info": {
   "codemirror_mode": {
    "name": "ipython",
    "version": 3
   },
   "file_extension": ".py",
   "mimetype": "text/x-python",
   "name": "python",
   "nbconvert_exporter": "python",
   "pygments_lexer": "ipython3",
   "version": "3.8.10"
  },
  "orig_nbformat": 4
 },
 "nbformat": 4,
 "nbformat_minor": 2
}
