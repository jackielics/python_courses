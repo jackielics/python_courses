{
 "cells": [
  {
   "attachments": {},
   "cell_type": "markdown",
   "metadata": {},
   "source": [
    "1、\t创建多线程，查看saySorry打印效果（和上课一致即可）"
   ]
  },
  {
   "cell_type": "code",
   "execution_count": null,
   "metadata": {},
   "outputs": [],
   "source": [
    "#coding=utf-8\n",
    "import threading\n",
    "import time\n",
    "def saySorry():\n",
    "    print(\"亲爱的，我错了，我能吃饭了吗？\")\n",
    "    time.sleep(1)\n",
    "    \n",
    "if __name__ == \"__main__\":\n",
    "    for i in range(5):\n",
    "        t = threading.Thread(target=saySorry)\n",
    "        t.start() #启动线程，即让线程开始执行"
   ]
  },
  {
   "attachments": {},
   "cell_type": "markdown",
   "metadata": {},
   "source": [
    "2、\t创建两个多线程，主线程，两个子线程分别While True，查看CPU占有率"
   ]
  },
  {
   "cell_type": "code",
   "execution_count": 2,
   "metadata": {},
   "outputs": [
    {
     "name": "stdout",
     "output_type": "stream",
     "text": [
      "我是子线程，我在执行\n",
      "我是主线程，我在执行\n"
     ]
    },
    {
     "name": "stdout",
     "output_type": "stream",
     "text": [
      "我是子线程，我在执行\n",
      "我是子线程，我在执行\n",
      "我是子线程，我在执行\n",
      "我是子线程，我在执行\n",
      "我是子线程，我在执行\n",
      "我是子线程，我在执行\n",
      "我是子线程，我在执行\n",
      "我是子线程，我在执行\n",
      "我是子线程，我在执行\n",
      "我是子线程，我在执行\n",
      "我是子线程，我在执行\n",
      "我是子线程，我在执行\n",
      "我是子线程，我在执行\n",
      "我是子线程，我在执行\n",
      "我是子线程，我在执行\n",
      "我是子线程，我在执行\n",
      "我是子线程，我在执行\n",
      "我是子线程，我在执行\n"
     ]
    }
   ],
   "source": [
    "import threading\n",
    "import time\n",
    "\n",
    "def do_while():\n",
    "    while True:\n",
    "        print(\"我是子线程1，我在执行\")\n",
    "        time.sleep(1)\n",
    "\n",
    "t1 = threading.Thread(target=do_while)\n",
    "t1.start() #启动线程，即让线程开始执行\n",
    "t2 = threading.Thread(target=do_while)\n",
    "t2.start() #启动线程，即让线程开始执行\n",
    "print(\"我是主线程，我在执行\")\n"
   ]
  },
  {
   "attachments": {},
   "cell_type": "markdown",
   "metadata": {},
   "source": [
    "3、\t创建一个子线程work1，传递列表a，然后work1中给列表a添加元素，然后创建线程work2，查看列表是否发生改变"
   ]
  },
  {
   "cell_type": "code",
   "execution_count": 1,
   "metadata": {},
   "outputs": [
    {
     "name": "stdout",
     "output_type": "stream",
     "text": [
      "----in work1--- [11, 22, 33, 44]\n"
     ]
    },
    {
     "name": "stdout",
     "output_type": "stream",
     "text": [
      "----in work2--- [11, 22, 33, 44]\n"
     ]
    }
   ],
   "source": [
    "from threading import Thread\n",
    "import time\n",
    "\n",
    "\n",
    "def work1(nums):\n",
    "    nums.append(44)\n",
    "    print(\"----in work1---\", nums)\n",
    "\n",
    "\n",
    "def work2(nums):\n",
    "    # 延时一会，保证t1 线程中的事情做完\n",
    "    time.sleep(1)\n",
    "    print(\"----in work2---\", nums)\n",
    "\n",
    "\n",
    "g_nums = [11, 22, 33]\n",
    "t1 = Thread(target=work1, args=(g_nums,))\n",
    "t1.start()\n",
    "t2 = Thread(target=work2, args=(g_nums,))\n",
    "t2.start()\n",
    "# g_nums会被work1和work2共享，因为work1和work2都是对g_nums进行操作，所以会出现线程安全问题"
   ]
  },
  {
   "attachments": {},
   "cell_type": "markdown",
   "metadata": {},
   "source": [
    "4、\t创建两个子线程，分别对同一个全局变量加1百万，查看最终结果是否为2百万，如果不为2百万，通过加解锁后，实现最终是2百万（电脑速度过快的同学，可以搞2千万）"
   ]
  },
  {
   "cell_type": "code",
   "execution_count": 3,
   "metadata": {},
   "outputs": [
    {
     "name": "stdout",
     "output_type": "stream",
     "text": [
      "---线程创建之前g_num is 0---\n",
      "----in work1, g_num is 10026759---\n",
      "----in work2, g_num is 13413827---\n"
     ]
    },
    {
     "ename": "KeyboardInterrupt",
     "evalue": "",
     "output_type": "error",
     "traceback": [
      "\u001b[1;31m---------------------------------------------------------------------------\u001b[0m",
      "\u001b[1;31mKeyboardInterrupt\u001b[0m                         Traceback (most recent call last)",
      "\u001b[1;32md:\\Codes\\王道Python\\day21\\作业.ipynb 单元格 8\u001b[0m in \u001b[0;36m<cell line: 25>\u001b[1;34m()\u001b[0m\n\u001b[0;32m     <a href='vscode-notebook-cell:/d%3A/Codes/%E7%8E%8B%E9%81%93Python/day21/%E4%BD%9C%E4%B8%9A.ipynb#X13sZmlsZQ%3D%3D?line=23'>24</a>\u001b[0m t2\u001b[39m.\u001b[39mstart()\n\u001b[0;32m     <a href='vscode-notebook-cell:/d%3A/Codes/%E7%8E%8B%E9%81%93Python/day21/%E4%BD%9C%E4%B8%9A.ipynb#X13sZmlsZQ%3D%3D?line=24'>25</a>\u001b[0m \u001b[39mwhile\u001b[39;00m \u001b[39mlen\u001b[39m(threading\u001b[39m.\u001b[39menumerate()) \u001b[39m!=\u001b[39m \u001b[39m1\u001b[39m:\n\u001b[1;32m---> <a href='vscode-notebook-cell:/d%3A/Codes/%E7%8E%8B%E9%81%93Python/day21/%E4%BD%9C%E4%B8%9A.ipynb#X13sZmlsZQ%3D%3D?line=25'>26</a>\u001b[0m     time\u001b[39m.\u001b[39msleep(\u001b[39m0.01\u001b[39m)\n\u001b[0;32m     <a href='vscode-notebook-cell:/d%3A/Codes/%E7%8E%8B%E9%81%93Python/day21/%E4%BD%9C%E4%B8%9A.ipynb#X13sZmlsZQ%3D%3D?line=26'>27</a>\u001b[0m \u001b[39mprint\u001b[39m(\u001b[39m\"\u001b[39m\u001b[39m2 个线程对同一个全局变量操作之后的最终结果是:\u001b[39m\u001b[39m%s\u001b[39;00m\u001b[39m\"\u001b[39m \u001b[39m%\u001b[39m g_num)\n",
      "\u001b[1;31mKeyboardInterrupt\u001b[0m: "
     ]
    }
   ],
   "source": [
    "import threading\n",
    "import time\n",
    "g_num = 0\n",
    "\n",
    "\n",
    "def work1(num):\n",
    "    global g_num\n",
    "    for i in range(num):\n",
    "        g_num += 1\n",
    "    print(\"----in work1, g_num is %d---\" % g_num)\n",
    "\n",
    "\n",
    "def work2(num):\n",
    "    global g_num\n",
    "    for i in range(num):\n",
    "        g_num += 1\n",
    "    print(\"----in work2, g_num is %d---\" % g_num)\n",
    "\n",
    "\n",
    "print(\"---线程创建之前g_num is %d---\" % g_num)\n",
    "t1 = threading.Thread(target=work1, args=(int(1e7),))\n",
    "t1.start()\n",
    "t2 = threading.Thread(target=work2, args=(int(1e7),))\n",
    "t2.start()\n",
    "while len(threading.enumerate()) != 1:\n",
    "    time.sleep(0.01)\n",
    "print(\"2 个线程对同一个全局变量操作之后的最终结果是:%s\" % g_num)\n"
   ]
  },
  {
   "attachments": {},
   "cell_type": "markdown",
   "metadata": {},
   "source": [
    "5、\t制造死锁问题，并用ps查看线程状态"
   ]
  },
  {
   "cell_type": "code",
   "execution_count": null,
   "metadata": {},
   "outputs": [],
   "source": [
    "#coding=utf-8\n",
    "import threading\n",
    "import time\n",
    "class MyThread1(threading.Thread):\n",
    "    def run(self):\n",
    "        # 对mutexA 上锁\n",
    "        mutexA.acquire()\n",
    "        # mutexA 上锁后，延时1 秒，等待另外那个线程把mutexB 上锁\n",
    "        print(self.name+'----do1---up----')\n",
    "        time.sleep(1)\n",
    "        # 此时会堵塞，因为这个mutexB 已经被另外的线程抢先上锁了\n",
    "        mutexB.acquire()\n",
    "        print(self.name+'----do1---down----')\n",
    "        mutexB.release()\n",
    "        # 对mutexA 解锁\n",
    "        mutexA.release()\n",
    "\n",
    "class MyThread2(threading.Thread):\n",
    "    def run(self):\n",
    "        # 对mutexB 上锁\n",
    "        mutexB.acquire()\n",
    "        # mutexB 上锁后，延时1 秒，等待另外那个线程把mutexA 上锁\n",
    "        print(self.name+'----do2---up----')\n",
    "        time.sleep(1)\n",
    "        # 此时会堵塞，因为这个mutexA 已经被另外的线程抢先上锁了\n",
    "        mutexA.acquire()\n",
    "        print(self.name+'----do2---down----')\n",
    "        mutexA.release()\n",
    "        # 对mutexB 解锁\n",
    "        mutexB.release()\n",
    "\n",
    "\n",
    "mutexA = threading.Lock() \n",
    "mutexB = threading.Lock() \n",
    "\n",
    "\n",
    "if __name__ == '__main__':\n",
    "    t1 = MyThread1()\n",
    "    t2 = MyThread2()\n",
    "    t1.start()\n",
    "    t2.start()"
   ]
  },
  {
   "attachments": {},
   "cell_type": "markdown",
   "metadata": {},
   "source": [
    "6、\t观察列表，元组，字典，集合是否是Iterator，Iterable"
   ]
  },
  {
   "cell_type": "code",
   "execution_count": 4,
   "metadata": {},
   "outputs": [
    {
     "data": {
      "text/plain": [
       "(True, True, True)"
      ]
     },
     "execution_count": 4,
     "metadata": {},
     "output_type": "execute_result"
    }
   ],
   "source": [
    "from collections.abc import Iterable\n",
    "\n",
    "mylist = [1, 2, 3, 4, 5]\n",
    "mytuple = (1, 2, 3, 4, 5)\n",
    "mydict = {'name': 'zhangsan', 'age': 18}\n",
    "isinstance(mylist, Iterable), isinstance(mytuple, Iterable), isinstance(mydict, Iterable)\n"
   ]
  },
  {
   "attachments": {},
   "cell_type": "markdown",
   "metadata": {},
   "source": [
    "7、\t自制迭代器并使用next及for in的处理"
   ]
  },
  {
   "cell_type": "code",
   "execution_count": null,
   "metadata": {},
   "outputs": [],
   "source": [
    "# coding=utf-8\n",
    "from collections.abc import Iterator\n",
    "\n",
    "\n",
    "class MyList(object):\n",
    "    \"\"\"自定义的一个可迭代对象\"\"\"\n",
    "\n",
    "    def __init__(self):\n",
    "        self.items = []\n",
    "\n",
    "    def add(self, val):\n",
    "        self.items.append(val)\n",
    "\n",
    "    def __iter__(self):\n",
    "        myiterator = MyIterator(self)\n",
    "        return myiterator  # __iter__方法要返回一个迭代器\n",
    "\n",
    "\n",
    "class MyIterator(object):\n",
    "    \"\"\"自定义的供上面可迭代对象使用的一个迭代器\"\"\"\n",
    "\n",
    "    def __init__(self, mylist):\n",
    "        self.mylist = mylist\n",
    "        # current 用来记录当前访问到的位置\n",
    "        self.current = 0\n",
    "\n",
    "    def __next__(self):\n",
    "        if self.current < len(self.mylist.items):\n",
    "            item = self.mylist.items[self.current]\n",
    "            self.current += 1\n",
    "            return item\n",
    "        else:\n",
    "            raise StopIteration\n",
    "\n",
    "    def __iter__(self):\n",
    "        return self\n",
    "\n",
    "\n",
    "if __name__ == '__main__':\n",
    "    mylist = MyList()\n",
    "    print(isinstance(mylist, Iterator))\n",
    "    mylist.add(1)\n",
    "    mylist.add(2)\n",
    "    mylist.add(3)\n",
    "    mylist.add(4)\n",
    "    mylist.add(5)\n",
    "    # print(next(mylist)) #为啥不行\n",
    "    for num in mylist:\n",
    "        print(num)\n",
    "    myIterator = MyIterator(mylist)\n",
    "    print(isinstance(myIterator, Iterator))\n",
    "    print(next(myIterator))  # 使用next()函数的时候，调用的就是迭代器对象的__next__方法\n"
   ]
  }
 ],
 "metadata": {
  "kernelspec": {
   "display_name": "Python 3",
   "language": "python",
   "name": "python3"
  },
  "language_info": {
   "codemirror_mode": {
    "name": "ipython",
    "version": 3
   },
   "file_extension": ".py",
   "mimetype": "text/x-python",
   "name": "python",
   "nbconvert_exporter": "python",
   "pygments_lexer": "ipython3",
   "version": "3.8.10"
  },
  "orig_nbformat": 4
 },
 "nbformat": 4,
 "nbformat_minor": 2
}
