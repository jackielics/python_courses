{
 "cells": [
  {
   "attachments": {},
   "cell_type": "markdown",
   "metadata": {},
   "source": [
    "# 7.1 迭代器\n",
    "## 可迭代对象的本质"
   ]
  },
  {
   "cell_type": "code",
   "execution_count": 1,
   "metadata": {},
   "outputs": [
    {
     "data": {
      "text/plain": [
       "True"
      ]
     },
     "execution_count": 1,
     "metadata": {},
     "output_type": "execute_result"
    }
   ],
   "source": [
    "from collections.abc import Iterable\n",
    "\n",
    "class MyList(object):\n",
    "    def __init__(self):\n",
    "        self.container = []\n",
    "    def add(self, item):\n",
    "        self.container.append(item)\n",
    "    def __iter__(self):\n",
    "        \"\"\"返回一个迭代器\"\"\"\n",
    "        # 我们暂时忽略如何构造一个迭代器对象\n",
    "        pass\n",
    "mylist = MyList()\n",
    "isinstance(mylist, Iterable)"
   ]
  },
  {
   "attachments": {},
   "cell_type": "markdown",
   "metadata": {},
   "source": [
    "## iter()函数与next()函数\n",
    "在使用next()函数的时候，调用的就是迭代器对象的__next__()方法"
   ]
  },
  {
   "cell_type": "code",
   "execution_count": 3,
   "metadata": {},
   "outputs": [
    {
     "data": {
      "text/plain": [
       "(11, 22, 33, 44, 55)"
      ]
     },
     "execution_count": 3,
     "metadata": {},
     "output_type": "execute_result"
    }
   ],
   "source": [
    "li = [11, 22, 33, 44, 55]\n",
    "li_iter = iter(li)\n",
    "next(li_iter), next(li_iter), next(li_iter), next(li_iter), next(li_iter)"
   ]
  },
  {
   "attachments": {},
   "cell_type": "markdown",
   "metadata": {},
   "source": [
    "## 迭代器Iterator\n",
    "要想构造一个迭代器，就要实现它的__next__方法。但这还不够，python 要求迭代器本身也\n",
    "可迭代的，所以我们还要为迭代器实现__iter__方法，而__iter__方法要返回一个迭代器"
   ]
  },
  {
   "cell_type": "code",
   "execution_count": 4,
   "metadata": {},
   "outputs": [
    {
     "name": "stdout",
     "output_type": "stream",
     "text": [
      "False\n",
      "1\n",
      "2\n",
      "3\n",
      "4\n",
      "5\n",
      "True\n",
      "1\n"
     ]
    }
   ],
   "source": [
    "# coding=utf-8\n",
    "from collections.abc import Iterator\n",
    "\n",
    "\n",
    "class MyList(object):\n",
    "    \"\"\"自定义的一个可迭代对象\"\"\"\n",
    "\n",
    "    def __init__(self):\n",
    "        self.items = []\n",
    "\n",
    "    def add(self, val):\n",
    "        self.items.append(val)\n",
    "\n",
    "    def __iter__(self):\n",
    "        myiterator = MyIterator(self)\n",
    "        return myiterator  # __iter__方法要返回一个迭代器\n",
    "\n",
    "\n",
    "class MyIterator(object):\n",
    "    \"\"\"自定义的供上面可迭代对象使用的一个迭代器\"\"\"\n",
    "\n",
    "    def __init__(self, mylist):\n",
    "        self.mylist = mylist\n",
    "        # current 用来记录当前访问到的位置\n",
    "        self.current = 0\n",
    "\n",
    "    def __next__(self):\n",
    "        if self.current < len(self.mylist.items):\n",
    "            item = self.mylist.items[self.current]\n",
    "            self.current += 1\n",
    "            return item\n",
    "        else:\n",
    "            raise StopIteration\n",
    "\n",
    "    def __iter__(self):\n",
    "        return self\n",
    "\n",
    "\n",
    "if __name__ == '__main__':\n",
    "    mylist = MyList()\n",
    "    print(isinstance(mylist, Iterator))\n",
    "    mylist.add(1)\n",
    "    mylist.add(2)\n",
    "    mylist.add(3)\n",
    "    mylist.add(4)\n",
    "    mylist.add(5)\n",
    "    # print(next(mylist)) #为啥不行\n",
    "    for num in mylist:\n",
    "        print(num)\n",
    "    myIterator = MyIterator(mylist)\n",
    "    print(isinstance(myIterator, Iterator))\n",
    "    print(next(myIterator))  # 使用next()函数的时候，调用的就是迭代器对象的__next__方法\n"
   ]
  },
  {
   "attachments": {},
   "cell_type": "markdown",
   "metadata": {},
   "source": [
    "## for...in...循环的本质\n",
    "for item in Iterable 循环的本质就是先通过iter()函数获取可迭代对象Iterable 的\n",
    "迭代器，然后对获取到的迭代器不断调用next()方法来获取下一个值并将其赋值给\n",
    "item，当遇到StopIteration 的异常后循环结束。"
   ]
  },
  {
   "attachments": {},
   "cell_type": "markdown",
   "metadata": {},
   "source": [
    "## 迭代器的应用场景\n",
    "斐波那契数列迭代器"
   ]
  },
  {
   "cell_type": "code",
   "execution_count": 7,
   "metadata": {},
   "outputs": [
    {
     "name": "stdout",
     "output_type": "stream",
     "text": [
      "0 1 1 2 3 5 8 13 21 34 55 89 144 233 377 610 987 1597 2584 4181 6765 10946 17711 28657 46368 75025 121393 196418 317811 514229 832040 1346269 2178309 3524578 5702887 9227465 14930352 24157817 39088169 63245986 102334155 165580141 267914296 433494437 701408733 1134903170 1836311903 2971215073 4807526976 7778742049 12586269025 20365011074 32951280099 53316291173 86267571272 139583862445 225851433717 365435296162 591286729879 956722026041 1548008755920 2504730781961 4052739537881 6557470319842 10610209857723 17167680177565 27777890035288 44945570212853 72723460248141 117669030460994 190392490709135 308061521170129 498454011879264 806515533049393 1304969544928657 2111485077978050 3416454622906707 5527939700884757 8944394323791464 14472334024676221 23416728348467685 37889062373143906 61305790721611591 99194853094755497 160500643816367088 259695496911122585 420196140727489673 679891637638612258 1100087778366101931 1779979416004714189 2880067194370816120 4660046610375530309 7540113804746346429 12200160415121876738 19740274219868223167 31940434634990099905 51680708854858323072 83621143489848422977 135301852344706746049 218922995834555169026 "
     ]
    }
   ],
   "source": [
    "class FibIterator(object):\n",
    "    \"\"\"斐波那契数列迭代器\"\"\"\n",
    "\n",
    "    def __init__(self, n):\n",
    "        \"\"\"\n",
    "        :param n: int, 指明生成数列的前n 个数\n",
    "        \"\"\"\n",
    "        self.n = n\n",
    "        # current 用来保存当前生成到数列中的第几个数了\n",
    "        self.current = 0\n",
    "        # num1 用来保存前前一个数，初始值为数列中的第一个数0\n",
    "        self.num1 = 0\n",
    "        # num2 用来保存前一个数，初始值为数列中的第二个数1\n",
    "        self.num2 = 1\n",
    "\n",
    "    def __next__(self):\n",
    "        \"\"\"被next()函数调用来获取下一个数\"\"\"\n",
    "        if self.current < self.n:\n",
    "            num = self.num1\n",
    "            self.num1, self.num2 = self.num2, self.num1+self.num2\n",
    "            self.current += 1\n",
    "            return num\n",
    "        else:\n",
    "            raise StopIteration\n",
    "\n",
    "    def __iter__(self):\n",
    "        \"\"\"迭代器的__iter__返回自身即可\"\"\"\n",
    "        return self\n",
    "\n",
    "\n",
    "if __name__ == '__main__':\n",
    "    fib = FibIterator(100)\n",
    "    for num in fib:\n",
    "        print(num, end=\" \")\n"
   ]
  },
  {
   "attachments": {},
   "cell_type": "markdown",
   "metadata": {},
   "source": [
    "# 7.2 生成器"
   ]
  },
  {
   "cell_type": "code",
   "execution_count": null,
   "metadata": {},
   "outputs": [],
   "source": [
    "# 列表生成式\n",
    "G = ( x*2 for x in range(5))"
   ]
  },
  {
   "cell_type": "code",
   "execution_count": 12,
   "metadata": {},
   "outputs": [
    {
     "name": "stdout",
     "output_type": "stream",
     "text": [
      "0 1 1 2 3\n",
      "done\n"
     ]
    }
   ],
   "source": [
    "# 用函数来实现\n",
    "class FibIterator(object):\n",
    "    \"\"\"斐波那契数列迭代器\"\"\"\n",
    "    def __init__(self, n):\n",
    "        \"\"\"\n",
    "        :param n: int, 指明生成数列的前n 个数\n",
    "        \"\"\"\n",
    "        self.n = n\n",
    "        # current 用来保存当前生成到数列中的第几个数了\n",
    "        self.current = 0\n",
    "        # num1 用来保存前前一个数，初始值为数列中的第一个数0\n",
    "        self.num1 = 0\n",
    "        # num2 用来保存前一个数，初始值为数列中的第二个数1\n",
    "        self.num2 = 1\n",
    "    def __next__(self):\n",
    "        \"\"\"被next()函数调用来获取下一个数\"\"\"\n",
    "        if self.current < self.n:\n",
    "            num = self.num1\n",
    "            self.num1, self.num2 = self.num2, self.num1+self.num2\n",
    "            self.current += 1\n",
    "            return num\n",
    "        else:\n",
    "            raise StopIteration\n",
    "    def __iter__(self):\n",
    "        \"\"\"迭代器的__iter__返回自身即可\"\"\"\n",
    "        return self\n",
    "    \n",
    "def fib(n):          # 定义一个生成器函数\n",
    "    current = 0      # 定义一个变量current，用于计数\n",
    "    num1, num2 = 0, 1  # 定义两个变量num1和num2，分别表示斐波那契数列中的前两个数\n",
    "    while current < n:\n",
    "        num = num1\n",
    "        num1, num2 = num2, num1+num2  # 计算斐波那契数列的下一个数\n",
    "        current += 1 \n",
    "        yield num  # 使用yield返回当前的数\n",
    "    return 'I am done!' # 生成器函数执行完毕后，返回done（可选）\n",
    "\n",
    "F = fib(5)\n",
    "print(next(F), next(F), next(F), next(F), next(F))\n",
    "\n",
    "try:\n",
    "    next(F)\n",
    "except StopIteration as e:\n",
    "    print(e.value) # 返回值包含在StopIteration 的value 中："
   ]
  },
  {
   "cell_type": "code",
   "execution_count": 19,
   "metadata": {},
   "outputs": [
    {
     "name": "stdout",
     "output_type": "stream",
     "text": [
      "haha\n"
     ]
    },
    {
     "data": {
      "text/plain": [
       "1"
      ]
     },
     "execution_count": 19,
     "metadata": {},
     "output_type": "execute_result"
    }
   ],
   "source": [
    "# 使用send 唤醒\n",
    "def gen():\n",
    "    i = 0\n",
    "    while i<5:\n",
    "        temp = yield i\n",
    "        print(temp)\n",
    "        i+=1\n",
    "\n",
    "f = gen()\n",
    "next(f)\n",
    "f.send('haha') # send()的一个好处是可以在唤醒的同时向断点处传入一个附加数据\n"
   ]
  },
  {
   "cell_type": "code",
   "execution_count": 20,
   "metadata": {},
   "outputs": [
    {
     "name": "stdout",
     "output_type": "stream",
     "text": [
      "None\n"
     ]
    },
    {
     "data": {
      "text/plain": [
       "(0, 1)"
      ]
     },
     "execution_count": 20,
     "metadata": {},
     "output_type": "execute_result"
    }
   ],
   "source": [
    "# 使用__next__()方法\n",
    "f = gen()\n",
    "f.__next__(), f.__next__()"
   ]
  },
  {
   "attachments": {},
   "cell_type": "markdown",
   "metadata": {},
   "source": [
    "# 7.3 协程\n",
    "线程的切换非常耗性能，协程的切换只是单纯的操作CPU的上下文"
   ]
  },
  {
   "cell_type": "code",
   "execution_count": null,
   "metadata": {},
   "outputs": [],
   "source": [
    "# 简单实现协程（模拟）\n",
    "import time\n",
    "\n",
    "\n",
    "def work1():\n",
    "    while True:\n",
    "        print(\"----work1---\")\n",
    "        yield\n",
    "    time.sleep(0.5)\n",
    "\n",
    "\n",
    "def work2():\n",
    "    while True:\n",
    "        print(\"----work2---\")\n",
    "        yield\n",
    "    time.sleep(0.5)\n",
    "\n",
    "\n",
    "def main():\n",
    "    w1 = work1()\n",
    "    w2 = work2()\n",
    "    while True:\n",
    "        next(w1)\n",
    "        next(w2)\n",
    "\n",
    "\n",
    "if __name__ == \"__main__\":\n",
    "    main()\n"
   ]
  },
  {
   "attachments": {},
   "cell_type": "markdown",
   "metadata": {},
   "source": [
    "# 7.4 greenlet"
   ]
  },
  {
   "cell_type": "code",
   "execution_count": 22,
   "metadata": {},
   "outputs": [
    {
     "name": "stdout",
     "output_type": "stream",
     "text": [
      "---A--\n",
      "---B--\n",
      "---A--\n",
      "---B--\n",
      "---A--\n",
      "---B--\n",
      "---A--\n",
      "---B--\n",
      "---A--\n"
     ]
    },
    {
     "ename": "KeyboardInterrupt",
     "evalue": "",
     "output_type": "error",
     "traceback": [
      "\u001b[1;31m---------------------------------------------------------------------------\u001b[0m",
      "\u001b[1;31mKeyboardInterrupt\u001b[0m                         Traceback (most recent call last)",
      "\u001b[1;32md:\\Codes\\王道Python\\day21\\协程.ipynb 单元格 18\u001b[0m in \u001b[0;36m<cell line: 23>\u001b[1;34m()\u001b[0m\n\u001b[0;32m     <a href='vscode-notebook-cell:/d%3A/Codes/%E7%8E%8B%E9%81%93Python/day21/%E5%8D%8F%E7%A8%8B.ipynb#X33sZmlsZQ%3D%3D?line=20'>21</a>\u001b[0m gr2 \u001b[39m=\u001b[39m greenlet(test2)\n\u001b[0;32m     <a href='vscode-notebook-cell:/d%3A/Codes/%E7%8E%8B%E9%81%93Python/day21/%E5%8D%8F%E7%A8%8B.ipynb#X33sZmlsZQ%3D%3D?line=21'>22</a>\u001b[0m \u001b[39m# 切换到gr1 中运行\u001b[39;00m\n\u001b[1;32m---> <a href='vscode-notebook-cell:/d%3A/Codes/%E7%8E%8B%E9%81%93Python/day21/%E5%8D%8F%E7%A8%8B.ipynb#X33sZmlsZQ%3D%3D?line=22'>23</a>\u001b[0m gr1\u001b[39m.\u001b[39mswitch()\n",
      "\u001b[1;32md:\\Codes\\王道Python\\day21\\协程.ipynb 单元格 18\u001b[0m in \u001b[0;36mtest2\u001b[1;34m()\u001b[0m\n\u001b[0;32m     <a href='vscode-notebook-cell:/d%3A/Codes/%E7%8E%8B%E9%81%93Python/day21/%E5%8D%8F%E7%A8%8B.ipynb#X33sZmlsZQ%3D%3D?line=14'>15</a>\u001b[0m \u001b[39mprint\u001b[39m(\u001b[39m\"\u001b[39m\u001b[39m---B--\u001b[39m\u001b[39m\"\u001b[39m)\n\u001b[0;32m     <a href='vscode-notebook-cell:/d%3A/Codes/%E7%8E%8B%E9%81%93Python/day21/%E5%8D%8F%E7%A8%8B.ipynb#X33sZmlsZQ%3D%3D?line=15'>16</a>\u001b[0m gr1\u001b[39m.\u001b[39mswitch()\n\u001b[1;32m---> <a href='vscode-notebook-cell:/d%3A/Codes/%E7%8E%8B%E9%81%93Python/day21/%E5%8D%8F%E7%A8%8B.ipynb#X33sZmlsZQ%3D%3D?line=16'>17</a>\u001b[0m time\u001b[39m.\u001b[39;49msleep(\u001b[39m0.5\u001b[39;49m)\n",
      "\u001b[1;31mKeyboardInterrupt\u001b[0m: "
     ]
    }
   ],
   "source": [
    "# coding=utf-8\n",
    "from greenlet import greenlet\n",
    "import time\n",
    "\n",
    "\n",
    "def test1():\n",
    "    # 定义函数test1，用于在协程gr1中执行\n",
    "    while True:\n",
    "        print(\"---A--\")\n",
    "        gr2.switch() # 切换到gr2中运行\n",
    "        time.sleep(0.5)\n",
    "    \n",
    "\n",
    "def test2():\n",
    "    # 定义函数test2，用于在协程gr2中执行\n",
    "    while True:\n",
    "        print(\"---B--\")\n",
    "        gr1.switch() # 切换到gr1中运行\n",
    "        time.sleep(0.5)\n",
    "\n",
    "# 创建协程gr1和gr2，并分别将test1和test2函数作为它们的target\n",
    "gr1 = greenlet(test1)\n",
    "gr2 = greenlet(test2)\n",
    "# 切换到gr1 中运行\n",
    "gr1.switch()\n"
   ]
  },
  {
   "attachments": {},
   "cell_type": "markdown",
   "metadata": {},
   "source": [
    "# 7.5 gevent\n",
    "## 1 gevent 的使用方法\n",
    "当一个greenlet 遇到IO操作时，比如访问网络阻塞，就自动切换到其他的协程"
   ]
  },
  {
   "cell_type": "code",
   "execution_count": 24,
   "metadata": {},
   "outputs": [
    {
     "name": "stdout",
     "output_type": "stream",
     "text": [
      "<Greenlet at 0x13806bad540: f(5)> 0\n",
      "<Greenlet at 0x13806bad540: f(5)> 1\n",
      "<Greenlet at 0x13806bad540: f(5)> 2\n",
      "<Greenlet at 0x13806bad540: f(5)> 3\n",
      "<Greenlet at 0x13806bad540: f(5)> 4\n",
      "<Greenlet at 0x13806c67860: f(5)> 0\n",
      "<Greenlet at 0x13806c67860: f(5)> 1\n",
      "<Greenlet at 0x13806c67860: f(5)> 2\n",
      "<Greenlet at 0x13806c67860: f(5)> 3\n",
      "<Greenlet at 0x13806c67860: f(5)> 4\n",
      "<Greenlet at 0x13806c679a0: f(5)> 0\n",
      "<Greenlet at 0x13806c679a0: f(5)> 1\n",
      "<Greenlet at 0x13806c679a0: f(5)> 2\n",
      "<Greenlet at 0x13806c679a0: f(5)> 3\n",
      "<Greenlet at 0x13806c679a0: f(5)> 4\n"
     ]
    }
   ],
   "source": [
    "import gevent\n",
    "def f(n):\n",
    "    for i in range(n):\n",
    "        print(gevent.getcurrent(), i) # 输出协程的标识符和数字\n",
    "g1 = gevent.spawn(f, 5)\n",
    "g2 = gevent.spawn(f, 5)\n",
    "g3 = gevent.spawn(f, 5)\n",
    "g1.join() # 等待协程执行完毕\n",
    "g2.join()\n",
    "g3.join()"
   ]
  },
  {
   "attachments": {},
   "cell_type": "markdown",
   "metadata": {},
   "source": [
    "## 2. gevent 切换执行"
   ]
  },
  {
   "cell_type": "code",
   "execution_count": 25,
   "metadata": {},
   "outputs": [
    {
     "name": "stdout",
     "output_type": "stream",
     "text": [
      "<Greenlet at 0x13804a25900: f(5)> 0\n",
      "<Greenlet at 0x13806c67cc0: f(5)> 0\n",
      "<Greenlet at 0x13806c67860: f(5)> 0\n",
      "<Greenlet at 0x13804a25900: f(5)> 1\n",
      "<Greenlet at 0x13806c67cc0: f(5)> 1\n",
      "<Greenlet at 0x13806c67860: f(5)> 1\n",
      "<Greenlet at 0x13804a25900: f(5)> 2\n",
      "<Greenlet at 0x13806c67cc0: f(5)> 2\n",
      "<Greenlet at 0x13806c67860: f(5)> 2\n",
      "<Greenlet at 0x13804a25900: f(5)> 3\n",
      "<Greenlet at 0x13806c67cc0: f(5)> 3\n",
      "<Greenlet at 0x13806c67860: f(5)> 3\n"
     ]
    },
    {
     "name": "stderr",
     "output_type": "stream",
     "text": [
      "Traceback (most recent call last):\n",
      "  File \"c:\\Users\\Jackie r9k7\\AppData\\Local\\Programs\\Python\\Python38\\lib\\site-packages\\gevent\\_ffi\\loop.py\", line 270, in python_check_callback\n",
      "    def python_check_callback(self, watcher_ptr): # pylint:disable=unused-argument\n",
      "KeyboardInterrupt\n",
      "2023-03-10T08:31:12Z\n"
     ]
    },
    {
     "ename": "KeyboardInterrupt",
     "evalue": "",
     "output_type": "error",
     "traceback": [
      "\u001b[1;31m---------------------------------------------------------------------------\u001b[0m",
      "\u001b[1;31mKeyboardInterrupt\u001b[0m                         Traceback (most recent call last)",
      "\u001b[1;32md:\\Codes\\王道Python\\day21\\协程.ipynb 单元格 22\u001b[0m in \u001b[0;36m<cell line: 11>\u001b[1;34m()\u001b[0m\n\u001b[0;32m      <a href='vscode-notebook-cell:/d%3A/Codes/%E7%8E%8B%E9%81%93Python/day21/%E5%8D%8F%E7%A8%8B.ipynb#X43sZmlsZQ%3D%3D?line=8'>9</a>\u001b[0m g2 \u001b[39m=\u001b[39m gevent\u001b[39m.\u001b[39mspawn(f, \u001b[39m5\u001b[39m)\n\u001b[0;32m     <a href='vscode-notebook-cell:/d%3A/Codes/%E7%8E%8B%E9%81%93Python/day21/%E5%8D%8F%E7%A8%8B.ipynb#X43sZmlsZQ%3D%3D?line=9'>10</a>\u001b[0m g3 \u001b[39m=\u001b[39m gevent\u001b[39m.\u001b[39mspawn(f, \u001b[39m5\u001b[39m)\n\u001b[1;32m---> <a href='vscode-notebook-cell:/d%3A/Codes/%E7%8E%8B%E9%81%93Python/day21/%E5%8D%8F%E7%A8%8B.ipynb#X43sZmlsZQ%3D%3D?line=10'>11</a>\u001b[0m g1\u001b[39m.\u001b[39mjoin()\n\u001b[0;32m     <a href='vscode-notebook-cell:/d%3A/Codes/%E7%8E%8B%E9%81%93Python/day21/%E5%8D%8F%E7%A8%8B.ipynb#X43sZmlsZQ%3D%3D?line=11'>12</a>\u001b[0m g2\u001b[39m.\u001b[39mjoin()\n\u001b[0;32m     <a href='vscode-notebook-cell:/d%3A/Codes/%E7%8E%8B%E9%81%93Python/day21/%E5%8D%8F%E7%A8%8B.ipynb#X43sZmlsZQ%3D%3D?line=12'>13</a>\u001b[0m g3\u001b[39m.\u001b[39mjoin()\n",
      "File \u001b[1;32msrc\\\\gevent\\\\greenlet.py:833\u001b[0m, in \u001b[0;36mgevent._gevent_cgreenlet.Greenlet.join\u001b[1;34m()\u001b[0m\n",
      "File \u001b[1;32msrc\\\\gevent\\\\greenlet.py:859\u001b[0m, in \u001b[0;36mgevent._gevent_cgreenlet.Greenlet.join\u001b[1;34m()\u001b[0m\n",
      "File \u001b[1;32msrc\\\\gevent\\\\greenlet.py:848\u001b[0m, in \u001b[0;36mgevent._gevent_cgreenlet.Greenlet.join\u001b[1;34m()\u001b[0m\n",
      "File \u001b[1;32msrc\\\\gevent\\\\_greenlet_primitives.py:61\u001b[0m, in \u001b[0;36mgevent._gevent_c_greenlet_primitives.SwitchOutGreenletWithLoop.switch\u001b[1;34m()\u001b[0m\n",
      "File \u001b[1;32msrc\\\\gevent\\\\_greenlet_primitives.py:61\u001b[0m, in \u001b[0;36mgevent._gevent_c_greenlet_primitives.SwitchOutGreenletWithLoop.switch\u001b[1;34m()\u001b[0m\n",
      "File \u001b[1;32msrc\\\\gevent\\\\_greenlet_primitives.py:65\u001b[0m, in \u001b[0;36mgevent._gevent_c_greenlet_primitives.SwitchOutGreenletWithLoop.switch\u001b[1;34m()\u001b[0m\n",
      "File \u001b[1;32msrc\\\\gevent\\\\_gevent_c_greenlet_primitives.pxd:35\u001b[0m, in \u001b[0;36mgevent._gevent_c_greenlet_primitives._greenlet_switch\u001b[1;34m()\u001b[0m\n",
      "File \u001b[1;32mc:\\Users\\Jackie r9k7\\AppData\\Local\\Programs\\Python\\Python38\\lib\\site-packages\\gevent\\_ffi\\loop.py:270\u001b[0m, in \u001b[0;36mAbstractCallbacks.python_check_callback\u001b[1;34m(self, watcher_ptr)\u001b[0m\n\u001b[0;32m    267\u001b[0m     watcher\u001b[39m.\u001b[39mstop()\n\u001b[0;32m    269\u001b[0m \u001b[39mif\u001b[39;00m \u001b[39mnot\u001b[39;00m PYPY:\n\u001b[1;32m--> 270\u001b[0m     \u001b[39mdef\u001b[39;00m \u001b[39mpython_check_callback\u001b[39m(\u001b[39mself\u001b[39m, watcher_ptr): \u001b[39m# pylint:disable=unused-argument\u001b[39;00m\n\u001b[0;32m    271\u001b[0m         \u001b[39m# If we have the onerror callback, this is a no-op; all the real\u001b[39;00m\n\u001b[0;32m    272\u001b[0m         \u001b[39m# work to rethrow the exception is done by the onerror callback\u001b[39;00m\n\u001b[0;32m    273\u001b[0m \n\u001b[0;32m    274\u001b[0m         \u001b[39m# NOTE: Unlike the rest of the functions, this is called with a pointer\u001b[39;00m\n\u001b[0;32m    275\u001b[0m         \u001b[39m# to the C level structure, *not* a pointer to the void* that represents a\u001b[39;00m\n\u001b[0;32m    276\u001b[0m         \u001b[39m# <cdata> for the Python Watcher object.\u001b[39;00m\n\u001b[0;32m    277\u001b[0m         \u001b[39mpass\u001b[39;00m\n\u001b[0;32m    278\u001b[0m \u001b[39melse\u001b[39;00m: \u001b[39m# PyPy\u001b[39;00m\n\u001b[0;32m    279\u001b[0m     \u001b[39m# On PyPy, we need the function to have some sort of body, otherwise\u001b[39;00m\n\u001b[0;32m    280\u001b[0m     \u001b[39m# the signal exceptions don't always get caught, *especially* with\u001b[39;00m\n\u001b[1;32m   (...)\u001b[0m\n\u001b[0;32m    284\u001b[0m     \u001b[39m# test_socket's test_sendall_interrupted can hang.\u001b[39;00m\n\u001b[0;32m    285\u001b[0m     \u001b[39m# See https://github.com/gevent/gevent/issues/1112\u001b[39;00m\n",
      "\u001b[1;31mKeyboardInterrupt\u001b[0m: "
     ]
    }
   ],
   "source": [
    "import gevent\n",
    "def f(n):\n",
    "    for i in range(n):\n",
    "        print(gevent.getcurrent(), i)\n",
    "        #用来模拟一个耗时操作，注意不是time 模块中的sleep\n",
    "        gevent.sleep(1)\n",
    "\n",
    "g1 = gevent.spawn(f, 5)\n",
    "g2 = gevent.spawn(f, 5)\n",
    "g3 = gevent.spawn(f, 5)\n",
    "g1.join()\n",
    "g2.join()\n",
    "g3.join()"
   ]
  },
  {
   "attachments": {},
   "cell_type": "markdown",
   "metadata": {},
   "source": [
    "## 3. 给程序打补丁"
   ]
  },
  {
   "cell_type": "code",
   "execution_count": 26,
   "metadata": {},
   "outputs": [
    {
     "name": "stdout",
     "output_type": "stream",
     "text": [
      "<Greenlet at 0x13804a25900: f(5)> 4\n",
      "<Greenlet at 0x13806c67cc0: f(5)> 4\n",
      "<Greenlet at 0x13806c67860: f(5)> 4\n",
      "work1 0\n",
      "work1 1\n",
      "work1 2\n",
      "work1 3\n",
      "work1 4\n",
      "work1 5\n",
      "work1 6\n",
      "work1 7\n",
      "work1 8\n"
     ]
    },
    {
     "name": "stderr",
     "output_type": "stream",
     "text": [
      "Traceback (most recent call last):\n",
      "  File \"src\\\\gevent\\\\greenlet.py\", line 908, in gevent._gevent_cgreenlet.Greenlet.run\n",
      "  File \"C:\\Users\\Jackie r9k7\\AppData\\Local\\Temp\\ipykernel_10712\\1725840662.py\", line 10, in coroutine_work\n",
      "    time.sleep(random.random())\n",
      "KeyboardInterrupt\n",
      "2023-03-10T08:31:37Z <Greenlet at 0x13806ee6f40: coroutine_work('work1')> failed with KeyboardInterrupt\n",
      "\n"
     ]
    },
    {
     "ename": "KeyboardInterrupt",
     "evalue": "",
     "output_type": "error",
     "traceback": [
      "\u001b[1;31m---------------------------------------------------------------------------\u001b[0m",
      "\u001b[1;31mKeyboardInterrupt\u001b[0m                         Traceback (most recent call last)",
      "\u001b[1;32md:\\Codes\\王道Python\\day21\\协程.ipynb 单元格 24\u001b[0m in \u001b[0;36m<cell line: 13>\u001b[1;34m()\u001b[0m\n\u001b[0;32m      <a href='vscode-notebook-cell:/d%3A/Codes/%E7%8E%8B%E9%81%93Python/day21/%E5%8D%8F%E7%A8%8B.ipynb#X51sZmlsZQ%3D%3D?line=8'>9</a>\u001b[0m         \u001b[39mprint\u001b[39m(coroutine_name, i)\n\u001b[0;32m     <a href='vscode-notebook-cell:/d%3A/Codes/%E7%8E%8B%E9%81%93Python/day21/%E5%8D%8F%E7%A8%8B.ipynb#X51sZmlsZQ%3D%3D?line=9'>10</a>\u001b[0m         time\u001b[39m.\u001b[39msleep(random\u001b[39m.\u001b[39mrandom())\n\u001b[1;32m---> <a href='vscode-notebook-cell:/d%3A/Codes/%E7%8E%8B%E9%81%93Python/day21/%E5%8D%8F%E7%A8%8B.ipynb#X51sZmlsZQ%3D%3D?line=12'>13</a>\u001b[0m gevent\u001b[39m.\u001b[39mjoinall([\n\u001b[0;32m     <a href='vscode-notebook-cell:/d%3A/Codes/%E7%8E%8B%E9%81%93Python/day21/%E5%8D%8F%E7%A8%8B.ipynb#X51sZmlsZQ%3D%3D?line=13'>14</a>\u001b[0m     gevent\u001b[39m.\u001b[39mspawn(coroutine_work, \u001b[39m\"\u001b[39m\u001b[39mwork1\u001b[39m\u001b[39m\"\u001b[39m),\n\u001b[0;32m     <a href='vscode-notebook-cell:/d%3A/Codes/%E7%8E%8B%E9%81%93Python/day21/%E5%8D%8F%E7%A8%8B.ipynb#X51sZmlsZQ%3D%3D?line=14'>15</a>\u001b[0m     gevent\u001b[39m.\u001b[39mspawn(coroutine_work, \u001b[39m\"\u001b[39m\u001b[39mwork2\u001b[39m\u001b[39m\"\u001b[39m)\n\u001b[0;32m     <a href='vscode-notebook-cell:/d%3A/Codes/%E7%8E%8B%E9%81%93Python/day21/%E5%8D%8F%E7%A8%8B.ipynb#X51sZmlsZQ%3D%3D?line=15'>16</a>\u001b[0m ])\n",
      "File \u001b[1;32msrc\\\\gevent\\\\greenlet.py:1065\u001b[0m, in \u001b[0;36mgevent._gevent_cgreenlet.joinall\u001b[1;34m()\u001b[0m\n",
      "File \u001b[1;32msrc\\\\gevent\\\\greenlet.py:1075\u001b[0m, in \u001b[0;36mgevent._gevent_cgreenlet.joinall\u001b[1;34m()\u001b[0m\n",
      "File \u001b[1;32msrc\\\\gevent\\\\_hub_primitives.py:250\u001b[0m, in \u001b[0;36mgevent._gevent_c_hub_primitives.wait_on_objects\u001b[1;34m()\u001b[0m\n",
      "File \u001b[1;32msrc\\\\gevent\\\\_hub_primitives.py:287\u001b[0m, in \u001b[0;36mgevent._gevent_c_hub_primitives.wait_on_objects\u001b[1;34m()\u001b[0m\n",
      "File \u001b[1;32msrc\\\\gevent\\\\_hub_primitives.py:185\u001b[0m, in \u001b[0;36mgevent._gevent_c_hub_primitives._WaitIterator.__next__\u001b[1;34m()\u001b[0m\n",
      "File \u001b[1;32msrc\\\\gevent\\\\_hub_primitives.py:176\u001b[0m, in \u001b[0;36mgevent._gevent_c_hub_primitives._WaitIterator.__next__\u001b[1;34m()\u001b[0m\n",
      "File \u001b[1;32msrc\\\\gevent\\\\_waiter.py:195\u001b[0m, in \u001b[0;36mgevent._gevent_c_waiter.MultipleWaiter.get\u001b[1;34m()\u001b[0m\n",
      "File \u001b[1;32msrc\\\\gevent\\\\_waiter.py:154\u001b[0m, in \u001b[0;36mgevent._gevent_c_waiter.Waiter.get\u001b[1;34m()\u001b[0m\n",
      "File \u001b[1;32msrc\\\\gevent\\\\_greenlet_primitives.py:61\u001b[0m, in \u001b[0;36mgevent._gevent_c_greenlet_primitives.SwitchOutGreenletWithLoop.switch\u001b[1;34m()\u001b[0m\n",
      "File \u001b[1;32msrc\\\\gevent\\\\_greenlet_primitives.py:61\u001b[0m, in \u001b[0;36mgevent._gevent_c_greenlet_primitives.SwitchOutGreenletWithLoop.switch\u001b[1;34m()\u001b[0m\n",
      "File \u001b[1;32msrc\\\\gevent\\\\_greenlet_primitives.py:65\u001b[0m, in \u001b[0;36mgevent._gevent_c_greenlet_primitives.SwitchOutGreenletWithLoop.switch\u001b[1;34m()\u001b[0m\n",
      "File \u001b[1;32msrc\\\\gevent\\\\_gevent_c_greenlet_primitives.pxd:35\u001b[0m, in \u001b[0;36mgevent._gevent_c_greenlet_primitives._greenlet_switch\u001b[1;34m()\u001b[0m\n",
      "File \u001b[1;32msrc\\\\gevent\\\\greenlet.py:908\u001b[0m, in \u001b[0;36mgevent._gevent_cgreenlet.Greenlet.run\u001b[1;34m()\u001b[0m\n",
      "\u001b[1;32md:\\Codes\\王道Python\\day21\\协程.ipynb 单元格 24\u001b[0m in \u001b[0;36mcoroutine_work\u001b[1;34m(coroutine_name)\u001b[0m\n\u001b[0;32m      <a href='vscode-notebook-cell:/d%3A/Codes/%E7%8E%8B%E9%81%93Python/day21/%E5%8D%8F%E7%A8%8B.ipynb#X51sZmlsZQ%3D%3D?line=7'>8</a>\u001b[0m \u001b[39mfor\u001b[39;00m i \u001b[39min\u001b[39;00m \u001b[39mrange\u001b[39m(\u001b[39m10\u001b[39m):\n\u001b[0;32m      <a href='vscode-notebook-cell:/d%3A/Codes/%E7%8E%8B%E9%81%93Python/day21/%E5%8D%8F%E7%A8%8B.ipynb#X51sZmlsZQ%3D%3D?line=8'>9</a>\u001b[0m     \u001b[39mprint\u001b[39m(coroutine_name, i)\n\u001b[1;32m---> <a href='vscode-notebook-cell:/d%3A/Codes/%E7%8E%8B%E9%81%93Python/day21/%E5%8D%8F%E7%A8%8B.ipynb#X51sZmlsZQ%3D%3D?line=9'>10</a>\u001b[0m     time\u001b[39m.\u001b[39;49msleep(random\u001b[39m.\u001b[39;49mrandom())\n",
      "\u001b[1;31mKeyboardInterrupt\u001b[0m: "
     ]
    },
    {
     "ename": "",
     "evalue": "",
     "output_type": "error",
     "traceback": [
      "\u001b[1;31m在当前单元格或上一个单元格中执行代码时 Kernel 崩溃。请查看单元格中的代码，以确定故障的可能原因。有关详细信息，请单击 <a href='https://aka.ms/vscodeJupyterKernelCrash'>此处</a>。有关更多详细信息，请查看 Jupyter <a href='command:jupyter.viewOutput'>log</a>。"
     ]
    }
   ],
   "source": [
    "from gevent import monkey\n",
    "import gevent\n",
    "import random\n",
    "import time\n",
    "\n",
    "\n",
    "def coroutine_work(coroutine_name):\n",
    "    for i in range(10):\n",
    "        print(coroutine_name, i)\n",
    "        time.sleep(random.random())\n",
    "\n",
    "\n",
    "gevent.joinall([\n",
    "    gevent.spawn(coroutine_work, \"work1\"),\n",
    "    gevent.spawn(coroutine_work, \"work2\")\n",
    "]) # 用gevent.joinall()来启动协程\n"
   ]
  },
  {
   "attachments": {},
   "cell_type": "markdown",
   "metadata": {},
   "source": [
    "# 7.7 并发下载器\n",
    "## 并发下载原理"
   ]
  },
  {
   "cell_type": "code",
   "execution_count": null,
   "metadata": {},
   "outputs": [],
   "source": [
    "from gevent import monkey\n",
    "import gevent\n",
    "import requests\n",
    "# 有耗时操作时需要\n",
    "monkey.patch_all()\n",
    "\n",
    "\n",
    "def my_downLoad(url):\n",
    "    print('GET: %s' % url)\n",
    "    response = requests.get(url)\n",
    "    data = response.text\n",
    "    print('%d bytes received from %s.' % (len(data), url))\n",
    "\n",
    "\n",
    "gevent.joinall([\n",
    "    gevent.spawn(my_downLoad, 'http://www.baidu.com/'),\n",
    "    gevent.spawn(my_downLoad, 'http://www.cskaoyan.com/'),\n",
    "    gevent.spawn(my_downLoad, 'http://www.qq.com/'),\n",
    "])\n"
   ]
  },
  {
   "attachments": {},
   "cell_type": "markdown",
   "metadata": {},
   "source": [
    "## 实现多个图片，音乐，电影下载"
   ]
  },
  {
   "cell_type": "code",
   "execution_count": null,
   "metadata": {},
   "outputs": [],
   "source": [
    "from gevent import monkey\n",
    "import gevent\n",
    "import requests\n",
    "#有IO 才做时需要这一句\n",
    "monkey.patch_all()\n",
    "def my_downLoad(file_name, url):\n",
    "    print('GET: %s' % url)\n",
    "    response = requests.get(url)\n",
    "    data = response.text\n",
    "    with open(file_name, \"wb\") as f:\n",
    "        f.write(data)\n",
    "    print('%d bytes received from %s.' % (len(data), url))\n",
    "gevent.joinall([\n",
    "    gevent.spawn(my_downLoad,\n",
    "    \"7a082c0dde36eac2205a088397aaf295.jpg\",\n",
    "    'http://qzs.qq.com/qzone/v6/v6_config/upload/7a082c0dde36eac2205a088397aaf295.jpg'),\n",
    "    gevent.spawn(my_downLoad, \"da8e974dc_is.jpg\",\n",
    "    'https://pic1.zhimg.com/da8e974dc_is.jpg'),\n",
    "])"
   ]
  }
 ],
 "metadata": {
  "kernelspec": {
   "display_name": "Python 3",
   "language": "python",
   "name": "python3"
  },
  "language_info": {
   "codemirror_mode": {
    "name": "ipython",
    "version": 3
   },
   "file_extension": ".py",
   "mimetype": "text/x-python",
   "name": "python",
   "nbconvert_exporter": "python",
   "pygments_lexer": "ipython3",
   "version": "3.8.10"
  },
  "orig_nbformat": 4
 },
 "nbformat": 4,
 "nbformat_minor": 2
}
