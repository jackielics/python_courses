{
 "cells": [
  {
   "attachments": {},
   "cell_type": "markdown",
   "metadata": {},
   "source": [
    "# 1、\t使用装饰器实现函数执行时间统计"
   ]
  },
  {
   "cell_type": "code",
   "execution_count": null,
   "metadata": {},
   "outputs": [],
   "source": [
    "from time import ctime, sleep\n",
    "\n",
    "\n",
    "def timefun(func):\n",
    "    def wrapped_func():\n",
    "        print(\"%s called at %s\" % (func.__name__, ctime()))\n",
    "        # func() # 直接执行func()，ret为None\n",
    "        return func() # 返回func()，ret为func()的返回值\n",
    "\n",
    "    return wrapped_func # ret为None\n",
    "\n",
    "\n",
    "@timefun\n",
    "def foo():\n",
    "    print(\"I am foo\")\n",
    "\n",
    "\n",
    "@timefun\n",
    "def getInfo():\n",
    "    return '----hahah---'\n",
    "\n",
    "\n",
    "foo()\n",
    "sleep(1)\n",
    "foo()\n",
    "ret = getInfo()\n",
    "print(ret)\n"
   ]
  },
  {
   "attachments": {},
   "cell_type": "markdown",
   "metadata": {},
   "source": [
    "# 2、\t有参数函数的装饰练习"
   ]
  },
  {
   "cell_type": "code",
   "execution_count": null,
   "metadata": {},
   "outputs": [],
   "source": [
    "from time import ctime, sleep\n",
    "\n",
    "\n",
    "def timefun_arg(pre=\"hello\"):\n",
    "    def timefun(func):\n",
    "        def wrapped_func():\n",
    "            print(\"%s called at %s %s\" % (func.__name__, ctime(), pre))\n",
    "            return func()\n",
    "        return wrapped_func\n",
    "    return timefun\n",
    "# 下面的装饰过程\n",
    "# 1. 调用timefun_arg(\"wangdao\")\n",
    "# 2. 将步骤1 得到的返回值，即time_fun 返回， 然后time_fun(foo)\n",
    "# 3. 将time_fun(foo)的结果返回，即wrapped_func\n",
    "# 4. 让foo = wrapped_fun，即foo 现在指向wrapped_func\n",
    "\n",
    "\n",
    "@timefun_arg(\"wangdao\")\n",
    "def foo():\n",
    "    print(\"I am foo\")\n",
    "\n",
    "\n",
    "@timefun_arg(\"python\")\n",
    "def too():\n",
    "    print(\"I am too\")\n",
    "\n",
    "\n",
    "foo()\n",
    "sleep(2)\n",
    "foo()\n",
    "too()\n",
    "sleep(2)\n",
    "too()\n"
   ]
  },
  {
   "attachments": {},
   "cell_type": "markdown",
   "metadata": {},
   "source": [
    "# 3、\t可变参数函数的装饰练习"
   ]
  },
  {
   "cell_type": "code",
   "execution_count": 1,
   "metadata": {},
   "outputs": [
    {
     "name": "stdout",
     "output_type": "stream",
     "text": [
      "---开始进行装饰\n",
      "---这是权限验证1----\n",
      "---这是权限验证2----\n",
      "-----test1----100\n",
      "-----test1---- ()\n",
      "-----test1---- {}\n",
      "---这是权限验证1----\n",
      "---这是权限验证2----\n",
      "-----test1----100\n",
      "-----test1---- (200,)\n",
      "-----test1---- {}\n",
      "---这是权限验证1----\n",
      "---这是权限验证2----\n",
      "-----test1----100\n",
      "-----test1---- (200, 300)\n",
      "-----test1---- {'mm': 100}\n"
     ]
    }
   ],
   "source": [
    "def set_func(func):\n",
    "    print(\"---开始进行装饰\")\n",
    "\n",
    "    def call_func(*args, **kwargs):\n",
    "        print(\"---这是权限验证1----\")\n",
    "        print(\"---这是权限验证2----\")\n",
    "        # func(args, kwargs) # 不行，相当于传递了2 个参数：1 个元组，1 个字典\n",
    "        func(*args, **kwargs)  # 拆包的过程\n",
    "    return call_func\n",
    "\n",
    "\n",
    "@set_func  # 相当于test1 = set_func(test1)\n",
    "def test1(num, *args, **kwargs):\n",
    "    print(\"-----test1----%d\" % num)\n",
    "    print(\"-----test1----\", args)\n",
    "    print(\"-----test1----\", kwargs)\n",
    "\n",
    "\n",
    "test1(100)\n",
    "test1(100, 200)\n",
    "test1(100, 200, 300, mm=100)\n"
   ]
  },
  {
   "attachments": {},
   "cell_type": "markdown",
   "metadata": {},
   "source": [
    "# 4、\t装饰器中如果不使用return func(),那么最终的返回值是多少，练习一下"
   ]
  },
  {
   "cell_type": "code",
   "execution_count": null,
   "metadata": {},
   "outputs": [],
   "source": [
    "from time import ctime, sleep\n",
    "\n",
    "\n",
    "def timefun(func):\n",
    "    def wrapped_func():\n",
    "        print(\"%s called at %s\" % (func.__name__, ctime()))\n",
    "        # func() # 直接执行func()，ret为None\n",
    "        return func() # 返回func()，ret为func()的返回值\n",
    "\n",
    "    return wrapped_func # ret为None\n",
    "\n",
    "\n",
    "@timefun\n",
    "def foo():\n",
    "    print(\"I am foo\")\n",
    "\n",
    "\n",
    "@timefun\n",
    "def getInfo():\n",
    "    return '----hahah---'\n",
    "\n",
    "\n",
    "foo()\n",
    "sleep(1)\n",
    "foo()\n",
    "ret = getInfo()\n",
    "print(ret)\n"
   ]
  },
  {
   "attachments": {},
   "cell_type": "markdown",
   "metadata": {},
   "source": [
    "# 5、\t如何在装饰时带参数"
   ]
  },
  {
   "cell_type": "code",
   "execution_count": null,
   "metadata": {},
   "outputs": [],
   "source": [
    "from time import ctime, sleep\n",
    "\n",
    "\n",
    "def timefun_arg(pre=\"hello\"):\n",
    "    def timefun(func):\n",
    "        def wrapped_func():\n",
    "            print(\"%s called at %s %s\" % (func.__name__, ctime(), pre))\n",
    "            return func()\n",
    "        return wrapped_func\n",
    "    return timefun\n",
    "# 下面的装饰过程\n",
    "# 1. 调用timefun_arg(\"wangdao\")\n",
    "# 2. 将步骤1 得到的返回值，即time_fun 返回， 然后time_fun(foo)\n",
    "# 3. 将time_fun(foo)的结果返回，即wrapped_func\n",
    "# 4. 让foo = wrapped_fun，即foo 现在指向wrapped_func\n",
    "\n",
    "\n",
    "@timefun_arg(\"wangdao\")\n",
    "def foo():\n",
    "    print(\"I am foo\")\n",
    "\n",
    "\n",
    "@timefun_arg(\"python\")\n",
    "def too():\n",
    "    print(\"I am too\")\n",
    "\n",
    "\n",
    "foo()\n",
    "sleep(2)\n",
    "foo()\n",
    "too()\n",
    "sleep(2)\n",
    "too()\n"
   ]
  },
  {
   "attachments": {},
   "cell_type": "markdown",
   "metadata": {},
   "source": [
    "# 6、\t使用类装饰器"
   ]
  },
  {
   "cell_type": "code",
   "execution_count": 2,
   "metadata": {},
   "outputs": [
    {
     "name": "stdout",
     "output_type": "stream",
     "text": [
      "---初始化---\n",
      "func name is test\n",
      "---装饰器中的功能---\n",
      "----test---\n"
     ]
    }
   ],
   "source": [
    "class Test(object):\n",
    "    def __init__(self, func):\n",
    "        print(\"---初始化---\")\n",
    "        print(\"func name is %s\" % func.__name__)\n",
    "        self.__func = func\n",
    "\n",
    "    def __call__(self):\n",
    "        print(\"---装饰器中的功能---\")\n",
    "        self.__func()\n",
    "\n",
    "\n",
    "@Test  # 相当于test = Test(test)\n",
    "def test():\n",
    "    print(\"----test---\")\n",
    "\n",
    "\n",
    "test()  # 注释掉依然会看到：\"--初始化--\" func name is test\n"
   ]
  },
  {
   "attachments": {},
   "cell_type": "markdown",
   "metadata": {},
   "source": [
    "# 7、warps使用，确保备注正确"
   ]
  },
  {
   "cell_type": "code",
   "execution_count": 3,
   "metadata": {},
   "outputs": [
    {
     "name": "stdout",
     "output_type": "stream",
     "text": [
      "wper \t\t\t decorator\n"
     ]
    }
   ],
   "source": [
    "from functools import wraps\n",
    "def my_decorator(func):\n",
    "    def wper(*args, **kwargs):\n",
    "        '''decorator'''\n",
    "        print('Calling decorated function...')\n",
    "        return func(*args, **kwargs)\n",
    "    return wper\n",
    "\n",
    "@my_decorator\n",
    "def example():\n",
    "    \"\"\"Docstring\"\"\"\n",
    "    print('Called example function')\n",
    "\n",
    "print(example.__name__, \"\\t\\t\\t\", example.__doc__)#函数名和文档字符串已经被覆盖\n"
   ]
  },
  {
   "cell_type": "code",
   "execution_count": 4,
   "metadata": {},
   "outputs": [
    {
     "name": "stdout",
     "output_type": "stream",
     "text": [
      "example \t\t\t Docstring\n"
     ]
    }
   ],
   "source": [
    "from functools import wraps\n",
    "\n",
    "\n",
    "def my_decorator(func):\n",
    "    @wraps(func) # 保留原函数的元信息\n",
    "    def wper(*args, **kwargs):\n",
    "        '''decorator'''\n",
    "        print('Calling decorated function...')\n",
    "        return func(*args, **kwargs)\n",
    "    return wper\n",
    "\n",
    "\n",
    "@my_decorator\n",
    "def example():\n",
    "    \"\"\"Docstring\"\"\"\n",
    "    print('Called example function')\n",
    "\n",
    "\n",
    "print(example.__name__, \"\\t\\t\\t\", example.__doc__)  # 函数名和文档字符串还是原来的\n"
   ]
  },
  {
   "cell_type": "markdown",
   "metadata": {},
   "source": []
  }
 ],
 "metadata": {
  "kernelspec": {
   "display_name": "Python 3",
   "language": "python",
   "name": "python3"
  },
  "language_info": {
   "codemirror_mode": {
    "name": "ipython",
    "version": 3
   },
   "file_extension": ".py",
   "mimetype": "text/x-python",
   "name": "python",
   "nbconvert_exporter": "python",
   "pygments_lexer": "ipython3",
   "version": "3.8.10"
  },
  "orig_nbformat": 4
 },
 "nbformat": 4,
 "nbformat_minor": 2
}
