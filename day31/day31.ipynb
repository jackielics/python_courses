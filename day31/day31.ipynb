{
 "cells": [
  {
   "attachments": {},
   "cell_type": "markdown",
   "metadata": {},
   "source": [
    "# 1 多继承以及MRO 顺序\n",
    "## 1.1. 单独调用父类的方法\n",
    "父类__init__()方法会被调用多次，重复初始化可能会出错————“钻石继承里的菱形继承”"
   ]
  },
  {
   "cell_type": "code",
   "execution_count": 2,
   "metadata": {},
   "outputs": [
    {
     "name": "stdout",
     "output_type": "stream",
     "text": [
      "******多继承使用类名.__init__ 发生的状态******\n",
      "(<class '__main__.Grandson'>, <class '__main__.Son1'>, <class '__main__.Son2'>, <class '__main__.Parent'>, <class 'object'>)\n",
      "Grandson 的init 开始被调用\n",
      "Son1 的init 开始被调用\n",
      "parent 的init 开始被调用\n",
      "parent 的init 结束被调用\n",
      "Son1 的init 结束被调用\n",
      "Son2 的init 开始被调用\n",
      "parent 的init 开始被调用\n",
      "parent 的init 结束被调用\n",
      "Son2 的init 结束被调用\n",
      "Grandson 的init 结束被调用\n",
      "姓名： grandson\n",
      "年龄： 12\n",
      "性别： 男\n"
     ]
    }
   ],
   "source": [
    "# coding=utf-8\n",
    "print(\"******多继承使用类名.__init__ 发生的状态******\")\n",
    "\n",
    "\n",
    "class Parent(object):\n",
    "    def __init__(self, name):\n",
    "        print('parent 的init 开始被调用')\n",
    "        self.name = name\n",
    "        print('parent 的init 结束被调用')\n",
    "\n",
    "\n",
    "class Son1(Parent):\n",
    "    def __init__(self, name, age):\n",
    "        print('Son1 的init 开始被调用')\n",
    "        self.age = age\n",
    "        Parent.__init__(self, name)\n",
    "        print('Son1 的init 结束被调用')\n",
    "\n",
    "\n",
    "class Son2(Parent):\n",
    "    def __init__(self, name, gender):\n",
    "        print('Son2 的init 开始被调用')\n",
    "        self.gender = gender\n",
    "        Parent.__init__(self, name)\n",
    "        print('Son2 的init 结束被调用')\n",
    "\n",
    "\n",
    "class Grandson(Son1, Son2):\n",
    "    def __init__(self, name, age, gender):\n",
    "        print('Grandson 的init 开始被调用')\n",
    "        Son1.__init__(self, name, age)  # 单独调用父类的初始化方法\n",
    "        Son2.__init__(self, name, gender)\n",
    "        print('Grandson 的init 结束被调用')\n",
    "\n",
    "print(Grandson.__mro__)\n",
    "gs = Grandson('grandson', 12, '男')\n",
    "print('姓名：', gs.name)\n",
    "print('年龄：', gs.age)\n",
    "print('性别：', gs.gender)"
   ]
  },
  {
   "attachments": {},
   "cell_type": "markdown",
   "metadata": {},
   "source": [
    "## 1.2. 多继承中super 调用有所父类的被重写的方法\n",
    "父类方法会被调用一次"
   ]
  },
  {
   "cell_type": "code",
   "execution_count": 16,
   "metadata": {},
   "outputs": [
    {
     "name": "stdout",
     "output_type": "stream",
     "text": [
      "******多继承使用super().__init__ 发生的状态******\n",
      "(<class '__main__.Grandson'>, <class '__main__.Son1'>, <class '__main__.Son2'>, <class '__main__.Parent'>, <class 'object'>)\n",
      "Grandson 的init 开始被调用\n",
      "Son1 的init 开始被调用\n",
      "Son2 的init 开始被调用\n",
      "parent 的init 开始被调用\n",
      "parent 的init 结束被调用\n",
      "Son2 的init 结束被调用\n",
      "Son1 的init 结束被调用\n",
      "Grandson 的init 结束被调用\n",
      "姓名： grandson\n",
      "年龄： 12\n",
      "性别： 男\n",
      "******多继承使用super().__init__ 发生的状态******\n",
      "\n",
      "\n"
     ]
    }
   ],
   "source": [
    "print(\"******多继承使用super().__init__ 发生的状态******\")\n",
    "\n",
    "\n",
    "class Parent(object):\n",
    "    def __init__(self, name, *args, **kwargs):  # 为避免多继承报错，使用不定长参数，接受参数\n",
    "        print('parent 的init 开始被调用')\n",
    "        self.name = name\n",
    "        print('parent 的init 结束被调用')\n",
    "\n",
    "\n",
    "class Son1(Parent):\n",
    "    def __init__(self, name, age, *args, **kwargs):  # 为避免多继承报错，使用不定长参数，接受参数\n",
    "        print('Son1 的init 开始被调用')\n",
    "        self.age = age\n",
    "        super().__init__(name, *args, **kwargs)  # 会先跳转到Son2的__init__方法，然后再跳转到Parent的__init__方法\n",
    "        print('Son1 的init 结束被调用')\n",
    "\n",
    "\n",
    "class Son2(Parent):\n",
    "    def __init__(self, name, gender, *args, **kwargs):  # 为避免多继承报错，使用不定长参数，接受参数\n",
    "        print('Son2 的init 开始被调用')\n",
    "        self.gender = gender\n",
    "        super().__init__(name, *args, **kwargs)\n",
    "        print('Son2 的init 结束被调用')\n",
    "\n",
    "\n",
    "class Grandson(Son1, Son2):\n",
    "    def __init__(self, name, age, gender):\n",
    "        print('Grandson 的init 开始被调用')\n",
    "        # 多继承时，相对于使用类名.__init__方法，要把每个父类全部写一遍\n",
    "        # 而super 只用一句话，执行了全部父类的方法，这也是为何多继承需要全部传参的一个原因\n",
    "        # super(Grandson, self).__init__(name, age, gender)\n",
    "        super().__init__(name, age, gender)\n",
    "        # 上面两种写法都可以\n",
    "        print('Grandson 的init 结束被调用')\n",
    "\n",
    "\n",
    "print(Grandson.__mro__)  # 打印出来顺序是谁，将来调用的就是谁\n",
    "gs = Grandson('grandson', 12, '男')\n",
    "print('姓名：', gs.name)\n",
    "print('年龄：', gs.age)\n",
    "print('性别：', gs.gender)\n",
    "print(\"******多继承使用super().__init__ 发生的状态******\\n\\n\")\n"
   ]
  },
  {
   "attachments": {},
   "cell_type": "markdown",
   "metadata": {},
   "source": [
    "## 1.3. 单继承中super"
   ]
  },
  {
   "cell_type": "code",
   "execution_count": 1,
   "metadata": {},
   "outputs": [
    {
     "name": "stdout",
     "output_type": "stream",
     "text": [
      "******单继承使用super().__init__ 发生的状态******\n",
      "Grandson 的init 开始被调用\n",
      "Son1 的init 开始被调用\n",
      "parent 的init 开始被调用\n",
      "parent 的init 结束被调用\n",
      "Son1 的init 结束被调用\n",
      "Grandson 的init 结束被调用\n",
      "姓名： grandson\n",
      "年龄： 12\n",
      "******单继承使用super().__init__ 发生的状态******\n",
      "\n",
      "\n"
     ]
    }
   ],
   "source": [
    "print(\"******单继承使用super().__init__ 发生的状态******\")\n",
    "\n",
    "\n",
    "class Parent(object):\n",
    "    def __init__(self, name):\n",
    "        print('parent 的init 开始被调用')\n",
    "        self.name = name\n",
    "        print('parent 的init 结束被调用')\n",
    "\n",
    "\n",
    "class Son1(Parent):\n",
    "    def __init__(self, name, age):\n",
    "        print('Son1 的init 开始被调用')\n",
    "        self.age = age\n",
    "        super().__init__(name)  # 单继承不能提供全部参数\n",
    "        print('Son1 的init 结束被调用')\n",
    "\n",
    "\n",
    "class Grandson(Son1):\n",
    "    def __init__(self, name, age, gender):\n",
    "        print('Grandson 的init 开始被调用')\n",
    "        super().__init__(name, age)  # 单继承不能提供全部参数\n",
    "        print('Grandson 的init 结束被调用')\n",
    "\n",
    "\n",
    "gs = Grandson('grandson', 12, '男')\n",
    "print('姓名：', gs.name)\n",
    "print('年龄：', gs.age)\n",
    "#print('性别：', gs.gender)\n",
    "print(\"******单继承使用super().__init__ 发生的状态******\\n\\n\")\n"
   ]
  },
  {
   "attachments": {},
   "cell_type": "markdown",
   "metadata": {},
   "source": [
    "## 面试题"
   ]
  },
  {
   "cell_type": "code",
   "execution_count": 2,
   "metadata": {},
   "outputs": [
    {
     "name": "stdout",
     "output_type": "stream",
     "text": [
      "1 1 1\n",
      "1 2 1\n",
      "3 2 3\n",
      "**************************************************\n",
      "2 3 3\n",
      "2 3 3\n",
      "2 3 3\n"
     ]
    }
   ],
   "source": [
    "class Parent(object):\n",
    "    x = 1\n",
    "\n",
    "\n",
    "class Child1(Parent):\n",
    "    pass\n",
    "\n",
    "\n",
    "class Child2(Parent):\n",
    "    pass\n",
    "\n",
    "\n",
    "print(Parent.x, Child1.x, Child2.x)\n",
    "Child1.x = 2\n",
    "print(Parent.x, Child1.x, Child2.x)\n",
    "Parent.x = 3\n",
    "print(Parent.x, Child1.x, Child2.x)\n",
    "\n",
    "# 上下两段代码要分开运行，不然结果不一样\n",
    "print(\"*\"*50)\n",
    "c1 = Child1()\n",
    "c2 = Child2()\n",
    "p = Parent()\n",
    "print(c1.x, c2.x, p.x)\n",
    "c1.x = 2\n",
    "print(c1.x, c2.x, p.x)\n",
    "p.x = 3\n",
    "print(c1.x, c2.x, p.x)\n"
   ]
  },
  {
   "attachments": {},
   "cell_type": "markdown",
   "metadata": {},
   "source": [
    "# 2 再论静态方法和类方法\n",
    "## 2.1. 类属性、实例属性"
   ]
  },
  {
   "cell_type": "code",
   "execution_count": 3,
   "metadata": {},
   "outputs": [
    {
     "name": "stdout",
     "output_type": "stream",
     "text": [
      "山东省\n",
      "中国\n"
     ]
    }
   ],
   "source": [
    "class Province(object):\n",
    "    # 类属性\n",
    "    country = '中国'\n",
    "\n",
    "    def __init__(self, name):\n",
    "        # 实例属性\n",
    "        self.name = name\n",
    "\n",
    "\n",
    "# 创建一个实例对象\n",
    "obj = Province('山东省')\n",
    "# 直接访问实例属性\n",
    "print(obj.name)\n",
    "# 直接访问类属性\n",
    "print(Province.country)\n"
   ]
  },
  {
   "attachments": {},
   "cell_type": "markdown",
   "metadata": {},
   "source": [
    "## 2.2. 实例方法、静态方法和类方法"
   ]
  },
  {
   "cell_type": "code",
   "execution_count": 5,
   "metadata": {},
   "outputs": [
    {
     "name": "stdout",
     "output_type": "stream",
     "text": [
      "实例方法\n",
      "类方法\n",
      "静态方法\n"
     ]
    }
   ],
   "source": [
    "class Foo(object):\n",
    "    def __init__(self, name):\n",
    "        self.name = name\n",
    "\n",
    "    def ord_func(self):\n",
    "        \"\"\" 定义实例方法，至少有一个self 参数\"\"\"\n",
    "        # print(self.name)\n",
    "        print('实例方法')\n",
    "\n",
    "\n",
    "    @classmethod\n",
    "    def class_func(cls):\n",
    "        \"\"\" 定义类方法，至少有一个cls 参数\"\"\"\n",
    "        print('类方法')\n",
    "\n",
    "\n",
    "    @staticmethod\n",
    "    def static_func():\n",
    "        \"\"\" 定义静态方法，无默认参数\"\"\"\n",
    "        print('静态方法')\n",
    "\n",
    "\n",
    "f = Foo(\"中国\")\n",
    "# 调用实例方法\n",
    "f.ord_func()\n",
    "# 调用类方法\n",
    "Foo.class_func()\n",
    "# 调用静态方法\n",
    "Foo.static_func()\n"
   ]
  },
  {
   "attachments": {},
   "cell_type": "markdown",
   "metadata": {},
   "source": [
    "# 3 property 属性\n",
    "## 1. 什么是property 属性\n",
    "让方法用起来像属性一样"
   ]
  },
  {
   "cell_type": "code",
   "execution_count": 10,
   "metadata": {},
   "outputs": [
    {
     "name": "stdout",
     "output_type": "stream",
     "text": [
      "func\n",
      "prop\n"
     ]
    }
   ],
   "source": [
    "class Foo:\n",
    "    def func(self):\n",
    "        print(\"func\")\n",
    "        pass\n",
    "    # 定义property 属性\n",
    "\n",
    "    @property\n",
    "    def prop(self):\n",
    "        return \"prop\" # property一般都是返回一个值\n",
    "\n",
    "\n",
    "# ############### 调用###############\n",
    "foo_obj = Foo()\n",
    "foo_obj.func()  # 调用实例方法\n",
    "print(foo_obj.prop)  # 调用property 属性\n"
   ]
  },
  {
   "attachments": {},
   "cell_type": "markdown",
   "metadata": {},
   "source": [
    "## 2. 简单的实例"
   ]
  },
  {
   "cell_type": "code",
   "execution_count": 11,
   "metadata": {},
   "outputs": [
    {
     "name": "stdout",
     "output_type": "stream",
     "text": [
      "0\n",
      "10\n"
     ]
    }
   ],
   "source": [
    "class Pager:\n",
    "    def __init__(self, current_page):\n",
    "        # 用户当前请求的页码（第一页、第二页...）\n",
    "        self.current_page = current_page\n",
    "        # 每页默认显示10 条数据\n",
    "        self.per_items = 10\n",
    "\n",
    "    @property\n",
    "    def start(self):\n",
    "        val = (self.current_page - 1) * self.per_items\n",
    "        return val\n",
    "\n",
    "    @property\n",
    "    def end(self):\n",
    "        val = self.current_page * self.per_items\n",
    "        return val\n",
    "\n",
    "\n",
    "# ############### 调用###############\n",
    "p = Pager(1)\n",
    "print(p.start)  # 就是起始值，即：m\n",
    "print(p.end)  # 就是结束值，即：n\n"
   ]
  },
  {
   "attachments": {},
   "cell_type": "markdown",
   "metadata": {},
   "source": [
    "## 3. property 属性的有两种方式"
   ]
  },
  {
   "cell_type": "code",
   "execution_count": 12,
   "metadata": {},
   "outputs": [
    {
     "name": "stdout",
     "output_type": "stream",
     "text": [
      "laowang\n"
     ]
    }
   ],
   "source": [
    "# 经典类，具有一种@property 装饰器\n",
    "class Goods:\n",
    "    @property\n",
    "    def price(self):\n",
    "        return \"laowang\"\n",
    "\n",
    "\n",
    "# ############### 调用###############\n",
    "obj = Goods()\n",
    "result = obj.price  # 自动执行@property 修饰的price 方法，并获取方法的返回值\n",
    "print(result)\n"
   ]
  },
  {
   "cell_type": "code",
   "execution_count": 13,
   "metadata": {},
   "outputs": [
    {
     "name": "stdout",
     "output_type": "stream",
     "text": [
      "@property\n",
      "@price.setter\n",
      "@price.deleter\n"
     ]
    }
   ],
   "source": [
    "# 具有三种@property 装饰器\n",
    "# coding=utf-8\n",
    "# ############### 定义###############\n",
    "class Goods:\n",
    "    @property\n",
    "    def price(self):\n",
    "        print('@property')\n",
    "\n",
    "    @price.setter\n",
    "    def price(self, value):\n",
    "        print('@price.setter')\n",
    "\n",
    "    @price.deleter\n",
    "    def price(self):\n",
    "        print('@price.deleter')\n",
    "\n",
    "\n",
    "# ############### 调用###############\n",
    "obj = Goods()\n",
    "obj.price  # 自动执行@property 修饰的price 方法，并获取方法的返回值\n",
    "obj.price = 123  # 自动执行@price.setter 修饰的price 方法，并将123 赋值给方法的参数\n",
    "del obj.price  # 自动执行@price.deleter 修饰的price 方法\n"
   ]
  },
  {
   "cell_type": "code",
   "execution_count": 14,
   "metadata": {},
   "outputs": [
    {
     "name": "stdout",
     "output_type": "stream",
     "text": [
      "laowang\n"
     ]
    }
   ],
   "source": [
    "# 3.2 类属性方式，创建值为property 对象的类属性\n",
    "class Foo:\n",
    "    def get_bar(self):\n",
    "        return 'laowang'\n",
    "    BAR = property(get_bar)\n",
    "\n",
    "\n",
    "obj = Foo()\n",
    "reuslt = obj.BAR  # 自动调用get_bar 方法，并获取方法的返回值\n",
    "print(reuslt)\n"
   ]
  },
  {
   "cell_type": "code",
   "execution_count": 15,
   "metadata": {},
   "outputs": [
    {
     "name": "stdout",
     "output_type": "stream",
     "text": [
      "getter...\n",
      "setter...\n",
      "description...\n",
      "deleter...\n"
     ]
    }
   ],
   "source": [
    "# property 方法中有个四个参数\n",
    "# • 第一个参数getter是方法名，调用对象.属性时自动触发执行方法\n",
    "# • 第二个参数Setter是方法名，调用对象.属性＝ XXX 时自动触发执行方法\n",
    "# • 第三个参数Deleter是方法名，调用del 对象.属性时自动触发执行方法\n",
    "# • 第四个参数Printer是字符串，调用类名.属性.__doc__ ，此参数是该属性的描述信息\n",
    "\n",
    "# coding=utf-8\n",
    "class Foo(object):\n",
    "    def get_bar(self):\n",
    "        print(\"getter...\")\n",
    "        return 'laowang'\n",
    "\n",
    "    def set_bar(self, value):\n",
    "        \"\"\"必须两个参数\"\"\"\n",
    "        print(\"setter...\")\n",
    "        return 'set value' + value\n",
    "\n",
    "    def del_bar(self):\n",
    "        print(\"deleter...\")\n",
    "        return 'laowang'\n",
    "    BAR = property(get_bar, set_bar, del_bar, \"description...\")\n",
    "\n",
    "\n",
    "obj = Foo()\n",
    "obj.BAR  # 自动调用第一个参数中定义的方法：get_bar\n",
    "obj.BAR = \"alex\"  # 自动调用第二个参数中定义的方法：set_bar 方法，并将“alex”当作参数传入\n",
    "desc = Foo.BAR.__doc__  # 自动获取第四个参数中设置的值：description...\n",
    "print(desc)\n",
    "del obj.BAR  # 自动调用第三个参数中定义的方法：del_bar 方法\n"
   ]
  },
  {
   "attachments": {},
   "cell_type": "markdown",
   "metadata": {},
   "source": [
    "# 4.property 属性-应用\n",
    "## 1. 私有属性添加getter 和setter 方法"
   ]
  },
  {
   "cell_type": "code",
   "execution_count": null,
   "metadata": {},
   "outputs": [],
   "source": [
    "class Money(object):\n",
    "    def __init__(self):\n",
    "        self.__money = 0\n",
    "\n",
    "    def getMoney(self):\n",
    "        return self.__money\n",
    "\n",
    "\n",
    "def setMoney(self, value):\n",
    "    if isinstance(value, int):\n",
    "        self.__money = value\n",
    "    else:\n",
    "        print(\"error:不是整型数字\")\n"
   ]
  },
  {
   "attachments": {},
   "cell_type": "markdown",
   "metadata": {},
   "source": [
    "## 2. 使用property 升级getter 和setter 方法"
   ]
  },
  {
   "cell_type": "code",
   "execution_count": 17,
   "metadata": {},
   "outputs": [
    {
     "name": "stdout",
     "output_type": "stream",
     "text": [
      "100\n"
     ]
    }
   ],
   "source": [
    "class Money(object):\n",
    "    def __init__(self):\n",
    "        self.__money = 0\n",
    "\n",
    "    def getMoney(self):\n",
    "        return self.__money\n",
    "\n",
    "    def setMoney(self, value):\n",
    "        if isinstance(value, int):\n",
    "            self.__money = value\n",
    "        else:\n",
    "            print(\"error:不是整型数字\")\n",
    "    # 定义一个属性，当对这个money 设置值时调用setMoney,当获取值时调用getMoney\n",
    "    money = property(getMoney, setMoney)\n",
    "\n",
    "\n",
    "a = Money()\n",
    "a.money = 100  # 调用setMoney 方法\n",
    "print(a.money)  # 调用getMoney 方法\n",
    "# 100\n"
   ]
  },
  {
   "attachments": {},
   "cell_type": "markdown",
   "metadata": {},
   "source": [
    "## 3. 使用property 取代getter 和setter 方法"
   ]
  },
  {
   "cell_type": "code",
   "execution_count": 18,
   "metadata": {},
   "outputs": [
    {
     "name": "stdout",
     "output_type": "stream",
     "text": [
      "100\n"
     ]
    }
   ],
   "source": [
    "class Money(object):\n",
    "    def __init__(self):\n",
    "        self.__money = 0\n",
    "    # 使用装饰器对money 进行装饰，那么会自动添加一个叫money 的属性，当调用获取money 的值时，调用装饰的方法\n",
    "\n",
    "    @property\n",
    "    def money(self):\n",
    "        return self.__money\n",
    "    # 使用装饰器对money 进行装饰，当对money 设置值时，调用装饰的方法\n",
    "\n",
    "    @money.setter\n",
    "    def money(self, value):\n",
    "        if isinstance(value, int):\n",
    "            self.__money = value\n",
    "        else:\n",
    "            print(\"error:不是整型数字\")\n",
    "\n",
    "\n",
    "a = Money()\n",
    "a.money = 100\n",
    "print(a.money)\n"
   ]
  },
  {
   "attachments": {},
   "cell_type": "markdown",
   "metadata": {},
   "source": [
    "## 3. 使用property 取代getter 和setter 方法"
   ]
  },
  {
   "cell_type": "code",
   "execution_count": 19,
   "metadata": {},
   "outputs": [
    {
     "name": "stdout",
     "output_type": "stream",
     "text": [
      "100\n"
     ]
    }
   ],
   "source": [
    "class Money(object):\n",
    "    def __init__(self):\n",
    "        self.__money = 0\n",
    "    # 使用装饰器对money 进行装饰，那么会自动添加一个叫money 的属性，当调用获取money 的值时，调用装饰的方法\n",
    "\n",
    "    @property\n",
    "    def money(self):\n",
    "        return self.__money\n",
    "    # 使用装饰器对money 进行装饰，当对money 设置值时，调用装饰的方法\n",
    "\n",
    "    @money.setter\n",
    "    def money(self, value):\n",
    "        if isinstance(value, int):\n",
    "            self.__money = value\n",
    "        else:\n",
    "            print(\"error:不是整型数字\")\n",
    "\n",
    "\n",
    "a = Money()\n",
    "a.money = 100\n",
    "print(a.money)\n"
   ]
  },
  {
   "attachments": {},
   "cell_type": "markdown",
   "metadata": {},
   "source": [
    "# 5 魔法属性\n",
    "## 1. __doc__\n",
    "• 表示类的描述信息"
   ]
  },
  {
   "cell_type": "code",
   "execution_count": 25,
   "metadata": {},
   "outputs": [
    {
     "name": "stdout",
     "output_type": "stream",
     "text": [
      " 描述类信息\n"
     ]
    }
   ],
   "source": [
    "class Foo:\n",
    "    \"\"\" 描述类信息\"\"\"\n",
    "\n",
    "    def func(self):\n",
    "        pass\n",
    "\n",
    "\n",
    "print(Foo.__doc__)\n",
    "# 输出：类的描述信息\n"
   ]
  },
  {
   "attachments": {},
   "cell_type": "markdown",
   "metadata": {},
   "source": [
    "## 2. __module__ 和 __class__\n",
    "• __module__ 表示当前操作的对象在那个模块 \\\n",
    "• __class__ 表示当前操作的对象的类是什么"
   ]
  },
  {
   "cell_type": "code",
   "execution_count": null,
   "metadata": {},
   "outputs": [],
   "source": [
    "# test.py\n",
    "# -*- coding:utf-8 -*-\n",
    "class Person(object):\n",
    "    def __init__(self):\n",
    "        self.name = 'laowang'\n",
    "\n",
    "# main.py\n",
    "from test import Person\n",
    "obj = Person()\n",
    "print(obj.__module__) # 输出test 即：输出模块\n",
    "print(obj.__class__) # 输出test.Person 即：输出类"
   ]
  },
  {
   "attachments": {},
   "cell_type": "markdown",
   "metadata": {},
   "source": [
    "## 3. __init__\n",
    "• 初始化方法，通过类创建对象时，自动触发执行"
   ]
  },
  {
   "cell_type": "code",
   "execution_count": null,
   "metadata": {},
   "outputs": [],
   "source": [
    "class Person:\n",
    "    def __init__(self, name):\n",
    "        self.name = name\n",
    "        self.age = 18\n",
    "\n",
    "\n",
    "obj = Person('laowang')  # 自动执行类中的__init__ 方法\n"
   ]
  },
  {
   "attachments": {},
   "cell_type": "markdown",
   "metadata": {},
   "source": [
    "## 4. __del__\n",
    "• 当对象在内存中被释放时，自动触发执行。"
   ]
  },
  {
   "cell_type": "code",
   "execution_count": null,
   "metadata": {},
   "outputs": [],
   "source": [
    "class Foo:\n",
    "    def __del__(self):\n",
    "        pass"
   ]
  },
  {
   "attachments": {},
   "cell_type": "markdown",
   "metadata": {},
   "source": [
    "## 5. __call__\n",
    "• 对象后面加括号，触发执行。可用于函数调用"
   ]
  },
  {
   "cell_type": "code",
   "execution_count": 21,
   "metadata": {},
   "outputs": [
    {
     "name": "stdout",
     "output_type": "stream",
     "text": [
      "__call__\n"
     ]
    }
   ],
   "source": [
    "class Foo:\n",
    "    def __init__(self):\n",
    "        pass\n",
    "\n",
    "    def __call__(self, *args, **kwargs):\n",
    "        print('__call__')\n",
    "\n",
    "\n",
    "obj = Foo()  # 执行__init__\n",
    "obj()  # 执行__call__\n"
   ]
  },
  {
   "attachments": {},
   "cell_type": "markdown",
   "metadata": {},
   "source": [
    "## 6. __dict__\n",
    "• 类或对象中的所有属性"
   ]
  },
  {
   "cell_type": "code",
   "execution_count": 22,
   "metadata": {},
   "outputs": [
    {
     "name": "stdout",
     "output_type": "stream",
     "text": [
      "{'__module__': '__main__', 'country': 'China', '__init__': <function Province.__init__ at 0x00000202AAA60670>, 'func': <function Province.func at 0x00000202AAA60700>, '__dict__': <attribute '__dict__' of 'Province' objects>, '__weakref__': <attribute '__weakref__' of 'Province' objects>, '__doc__': None}\n",
      "{'name': '山东', 'count': 10000}\n",
      "{'name': '山西', 'count': 20000}\n"
     ]
    }
   ],
   "source": [
    "class Province(object):\n",
    "    country = 'China'\n",
    "\n",
    "    def __init__(self, name, count):\n",
    "        self.name = name\n",
    "        self.count = count\n",
    "\n",
    "    def func(self, *args, **kwargs):\n",
    "        print('func')\n",
    "\n",
    "\n",
    "# 获取类的属性，即：类属性、方法、\n",
    "print(Province.__dict__)\n",
    "\n",
    "# 获取对象的属性\n",
    "obj1 = Province('山东', 10000)\n",
    "print(obj1.__dict__)\n",
    "\n",
    "obj2 = Province('山西', 20000)\n",
    "print(obj2.__dict__)"
   ]
  },
  {
   "attachments": {},
   "cell_type": "markdown",
   "metadata": {},
   "source": [
    "## 7. __str__"
   ]
  },
  {
   "cell_type": "code",
   "execution_count": 23,
   "metadata": {},
   "outputs": [
    {
     "name": "stdout",
     "output_type": "stream",
     "text": [
      "laowang\n"
     ]
    }
   ],
   "source": [
    "class Foo:\n",
    "    def __str__(self):\n",
    "        return 'laowang'\n",
    "\n",
    "\n",
    "obj = Foo()\n",
    "print(obj)\n"
   ]
  },
  {
   "attachments": {},
   "cell_type": "markdown",
   "metadata": {},
   "source": [
    "## 8. __getitem__、__setitem__、__delitem__\n",
    "• 用于索引操作，如字典。以上分别表示获取、设置、删除数据"
   ]
  },
  {
   "cell_type": "code",
   "execution_count": 24,
   "metadata": {},
   "outputs": [
    {
     "name": "stdout",
     "output_type": "stream",
     "text": [
      "__getitem__ k1\n",
      "__setitem__ k2 laowang\n",
      "__delitem__ k1\n"
     ]
    }
   ],
   "source": [
    "class Foo(object):\n",
    "    def __getitem__(self, key):\n",
    "        print('__getitem__', key)\n",
    "\n",
    "    def __setitem__(self, key, value):\n",
    "        print('__setitem__', key, value)\n",
    "\n",
    "    def __delitem__(self, key):\n",
    "        print('__delitem__', key)\n",
    "\n",
    "\n",
    "obj = Foo()\n",
    "result = obj['k1']  # 自动触发执行__getitem__\n",
    "obj['k2'] = 'laowang'  # 自动触发执行__setitem__\n",
    "del obj['k1']  # 自动触发执行__delitem__\n"
   ]
  },
  {
   "cell_type": "code",
   "execution_count": null,
   "metadata": {},
   "outputs": [],
   "source": []
  },
  {
   "attachments": {},
   "cell_type": "markdown",
   "metadata": {},
   "source": [
    "# 6 上下管理器\n",
    "## __enter__() 和__exit__() 定义方式\n",
    "任何实现了__enter__() 和__exit__() 方法的对象都可称之为上下文管理器，可以使用with 关键字"
   ]
  },
  {
   "cell_type": "code",
   "execution_count": 1,
   "metadata": {},
   "outputs": [
    {
     "name": "stdout",
     "output_type": "stream",
     "text": [
      "entering\n",
      "writing\n",
      "will exit\n"
     ]
    }
   ],
   "source": [
    "class File():\n",
    "    def __init__(self, filename, mode):\n",
    "        self.filename = filename\n",
    "        self.mode = mode\n",
    "\n",
    "    def __enter__(self):\n",
    "        # 打开文件\n",
    "        print(\"entering\")\n",
    "        self.f = open(self.filename, self.mode)\n",
    "        return self.f\n",
    "\n",
    "    def __exit__(self, *args):\n",
    "        # 关闭文件\n",
    "        print(\"will exit\")\n",
    "        self.f.close()\n",
    "\n",
    "with File('out.txt', 'w') as f:\n",
    "    print(\"writing\")\n",
    "    f.write('hello, python')\n"
   ]
  },
  {
   "attachments": {},
   "cell_type": "markdown",
   "metadata": {},
   "source": [
    "## yield 定义方式\n",
    "yield 之前的语句在__enter__ 方法中执行 \\\n",
    "yield 之后的语句在__exit__ 方法中执行 \\\n",
    "紧跟在yield 后面的值是函数的返回值"
   ]
  },
  {
   "cell_type": "code",
   "execution_count": 4,
   "metadata": {},
   "outputs": [],
   "source": [
    "from contextlib import contextmanager\n",
    "@contextmanager\n",
    "def my_open(path, mode):\n",
    "    f = open(path, mode)\n",
    "    yield f\n",
    "    f.close()\n",
    "# 调用\n",
    "with my_open('out.txt', 'w') as f:\n",
    "    f.write(\"hello , the simplest context manager\")"
   ]
  },
  {
   "cell_type": "code",
   "execution_count": null,
   "metadata": {},
   "outputs": [],
   "source": []
  }
 ],
 "metadata": {
  "kernelspec": {
   "display_name": "Python 3",
   "language": "python",
   "name": "python3"
  },
  "language_info": {
   "codemirror_mode": {
    "name": "ipython",
    "version": 3
   },
   "file_extension": ".py",
   "mimetype": "text/x-python",
   "name": "python",
   "nbconvert_exporter": "python",
   "pygments_lexer": "ipython3",
   "version": "3.8.10"
  },
  "orig_nbformat": 4
 },
 "nbformat": 4,
 "nbformat_minor": 2
}
