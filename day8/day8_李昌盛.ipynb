{
 "cells": [
  {
   "attachments": {},
   "cell_type": "markdown",
   "metadata": {},
   "source": [
    "1.\t设计一个类，实例化两个对象，然后小明跑步跑完步，会去吃东西 \\\n",
    "，小美不跑步，小美喜欢吃东西 \\\n",
    "•\t小明 今年 18 岁，身高 1.75，每天早上 跑 完步，会去 吃 东西 \\\n",
    "•\t小美 今年 17 岁，身高 1.65，小美不跑步，小美喜欢 吃 东西\n"
   ]
  },
  {
   "cell_type": "code",
   "execution_count": 1,
   "metadata": {},
   "outputs": [
    {
     "name": "stdout",
     "output_type": "stream",
     "text": [
      "小明 is Running\n",
      "小明 is eatting\n",
      "小美 is eatting\n"
     ]
    }
   ],
   "source": [
    "class people():\n",
    "    def __init__(self, name, age, height):\n",
    "        self.name = name\n",
    "        self.age = age\n",
    "        self.height = height\n",
    "\n",
    "    def run(self):\n",
    "        print(f\"{self.name} is Running\")\n",
    "        \n",
    "    def eat(self):\n",
    "        print(f\"{self.name} is eatting\")\n",
    "\n",
    "ming = people('小明', 18, 1.75)\n",
    "ming.run()\n",
    "ming.eat()\n",
    "\n",
    "mei = people('小美', 17, 1.65)\n",
    "mei.eat()"
   ]
  },
  {
   "attachments": {},
   "cell_type": "markdown",
   "metadata": {},
   "source": [
    "2.\t设计一个类，实例化1个对象，会实现下面两种行为 \n",
    "\n",
    "需求 \\\n",
    "•\t一只 黄颜色 的 狗狗 叫 大黄 \\\n",
    "•\t具有  汪汪叫 行为 \\\n",
    "•\t具有  摇尾巴 行为\n"
   ]
  },
  {
   "cell_type": "code",
   "execution_count": 3,
   "metadata": {},
   "outputs": [
    {
     "name": "stdout",
     "output_type": "stream",
     "text": [
      "DaHuang is barking\n",
      "DaHuang is wagging\n"
     ]
    }
   ],
   "source": [
    "class dog():\n",
    "    def __init__(self, color, name):\n",
    "        self.color =color\n",
    "        self.name =name\n",
    "\n",
    "    def bark(self):\n",
    "        print(f\"{self.name} is barking\")\n",
    "\n",
    "    def tail(self):\n",
    "        print(f\"{self.name} is wagging\")\n",
    "\n",
    "huang = dog('yellow', 'DaHuang')\n",
    "huang.bark()\n",
    "huang.tail()\n"
   ]
  },
  {
   "attachments": {},
   "cell_type": "markdown",
   "metadata": {},
   "source": [
    "3.\t使用dir查看类里的内容，是否有对象方法，练习__init__，__str__还有__del__"
   ]
  },
  {
   "cell_type": "code",
   "execution_count": 4,
   "metadata": {},
   "outputs": [
    {
     "name": "stdout",
     "output_type": "stream",
     "text": [
      "__init__()\n",
      "<__main__.dog object at 0x0000020168C6B220>\n",
      "__del__()\n"
     ]
    }
   ],
   "source": [
    "class dog():\n",
    "    def __init__(self, color, name):\n",
    "        self.color =color\n",
    "        self.name =name\n",
    "        print(\"__init__()\")\n",
    "\n",
    "    def __del__(self):\n",
    "        print(\"__del__()\")\n",
    "\n",
    "    def bark(self):\n",
    "        print(f\"{self.name} is barking\")\n",
    "\n",
    "    def tail(self):\n",
    "        print(f\"{self.name} is wagging\")\n",
    "\n",
    "huang = dog('yellow', 'DaHuang')\n",
    "print(huang)\n",
    "del huang\n"
   ]
  },
  {
   "cell_type": "code",
   "execution_count": 6,
   "metadata": {},
   "outputs": [
    {
     "name": "stdout",
     "output_type": "stream",
     "text": [
      "[席梦思] 占地 4.00\n",
      "[衣柜] 占地 2.00\n",
      "[餐桌] 占地 1.50\n",
      "要添加 [席梦思] 占地 4.00\n",
      "要添加 [衣柜] 占地 2.00\n",
      "要添加 [餐桌] 占地 1.50\n",
      "户型：两室一厅\n",
      " 总面积：60.00[剩余：60.00]\n",
      " 家具：['席梦思', '衣柜', '餐桌']\n"
     ]
    }
   ],
   "source": [
    "class HouseItem:\n",
    "    def __init__(self, name, area):\n",
    "        self.name = name\n",
    "        self.area = area\n",
    "    def __str__(self):\n",
    "        return \"[%s] 占地 %.2f\" % (self.name, self.area)\n",
    "\n",
    "class House:\n",
    "    def __init__(self, house_type, area):\n",
    "        self.house_type = house_type\n",
    "        self.area = area\n",
    "        # 剩余面积\n",
    "        self.free_area = area\n",
    "        # 家具名称列表\n",
    "        self.item_list = []\n",
    "    def __str__(self):\n",
    "        # Python 能够自动的将一对括号内部的代码连接在一起\n",
    "        return (\"户型：%s\\n 总面积：%.2f[剩余：%.2f]\\n 家具：%s\"\n",
    "        % (self.house_type, self.area,\n",
    "        self.free_area, self.item_list))\n",
    "    def add_item(self, item):\n",
    "        print(\"要添加 %s\" % item)\n",
    "        self.item_list.append(item.name)\n",
    "\n",
    "# 1. 创建家具\n",
    "bed = HouseItem(\"席梦思\", 4)\n",
    "chest = HouseItem(\"衣柜\", 2)\n",
    "table = HouseItem(\"餐桌\", 1.5)\n",
    "print(bed)\n",
    "print(chest)\n",
    "print(table)\n",
    "# 2. 创建房子对象\n",
    "my_home = House(\"两室一厅\", 60)\n",
    "my_home.add_item(bed)\n",
    "my_home.add_item(chest)\n",
    "my_home.add_item(table)\n",
    "print(my_home)"
   ]
  },
  {
   "attachments": {},
   "cell_type": "markdown",
   "metadata": {},
   "source": [
    "5.\t练习私有属性和私有方法"
   ]
  },
  {
   "cell_type": "code",
   "execution_count": 8,
   "metadata": {},
   "outputs": [
    {
     "ename": "AttributeError",
     "evalue": "'dog' object has no attribute '__prif'",
     "output_type": "error",
     "traceback": [
      "\u001b[1;31m---------------------------------------------------------------------------\u001b[0m",
      "\u001b[1;31mAttributeError\u001b[0m                            Traceback (most recent call last)",
      "\u001b[1;32md:\\Codes\\王道Python\\day8_李昌盛\\day8_李昌盛.ipynb 单元格 9\u001b[0m in \u001b[0;36m<cell line: 9>\u001b[1;34m()\u001b[0m\n\u001b[0;32m      <a href='vscode-notebook-cell:/d%3A/Codes/%E7%8E%8B%E9%81%93Python/day8_%E6%9D%8E%E6%98%8C%E7%9B%9B/day8_%E6%9D%8E%E6%98%8C%E7%9B%9B.ipynb#X11sZmlsZQ%3D%3D?line=5'>6</a>\u001b[0m         \u001b[39mprint\u001b[39m(\u001b[39m\"\u001b[39m\u001b[39m__prif\u001b[39m\u001b[39m\"\u001b[39m)\n\u001b[0;32m      <a href='vscode-notebook-cell:/d%3A/Codes/%E7%8E%8B%E9%81%93Python/day8_%E6%9D%8E%E6%98%8C%E7%9B%9B/day8_%E6%9D%8E%E6%98%8C%E7%9B%9B.ipynb#X11sZmlsZQ%3D%3D?line=7'>8</a>\u001b[0m huang \u001b[39m=\u001b[39m dog()\n\u001b[1;32m----> <a href='vscode-notebook-cell:/d%3A/Codes/%E7%8E%8B%E9%81%93Python/day8_%E6%9D%8E%E6%98%8C%E7%9B%9B/day8_%E6%9D%8E%E6%98%8C%E7%9B%9B.ipynb#X11sZmlsZQ%3D%3D?line=8'>9</a>\u001b[0m huang\u001b[39m.\u001b[39m__prif()\n\u001b[0;32m     <a href='vscode-notebook-cell:/d%3A/Codes/%E7%8E%8B%E9%81%93Python/day8_%E6%9D%8E%E6%98%8C%E7%9B%9B/day8_%E6%9D%8E%E6%98%8C%E7%9B%9B.ipynb#X11sZmlsZQ%3D%3D?line=9'>10</a>\u001b[0m \u001b[39mprint\u001b[39m(huang\u001b[39m.\u001b[39m__priv)\n",
      "\u001b[1;31mAttributeError\u001b[0m: 'dog' object has no attribute '__prif'"
     ]
    }
   ],
   "source": [
    "class dog():\n",
    "    def __init__(self):\n",
    "        self.__priv = 1\n",
    "    \n",
    "    def __prif(self):\n",
    "        print(\"__prif\")\n",
    "\n",
    "huang = dog()\n",
    "huang.__prif()\n",
    "print(huang.__priv)"
   ]
  },
  {
   "attachments": {},
   "cell_type": "markdown",
   "metadata": {},
   "source": [
    "6.\t练习继承、使用super调用父类方法，多重继承"
   ]
  },
  {
   "cell_type": "code",
   "execution_count": 14,
   "metadata": {},
   "outputs": [
    {
     "data": {
      "text/plain": [
       "('huang', 3, 'yellow')"
      ]
     },
     "execution_count": 14,
     "metadata": {},
     "output_type": "execute_result"
    }
   ],
   "source": [
    "class Animal:\n",
    "    def __init__(self, name):\n",
    "        self.name = name\n",
    "class Mammal:\n",
    "    def __init__(self, age):\n",
    "        self.age = age\n",
    "class Dog(Animal, Mammal):\n",
    "    def __init__(self, name, age, color):\n",
    "        Animal.__init__(self, name)\n",
    "        Mammal.__init__(self, age)\n",
    "        self.color = color\n",
    "samo = Dog(\"huang\", 3, 'yellow')\n",
    "samo.name, samo.age, samo.color"
   ]
  },
  {
   "cell_type": "code",
   "execution_count": null,
   "metadata": {},
   "outputs": [],
   "source": []
  }
 ],
 "metadata": {
  "kernelspec": {
   "display_name": "Python 3",
   "language": "python",
   "name": "python3"
  },
  "language_info": {
   "codemirror_mode": {
    "name": "ipython",
    "version": 3
   },
   "file_extension": ".py",
   "mimetype": "text/x-python",
   "name": "python",
   "nbconvert_exporter": "python",
   "pygments_lexer": "ipython3",
   "version": "3.8.10"
  },
  "orig_nbformat": 4,
  "vscode": {
   "interpreter": {
    "hash": "f5946b6e853b34f473fb738bafc13c5730ec46b1be076a90eae2c15b8d0b108b"
   }
  }
 },
 "nbformat": 4,
 "nbformat_minor": 2
}
