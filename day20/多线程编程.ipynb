{
 "cells": [
  {
   "attachments": {},
   "cell_type": "markdown",
   "metadata": {},
   "source": [
    "1_使用threading模块"
   ]
  },
  {
   "cell_type": "code",
   "execution_count": 1,
   "metadata": {},
   "outputs": [
    {
     "name": "stdout",
     "output_type": "stream",
     "text": [
      "亲爱的，我错了，我能吃饭了吗？\n",
      "亲爱的，我错了，我能吃饭了吗？\n",
      "亲爱的，我错了，我能吃饭了吗？\n",
      "亲爱的，我错了，我能吃饭了吗？\n",
      "亲爱的，我错了，我能吃饭了吗？\n"
     ]
    }
   ],
   "source": [
    "#coding=utf-8\n",
    "import threading\n",
    "import time\n",
    "def saySorry():\n",
    "    print(\"亲爱的，我错了，我能吃饭了吗？\")\n",
    "    time.sleep(1)\n",
    "    \n",
    "if __name__ == \"__main__\":\n",
    "    for i in range(5):\n",
    "        t = threading.Thread(target=saySorry)\n",
    "        t.start() #启动线程，即让线程开始执行"
   ]
  },
  {
   "attachments": {},
   "cell_type": "markdown",
   "metadata": {},
   "source": [
    "2_进程会等待所有的子线程结束后才结束"
   ]
  },
  {
   "cell_type": "code",
   "execution_count": 2,
   "metadata": {},
   "outputs": [
    {
     "name": "stdout",
     "output_type": "stream",
     "text": [
      "---开始---:Thu Mar  9 22:38:02 2023\n",
      "正在唱歌...0\n",
      "正在跳舞...0\n",
      "---结束---:Thu Mar  9 22:38:02 2023\n"
     ]
    },
    {
     "name": "stdout",
     "output_type": "stream",
     "text": [
      "正在跳舞...1正在唱歌...1\n",
      "\n",
      "正在跳舞...2正在唱歌...2\n",
      "\n"
     ]
    }
   ],
   "source": [
    "# coding=utf-8\n",
    "import threading\n",
    "from time import sleep, ctime\n",
    "\n",
    "\n",
    "def sing():\n",
    "    for i in range(3):\n",
    "        print(\"正在唱歌...%d\" % i)\n",
    "        sleep(1)\n",
    "\n",
    "\n",
    "def dance():\n",
    "    for i in range(3):\n",
    "        print(\"正在跳舞...%d\" % i)\n",
    "        sleep(1)\n",
    "\n",
    "\n",
    "if __name__ == '__main__':\n",
    "    print('---开始---:%s' % ctime())\n",
    "    t1 = threading.Thread(target=sing)\n",
    "    t2 = threading.Thread(target=dance)\n",
    "    t1.start()\n",
    "    t2.start()\n",
    "    # sleep(5) # 屏蔽此行代码，试试看，程序是否会立马结束？\n",
    "    print('---结束---:%s' % ctime())\n"
   ]
  },
  {
   "attachments": {},
   "cell_type": "markdown",
   "metadata": {},
   "source": [
    "3_查看线程数量"
   ]
  },
  {
   "cell_type": "code",
   "execution_count": null,
   "metadata": {},
   "outputs": [],
   "source": [
    "# coding=utf-8\n",
    "import threading\n",
    "from time import sleep, ctime\n",
    "\n",
    "\n",
    "def sing():\n",
    "    for i in range(3):\n",
    "        print(\"正在唱歌...%d\" % i)\n",
    "        sleep(1)\n",
    "\n",
    "\n",
    "def dance():\n",
    "    for i in range(3):\n",
    "        print(\"正在跳舞...%d\" % i)\n",
    "        sleep(1)\n",
    "\n",
    "\n",
    "if __name__ == '__main__':\n",
    "    print('---开始---:%s' % ctime())\n",
    "    t1 = threading.Thread(target=sing)\n",
    "    t2 = threading.Thread(target=dance)\n",
    "    t1.start()\n",
    "    t2.start()\n",
    "    while True:\n",
    "        length = len(threading.enumerate())\n",
    "        print('当前运行的线程数为：%d' % length)\n",
    "        if length <= 1:\n",
    "            break\n",
    "        sleep(0.5)\n"
   ]
  },
  {
   "attachments": {},
   "cell_type": "markdown",
   "metadata": {},
   "source": [
    "# 4_线程-注意点\n",
    "## 线程执行代码的封装\n",
    "python 的threading.Thread 类有一个run 方法，用于定义线程的功能函数，\n",
    "可以在自己的线程类中覆盖该方法。"
   ]
  },
  {
   "cell_type": "code",
   "execution_count": 4,
   "metadata": {},
   "outputs": [
    {
     "name": "stdout",
     "output_type": "stream",
     "text": [
      "I'm Thread-12 @ 0\n",
      "I'm Thread-12 @ 1\n",
      "I'm Thread-12 @ 2\n"
     ]
    }
   ],
   "source": [
    "# coding=utf-8\n",
    "import threading\n",
    "import time\n",
    "\n",
    "\n",
    "class MyThread(threading.Thread):\n",
    "    def run(self):\n",
    "        for i in range(3):\n",
    "            time.sleep(1)\n",
    "            msg = \"I'm \"+self.name+' @ '+str(i)  \n",
    "            # python 会自动为线程指定一个名字\n",
    "            print(msg)\n",
    "\n",
    "\n",
    "if __name__ == '__main__':\n",
    "    t = MyThread()\n",
    "    t.start()\n"
   ]
  },
  {
   "attachments": {},
   "cell_type": "markdown",
   "metadata": {},
   "source": [
    "## 2. 线程的执行顺序\n",
    "多线程程序的执行顺序是不确定的"
   ]
  },
  {
   "cell_type": "code",
   "execution_count": 5,
   "metadata": {},
   "outputs": [
    {
     "name": "stdout",
     "output_type": "stream",
     "text": [
      "I'm Thread-16 @ 0\n",
      "I'm Thread-15 @ 0\n",
      "I'm Thread-14 @ 0\n",
      "I'm Thread-13 @ 0I'm Thread-17 @ 0\n",
      "\n",
      "I'm Thread-16 @ 1I'm Thread-15 @ 1\n",
      "I'm Thread-14 @ 1I'm Thread-17 @ 1\n",
      "\n",
      "\n",
      "I'm Thread-13 @ 1\n",
      "I'm Thread-14 @ 2I'm Thread-15 @ 2\n",
      "I'm Thread-17 @ 2I'm Thread-13 @ 2\n",
      "\n",
      "I'm Thread-16 @ 2\n",
      "\n"
     ]
    }
   ],
   "source": [
    "# coding=utf-8\n",
    "import threading\n",
    "import time\n",
    "\n",
    "\n",
    "class MyThread(threading.Thread):\n",
    "    def run(self):\n",
    "        for i in range(3):\n",
    "            time.sleep(1)\n",
    "            msg = \"I'm \"+self.name+' @ '+str(i)\n",
    "            print(msg)\n",
    "\n",
    "\n",
    "def test():\n",
    "    for i in range(5):\n",
    "        t = MyThread()\n",
    "        t.start()\n",
    "\n",
    "\n",
    "if __name__ == '__main__':\n",
    "    test()\n"
   ]
  },
  {
   "attachments": {},
   "cell_type": "markdown",
   "metadata": {},
   "source": [
    "# 5 多线程-共享全局变量\n",
    "## 多线程-共享全局变量\n",
    "在一个进程内的所有线程共享全局变量"
   ]
  },
  {
   "cell_type": "code",
   "execution_count": null,
   "metadata": {},
   "outputs": [],
   "source": [
    "from threading import Thread\n",
    "import time\n",
    "g_num = 100\n",
    "\n",
    "\n",
    "def work1():\n",
    "    global g_num\n",
    "    for i in range(3):\n",
    "        g_num += 1\n",
    "    print(\"----in work1, g_num is %d---\" % g_num)\n",
    "\n",
    "\n",
    "def work2():\n",
    "    global g_num\n",
    "    print(\"----in work2, g_num is %d---\" % g_num)\n",
    "\n",
    "\n",
    "print(\"---线程创建之前g_num is %d---\" % g_num)\n",
    "t1 = Thread(target=work1)\n",
    "t1.start()\n",
    "# 延时一会，保证t1 线程中的事情做完\n",
    "time.sleep(1)\n",
    "t2 = Thread(target=work2)\n",
    "t2.start()\n"
   ]
  },
  {
   "attachments": {},
   "cell_type": "markdown",
   "metadata": {},
   "source": [
    "## 列表当做实参传递到线程中"
   ]
  },
  {
   "cell_type": "code",
   "execution_count": 6,
   "metadata": {},
   "outputs": [
    {
     "name": "stdout",
     "output_type": "stream",
     "text": [
      "----in work1--- [11, 22, 33, 44]\n"
     ]
    },
    {
     "name": "stdout",
     "output_type": "stream",
     "text": [
      "----in work2--- [11, 22, 33, 44]\n"
     ]
    }
   ],
   "source": [
    "from threading import Thread\n",
    "import time\n",
    "\n",
    "\n",
    "def work1(nums):\n",
    "    nums.append(44)\n",
    "    print(\"----in work1---\", nums)\n",
    "\n",
    "\n",
    "def work2(nums):\n",
    "    # 延时一会，保证t1 线程中的事情做完\n",
    "    time.sleep(1)\n",
    "    print(\"----in work2---\", nums)\n",
    "\n",
    "\n",
    "g_nums = [11, 22, 33]\n",
    "t1 = Thread(target=work1, args=(g_nums,))\n",
    "t1.start()\n",
    "t2 = Thread(target=work2, args=(g_nums,))\n",
    "t2.start()\n"
   ]
  },
  {
   "attachments": {},
   "cell_type": "markdown",
   "metadata": {},
   "source": [
    "# 6 多线程-共享全局变量问题"
   ]
  },
  {
   "cell_type": "code",
   "execution_count": 8,
   "metadata": {},
   "outputs": [
    {
     "name": "stdout",
     "output_type": "stream",
     "text": [
      "---线程创建之前g_num is 0---\n",
      "----in work1, g_num is 1000000---\n",
      "----in work2, g_num is 2000000---\n"
     ]
    },
    {
     "ename": "KeyboardInterrupt",
     "evalue": "",
     "output_type": "error",
     "traceback": [
      "\u001b[1;31m---------------------------------------------------------------------------\u001b[0m",
      "\u001b[1;31mKeyboardInterrupt\u001b[0m                         Traceback (most recent call last)",
      "\u001b[1;32md:\\Codes\\王道Python\\day_20\\多线程编程.ipynb 单元格 16\u001b[0m in \u001b[0;36m<cell line: 25>\u001b[1;34m()\u001b[0m\n\u001b[0;32m     <a href='vscode-notebook-cell:/d%3A/Codes/%E7%8E%8B%E9%81%93Python/day_20/%E5%A4%9A%E7%BA%BF%E7%A8%8B%E7%BC%96%E7%A8%8B.ipynb#X31sZmlsZQ%3D%3D?line=23'>24</a>\u001b[0m t2\u001b[39m.\u001b[39mstart()\n\u001b[0;32m     <a href='vscode-notebook-cell:/d%3A/Codes/%E7%8E%8B%E9%81%93Python/day_20/%E5%A4%9A%E7%BA%BF%E7%A8%8B%E7%BC%96%E7%A8%8B.ipynb#X31sZmlsZQ%3D%3D?line=24'>25</a>\u001b[0m \u001b[39mwhile\u001b[39;00m \u001b[39mlen\u001b[39m(threading\u001b[39m.\u001b[39menumerate()) \u001b[39m!=\u001b[39m \u001b[39m1\u001b[39m:\n\u001b[1;32m---> <a href='vscode-notebook-cell:/d%3A/Codes/%E7%8E%8B%E9%81%93Python/day_20/%E5%A4%9A%E7%BA%BF%E7%A8%8B%E7%BC%96%E7%A8%8B.ipynb#X31sZmlsZQ%3D%3D?line=25'>26</a>\u001b[0m     time\u001b[39m.\u001b[39msleep(\u001b[39m0.01\u001b[39m)\n\u001b[0;32m     <a href='vscode-notebook-cell:/d%3A/Codes/%E7%8E%8B%E9%81%93Python/day_20/%E5%A4%9A%E7%BA%BF%E7%A8%8B%E7%BC%96%E7%A8%8B.ipynb#X31sZmlsZQ%3D%3D?line=26'>27</a>\u001b[0m \u001b[39mprint\u001b[39m(\u001b[39m\"\u001b[39m\u001b[39m2 个线程对同一个全局变量操作之后的最终结果是:\u001b[39m\u001b[39m%s\u001b[39;00m\u001b[39m\"\u001b[39m \u001b[39m%\u001b[39m g_num)\n",
      "\u001b[1;31mKeyboardInterrupt\u001b[0m: "
     ]
    }
   ],
   "source": [
    "import threading\n",
    "import time\n",
    "g_num = 0\n",
    "\n",
    "\n",
    "def work1(num):\n",
    "    global g_num\n",
    "    for i in range(num):\n",
    "        g_num += 1\n",
    "    print(\"----in work1, g_num is %d---\" % g_num)\n",
    "\n",
    "\n",
    "def work2(num):\n",
    "    global g_num\n",
    "    for i in range(num):\n",
    "        g_num += 1\n",
    "    print(\"----in work2, g_num is %d---\" % g_num)\n",
    "\n",
    "\n",
    "print(\"---线程创建之前g_num is %d---\" % g_num)\n",
    "t1 = threading.Thread(target=work1, args=(1000000,))\n",
    "t1.start()\n",
    "t2 = threading.Thread(target=work2, args=(1000000,))\n",
    "t2.start()\n",
    "while len(threading.enumerate()) != 1:\n",
    "    time.sleep(0.01)\n",
    "print(\"2 个线程对同一个全局变量操作之后的最终结果是:%s\" % g_num)\n"
   ]
  },
  {
   "attachments": {},
   "cell_type": "markdown",
   "metadata": {},
   "source": [
    "# 8 互斥锁"
   ]
  },
  {
   "cell_type": "code",
   "execution_count": 10,
   "metadata": {},
   "outputs": [
    {
     "name": "stdout",
     "output_type": "stream",
     "text": [
      "---test1---g_num=1345577\n",
      "---test2---g_num=2000000\n"
     ]
    },
    {
     "ename": "KeyboardInterrupt",
     "evalue": "",
     "output_type": "error",
     "traceback": [
      "\u001b[1;31m---------------------------------------------------------------------------\u001b[0m",
      "\u001b[1;31mKeyboardInterrupt\u001b[0m                         Traceback (most recent call last)",
      "\u001b[1;32md:\\Codes\\王道Python\\day_20\\多线程编程.ipynb 单元格 18\u001b[0m in \u001b[0;36m<cell line: 33>\u001b[1;34m()\u001b[0m\n\u001b[0;32m     <a href='vscode-notebook-cell:/d%3A/Codes/%E7%8E%8B%E9%81%93Python/day_20/%E5%A4%9A%E7%BA%BF%E7%A8%8B%E7%BC%96%E7%A8%8B.ipynb#X33sZmlsZQ%3D%3D?line=31'>32</a>\u001b[0m \u001b[39m# 等待计算完成\u001b[39;00m\n\u001b[0;32m     <a href='vscode-notebook-cell:/d%3A/Codes/%E7%8E%8B%E9%81%93Python/day_20/%E5%A4%9A%E7%BA%BF%E7%A8%8B%E7%BC%96%E7%A8%8B.ipynb#X33sZmlsZQ%3D%3D?line=32'>33</a>\u001b[0m \u001b[39mwhile\u001b[39;00m \u001b[39mlen\u001b[39m(threading\u001b[39m.\u001b[39menumerate()) \u001b[39m!=\u001b[39m \u001b[39m1\u001b[39m:\n\u001b[1;32m---> <a href='vscode-notebook-cell:/d%3A/Codes/%E7%8E%8B%E9%81%93Python/day_20/%E5%A4%9A%E7%BA%BF%E7%A8%8B%E7%BC%96%E7%A8%8B.ipynb#X33sZmlsZQ%3D%3D?line=33'>34</a>\u001b[0m     time\u001b[39m.\u001b[39msleep(\u001b[39m1\u001b[39m)\n\u001b[0;32m     <a href='vscode-notebook-cell:/d%3A/Codes/%E7%8E%8B%E9%81%93Python/day_20/%E5%A4%9A%E7%BA%BF%E7%A8%8B%E7%BC%96%E7%A8%8B.ipynb#X33sZmlsZQ%3D%3D?line=34'>35</a>\u001b[0m \u001b[39mprint\u001b[39m(\u001b[39m\"\u001b[39m\u001b[39m2 个线程对同一个全局变量操作之后的最终结果是:\u001b[39m\u001b[39m%s\u001b[39;00m\u001b[39m\"\u001b[39m \u001b[39m%\u001b[39m g_num)\n",
      "\u001b[1;31mKeyboardInterrupt\u001b[0m: "
     ]
    }
   ],
   "source": [
    "import threading\n",
    "import time\n",
    "g_num = 0\n",
    "\n",
    "\n",
    "def test1(num):\n",
    "    global g_num\n",
    "    for i in range(num):\n",
    "        mutex.acquire()  # 上锁\n",
    "        g_num += 1\n",
    "        mutex.release()  # 解锁\n",
    "    print(\"---test1---g_num=%d\" % g_num)\n",
    "\n",
    "\n",
    "def test2(num):\n",
    "    global g_num\n",
    "    for i in range(num):\n",
    "        mutex.acquire()  # 上锁\n",
    "        g_num += 1\n",
    "        mutex.release()  # 解锁\n",
    "    print(\"---test2---g_num=%d\" % g_num)\n",
    "\n",
    "\n",
    "# 创建一个互斥锁\n",
    "# 默认是未上锁的状态\n",
    "mutex = threading.Lock()\n",
    "# 创建2 个线程，让他们各自对g_num 加1000000 次\n",
    "p1 = threading.Thread(target=test1, args=(1000000,))\n",
    "p1.start()\n",
    "p2 = threading.Thread(target=test2, args=(1000000,))\n",
    "p2.start()\n",
    "# 等待计算完成\n",
    "while len(threading.enumerate()) != 1:\n",
    "    time.sleep(1)\n",
    "print(\"2 个线程对同一个全局变量操作之后的最终结果是:%s\" % g_num)\n"
   ]
  },
  {
   "attachments": {},
   "cell_type": "markdown",
   "metadata": {},
   "source": [
    "# 9 死锁"
   ]
  },
  {
   "cell_type": "code",
   "execution_count": 1,
   "metadata": {},
   "outputs": [
    {
     "name": "stdout",
     "output_type": "stream",
     "text": [
      "Thread-3----do1---up----\n",
      "Thread-4----do2---up----\n"
     ]
    }
   ],
   "source": [
    "#coding=utf-8\n",
    "import threading\n",
    "import time\n",
    "class MyThread1(threading.Thread):\n",
    "    def run(self):\n",
    "        # 对mutexA 上锁\n",
    "        mutexA.acquire()\n",
    "        # mutexA 上锁后，延时1 秒，等待另外那个线程把mutexB 上锁\n",
    "        print(self.name+'----do1---up----')\n",
    "        time.sleep(1)\n",
    "        # 此时会堵塞，因为这个mutexB 已经被另外的线程抢先上锁了\n",
    "        mutexB.acquire()\n",
    "        print(self.name+'----do1---down----')\n",
    "        mutexB.release()\n",
    "        # 对mutexA 解锁\n",
    "        mutexA.release()\n",
    "\n",
    "class MyThread2(threading.Thread):\n",
    "    def run(self):\n",
    "        # 对mutexB 上锁\n",
    "        mutexB.acquire()\n",
    "        # mutexB 上锁后，延时1 秒，等待另外那个线程把mutexA 上锁\n",
    "        print(self.name+'----do2---up----')\n",
    "        time.sleep(1)\n",
    "        # 此时会堵塞，因为这个mutexA 已经被另外的线程抢先上锁了\n",
    "        mutexA.acquire()\n",
    "        print(self.name+'----do2---down----')\n",
    "        mutexA.release()\n",
    "        # 对mutexB 解锁\n",
    "        mutexB.release()\n",
    "\n",
    "\n",
    "mutexA = threading.Lock() \n",
    "mutexB = threading.Lock() \n",
    "\n",
    "\n",
    "if __name__ == '__main__':\n",
    "    t1 = MyThread1()\n",
    "    t2 = MyThread2()\n",
    "    t1.start()\n",
    "    t2.start()"
   ]
  },
  {
   "attachments": {},
   "cell_type": "markdown",
   "metadata": {},
   "source": [
    "# 10 案例：多任务版udp 聊天器"
   ]
  },
  {
   "cell_type": "code",
   "execution_count": null,
   "metadata": {},
   "outputs": [],
   "source": [
    "import socket\n",
    "import threading\n",
    "def send_msg(udp_socket):\n",
    "    \"\"\"获取键盘数据，并将其发送给对方\"\"\"\n",
    "    while True:\n",
    "        # 1. 从键盘输入数据\n",
    "        msg = input(\"\\n 请输入要发送的数据:\")\n",
    "        # 2. 输入对方的ip 地址\n",
    "        dest_ip = input(\"\\n 请输入对方的ip 地址:\")\n",
    "        # 3. 输入对方的port\n",
    "        dest_port = int(input(\"\\n 请输入对方的port:\"))\n",
    "        # 4. 发送数据\n",
    "        udp_socket.sendto(msg.encode(\"utf-8\"), (dest_ip, dest_port))\n",
    "def recv_msg(udp_socket):\n",
    "    \"\"\"接收数据并显示\"\"\"\n",
    "    while True:\n",
    "        # 1. 接收数据\n",
    "        recv_msg = udp_socket.recvfrom(1024)\n",
    "        # 2. 解码\n",
    "        recv_ip = recv_msg[1]\n",
    "        recv_msg = recv_msg[0].decode(\"utf-8\")\n",
    "        # 3. 显示接收到的数据\n",
    "        print(\">>>%s:%s\" % (str(recv_ip), recv_msg))\n",
    "def main():\n",
    "    # 1. 创建套接字\n",
    "    udp_socket = socket.socket(socket.AF_INET, socket.SOCK_DGRAM)\n",
    "    # 2. 绑定本地信息\n",
    "    udp_socket.bind((\"\", 7890))\n",
    "    # 3. 创建一个子线程用来接收数据\n",
    "    t = threading.Thread(target=recv_msg, args=(udp_socket,))\n",
    "    t.start()\n",
    "    # 4. 让主线程用来检测键盘数据并且发送\n",
    "    send_msg(udp_socket)\n",
    "if __name__ == \"__main__\":\n",
    "    main()"
   ]
  }
 ],
 "metadata": {
  "kernelspec": {
   "display_name": "Python 3",
   "language": "python",
   "name": "python3"
  },
  "language_info": {
   "codemirror_mode": {
    "name": "ipython",
    "version": 3
   },
   "file_extension": ".py",
   "mimetype": "text/x-python",
   "name": "python",
   "nbconvert_exporter": "python",
   "pygments_lexer": "ipython3",
   "version": "3.8.10"
  },
  "orig_nbformat": 4
 },
 "nbformat": 4,
 "nbformat_minor": 2
}
