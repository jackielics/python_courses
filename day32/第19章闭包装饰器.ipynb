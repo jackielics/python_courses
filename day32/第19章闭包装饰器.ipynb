{
 "cells": [
  {
   "attachments": {},
   "cell_type": "markdown",
   "metadata": {},
   "source": [
    "# 闭包Closure\n",
    "## 闭包的写法\n",
    "在函数内部再定义一个函数，并且这个函数用到了外边函数的变量，返回内部函数"
   ]
  },
  {
   "cell_type": "code",
   "execution_count": 1,
   "metadata": {},
   "outputs": [
    {
     "name": "stdout",
     "output_type": "stream",
     "text": [
      "in test_in 函数, number_in is 100\n",
      "120\n"
     ]
    }
   ],
   "source": [
    "# 定义一个函数\n",
    "def test(number):\n",
    "    # 在函数内部再定义一个函数，并且这个函数用到了外边函数的变量，那么将这个函数以及用到的一些变量称之为闭包\n",
    "    def test_in(number_in):\n",
    "        print(\"in test_in 函数, number_in is %d\" % number_in)\n",
    "        return number+number_in\n",
    "    # 其实这里返回的就是闭包的结果\n",
    "    return test_in\n",
    "\n",
    "\n",
    "# 给test 函数赋值，这个20 就是给参数number\n",
    "ret = test(20)\n",
    "# 注意这里的100 其实给参数number_in\n",
    "print(ret(100))\n"
   ]
  },
  {
   "attachments": {},
   "cell_type": "markdown",
   "metadata": {},
   "source": [
    "## nonlocal与global的区别"
   ]
  },
  {
   "cell_type": "code",
   "execution_count": 1,
   "metadata": {},
   "outputs": [
    {
     "name": "stdout",
     "output_type": "stream",
     "text": [
      "6\n",
      "7\n",
      "51\n",
      "52\n",
      "8\n",
      "9\n",
      "53\n",
      "54\n"
     ]
    }
   ],
   "source": [
    "def counter(start=0):\n",
    "    def incr():\n",
    "        nonlocal start # nonlocal关键字声明变量为外层函数的变量\n",
    "        # q:nonlocal与global的区别\n",
    "        # a:nonlocal关键字声明变量为外层函数的变量，global关键字声明变量为全局变量\n",
    "        start += 1\n",
    "        return start\n",
    "    return incr\n",
    "\n",
    "\n",
    "c1 = counter(5)\n",
    "print(c1())\n",
    "print(c1())\n",
    "c2 = counter(50)\n",
    "print(c2())\n",
    "print(c2())\n",
    "print(c1())\n",
    "print(c1())\n",
    "print(c2())\n",
    "print(c2())\n"
   ]
  },
  {
   "cell_type": "code",
   "execution_count": 3,
   "metadata": {},
   "outputs": [
    {
     "name": "stdout",
     "output_type": "stream",
     "text": [
      "2\n",
      "3\n",
      "4\n",
      "5\n",
      "6\n",
      "7\n",
      "8\n",
      "9\n"
     ]
    }
   ],
   "source": [
    "def counter(start=0):\n",
    "    def incr():\n",
    "        global start # global关键字声明变量为全局变量\n",
    "        start += 1\n",
    "        return start\n",
    "    return incr\n",
    "\n",
    "start = 1\n",
    "c1 = counter(5)\n",
    "print(c1())\n",
    "print(c1())\n",
    "c2 = counter(50)\n",
    "print(c2())\n",
    "print(c2())\n",
    "print(c1())\n",
    "print(c1())\n",
    "print(c2())\n",
    "print(c2())\n"
   ]
  },
  {
   "attachments": {},
   "cell_type": "markdown",
   "metadata": {},
   "source": [
    "# 装饰器\n",
    "## 装饰器执行的顺序\n",
    "装饰是由内而外进行装饰，离函数近的先装饰；执行是由外而内，离函数远的先装饰，类似于栈的操作"
   ]
  },
  {
   "cell_type": "code",
   "execution_count": 7,
   "metadata": {},
   "outputs": [
    {
     "name": "stdout",
     "output_type": "stream",
     "text": [
      "---开始进行装饰权限3 的功能---\n",
      "---开始进行装饰权限2 的功能---\n",
      "---开始进行装饰权限1 的功能---\n",
      "---这是权限验证1----\n",
      "---这是权限验证2----\n",
      "---这是权限验证3----\n",
      "------test1------ 1\n"
     ]
    }
   ],
   "source": [
    "# 多个装饰器装饰同一个函数\n",
    "def add_first(func):\n",
    "    print(\"---开始进行装饰权限1 的功能---\")\n",
    "\n",
    "    def call_func(*args, **kwargs):\n",
    "        print(\"---这是权限验证1----\")\n",
    "        return func(*args, **kwargs)\n",
    "    return call_func\n",
    "\n",
    "\n",
    "def add_second(func):\n",
    "    print(\"---开始进行装饰权限2 的功能---\")\n",
    "\n",
    "    def call_func(*args, **kwargs):\n",
    "        print(\"---这是权限验证2----\")\n",
    "        return func(*args, **kwargs)\n",
    "    return call_func\n",
    "\n",
    "def add_third(func):\n",
    "    print(\"---开始进行装饰权限3 的功能---\")\n",
    "\n",
    "    def call_func(*args, **kwargs):\n",
    "        print(\"---这是权限验证3----\")\n",
    "        return func(*args, **kwargs)\n",
    "    return call_func\n",
    "\n",
    "@add_first # 最后装饰，最先执行\n",
    "@add_second \n",
    "@add_third # 最先装饰，最后执行\n",
    "def test1(a):\n",
    "    print(\"------test1------\", a)\n",
    "\n",
    "\n",
    "test1(1)\n"
   ]
  },
  {
   "attachments": {},
   "cell_type": "markdown",
   "metadata": {},
   "source": [
    "## 装饰器有return"
   ]
  },
  {
   "cell_type": "code",
   "execution_count": 4,
   "metadata": {},
   "outputs": [
    {
     "name": "stdout",
     "output_type": "stream",
     "text": [
      "foo called at Fri Mar 24 10:51:35 2023\n",
      "I am foo\n",
      "foo called at Fri Mar 24 10:51:36 2023\n",
      "I am foo\n",
      "getInfo called at Fri Mar 24 10:51:36 2023\n",
      "----hahah---\n"
     ]
    }
   ],
   "source": [
    "from time import ctime, sleep\n",
    "\n",
    "\n",
    "def timefun(func):\n",
    "    def wrapped_func():\n",
    "        print(\"%s called at %s\" % (func.__name__, ctime()))\n",
    "        # func() # 直接执行func()，ret为None\n",
    "        return func() # 返回func()，ret为func()的返回值\n",
    "\n",
    "    return wrapped_func # ret为None\n",
    "\n",
    "\n",
    "@timefun\n",
    "def foo():\n",
    "    print(\"I am foo\")\n",
    "\n",
    "\n",
    "@timefun\n",
    "def getInfo():\n",
    "    return '----hahah---'\n",
    "\n",
    "\n",
    "foo()\n",
    "sleep(1)\n",
    "foo()\n",
    "ret = getInfo()\n",
    "print(ret)\n"
   ]
  },
  {
   "attachments": {},
   "cell_type": "markdown",
   "metadata": {},
   "source": [
    "## 装饰器带参数\n",
    "在原有装饰器的基础上，设置外部变量"
   ]
  },
  {
   "cell_type": "code",
   "execution_count": 6,
   "metadata": {},
   "outputs": [
    {
     "name": "stdout",
     "output_type": "stream",
     "text": [
      "foo called at Fri Mar 24 10:54:25 2023 wangdao\n",
      "I am foo\n",
      "foo called at Fri Mar 24 10:54:27 2023 wangdao\n",
      "I am foo\n",
      "too called at Fri Mar 24 10:54:27 2023 python\n",
      "I am too\n",
      "too called at Fri Mar 24 10:54:29 2023 python\n",
      "I am too\n"
     ]
    }
   ],
   "source": [
    "from time import ctime, sleep\n",
    "\n",
    "\n",
    "def timefun_arg(pre=\"hello\"):\n",
    "    def timefun(func):\n",
    "        def wrapped_func():\n",
    "            print(\"%s called at %s %s\" % (func.__name__, ctime(), pre))\n",
    "            return func()\n",
    "        return wrapped_func\n",
    "    return timefun\n",
    "# 下面的装饰过程\n",
    "# 1. 调用timefun_arg(\"wangdao\")\n",
    "# 2. 将步骤1 得到的返回值，即time_fun 返回， 然后time_fun(foo)\n",
    "# 3. 将time_fun(foo)的结果返回，即wrapped_func\n",
    "# 4. 让foo = wrapped_fun，即foo 现在指向wrapped_func\n",
    "\n",
    "\n",
    "@timefun_arg(\"wangdao\")\n",
    "def foo():\n",
    "    print(\"I am foo\")\n",
    "\n",
    "\n",
    "@timefun_arg(\"python\")\n",
    "def too():\n",
    "    print(\"I am too\")\n",
    "\n",
    "\n",
    "foo()\n",
    "sleep(2)\n",
    "foo()\n",
    "too()\n",
    "sleep(2)\n",
    "too()\n"
   ]
  },
  {
   "attachments": {},
   "cell_type": "markdown",
   "metadata": {},
   "source": [
    "## 类装饰器"
   ]
  },
  {
   "cell_type": "code",
   "execution_count": 10,
   "metadata": {},
   "outputs": [
    {
     "name": "stdout",
     "output_type": "stream",
     "text": [
      "---初始化---\n",
      "func name is test\n",
      "---装饰器中的功能---\n",
      "----test---\n"
     ]
    }
   ],
   "source": [
    "class Test(object):\n",
    "    def __init__(self, func):\n",
    "        print(\"---初始化---\")\n",
    "        print(\"func name is %s\" % func.__name__)\n",
    "        self.__func = func\n",
    "\n",
    "    def __call__(self):\n",
    "        print(\"---装饰器中的功能---\")\n",
    "        self.__func()\n",
    "\n",
    "\n",
    "@Test  # 相当于test = Test(test)\n",
    "def test():\n",
    "    print(\"----test---\")\n",
    "\n",
    "\n",
    "test()  # 注释掉依然会看到：\"--初始化--\" func name is test\n"
   ]
  },
  {
   "attachments": {},
   "cell_type": "markdown",
   "metadata": {},
   "source": [
    "## 增加warps 的作用\n",
    "warps 保留原函数的自己本身的名字和文档"
   ]
  },
  {
   "cell_type": "code",
   "execution_count": 13,
   "metadata": {},
   "outputs": [
    {
     "name": "stdout",
     "output_type": "stream",
     "text": [
      "wper \t\t\t decorator\n"
     ]
    }
   ],
   "source": [
    "from functools import wraps\n",
    "def my_decorator(func):\n",
    "    def wper(*args, **kwargs):\n",
    "        '''decorator'''\n",
    "        print('Calling decorated function...')\n",
    "        return func(*args, **kwargs)\n",
    "    return wper\n",
    "\n",
    "@my_decorator\n",
    "def example():\n",
    "    \"\"\"Docstring\"\"\"\n",
    "    print('Called example function')\n",
    "\n",
    "print(example.__name__, \"\\t\\t\\t\", example.__doc__)#函数名和文档字符串已经被覆盖\n"
   ]
  },
  {
   "cell_type": "code",
   "execution_count": 14,
   "metadata": {},
   "outputs": [
    {
     "name": "stdout",
     "output_type": "stream",
     "text": [
      "example \t\t\t Docstring\n"
     ]
    }
   ],
   "source": [
    "from functools import wraps\n",
    "\n",
    "\n",
    "def my_decorator(func):\n",
    "    @wraps(func) # 保留原函数的元信息\n",
    "    def wper(*args, **kwargs):\n",
    "        '''decorator'''\n",
    "        print('Calling decorated function...')\n",
    "        return func(*args, **kwargs)\n",
    "    return wper\n",
    "\n",
    "\n",
    "@my_decorator\n",
    "def example():\n",
    "    \"\"\"Docstring\"\"\"\n",
    "    print('Called example function')\n",
    "\n",
    "\n",
    "print(example.__name__, \"\\t\\t\\t\", example.__doc__)  # 函数名和文档字符串还是原来的\n"
   ]
  },
  {
   "cell_type": "code",
   "execution_count": null,
   "metadata": {},
   "outputs": [],
   "source": []
  }
 ],
 "metadata": {
  "kernelspec": {
   "display_name": "Python 3",
   "language": "python",
   "name": "python3"
  },
  "language_info": {
   "codemirror_mode": {
    "name": "ipython",
    "version": 3
   },
   "file_extension": ".py",
   "mimetype": "text/x-python",
   "name": "python",
   "nbconvert_exporter": "python",
   "pygments_lexer": "ipython3",
   "version": "3.8.10"
  },
  "orig_nbformat": 4
 },
 "nbformat": 4,
 "nbformat_minor": 2
}
