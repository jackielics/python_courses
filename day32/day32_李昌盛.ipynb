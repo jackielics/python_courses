{
 "cells": [
  {
   "attachments": {},
   "cell_type": "markdown",
   "metadata": {},
   "source": [
    "# 1、\t掌握索引的创建，删除，以及知晓索引默认类型"
   ]
  },
  {
   "cell_type": "code",
   "execution_count": null,
   "metadata": {},
   "outputs": [],
   "source": [
    "%%sql\n",
    "\n",
    "show index from Customers # 创建\n",
    "\n",
    "drop index 索引名称on 表名 # 删除"
   ]
  },
  {
   "attachments": {},
   "cell_type": "markdown",
   "metadata": {},
   "source": [
    "# 2、\t测试10万笔数据情况下有索引和没索引的时间差异对比"
   ]
  },
  {
   "cell_type": "code",
   "execution_count": null,
   "metadata": {},
   "outputs": [],
   "source": [
    "# Python代码\n",
    "from pymysql import connect\n",
    "\n",
    "\n",
    "def main():\n",
    "    # 创建Connection 连接\n",
    "    conn = connect(host='localhost', port=3306, database='jing_dong',\n",
    "                   user='root', password='mysql', charset='utf8')\n",
    "    # 获得Cursor 对象\n",
    "    cursor = conn.cursor()\n",
    "    # 插入10 万次数据\n",
    "    for i in range(100000):\n",
    "        cursor.execute(\"insert into test_index values('ha-%d')\" % i)\n",
    "    # 提交数据\n",
    "    conn.commit()\n",
    "\n",
    "\n",
    "if __name__ == \"__main__\":\n",
    "    main()\n"
   ]
  },
  {
   "cell_type": "code",
   "execution_count": null,
   "metadata": {},
   "outputs": [],
   "source": [
    "%%sql\n",
    "# • 开启运行时间监测：\n",
    "set profiling=1\n",
    "# • 查找第1 万条数据ha-99999\n",
    "select * from test_index where title='ha-99999'\n",
    "# • 查看执行的时间：\n",
    "show profiles\n",
    "# • 为表title_index 的title 列创建索引：\n",
    "create index title_index on test_index(title(10))\n",
    "# • 执行查询语句：\n",
    "select * from test_index where title='ha-99999'\n",
    "# • 再次查看执行的时间\n",
    "show profiles"
   ]
  },
  {
   "attachments": {},
   "cell_type": "markdown",
   "metadata": {},
   "source": [
    "# 3、\t能够使用闭包解决一元一次表达式y=a*x+b的多种a，b值问题"
   ]
  },
  {
   "cell_type": "code",
   "execution_count": 1,
   "metadata": {},
   "outputs": [
    {
     "data": {
      "text/plain": [
       "19"
      ]
     },
     "execution_count": 1,
     "metadata": {},
     "output_type": "execute_result"
    }
   ],
   "source": [
    "# 使用闭包解决一元一次表达式y=a*x+b的多种a，b值问题\n",
    "def get_y(a, b):\n",
    "    def y(x):\n",
    "        return a * x + b\n",
    "    return y\n",
    "\n",
    "y = get_y(3,4)\n",
    "y(5)"
   ]
  },
  {
   "attachments": {},
   "cell_type": "markdown",
   "metadata": {},
   "source": [
    "# 4、\t闭包变量nonlocal修饰的使用练习"
   ]
  },
  {
   "cell_type": "code",
   "execution_count": null,
   "metadata": {},
   "outputs": [],
   "source": [
    "def counter(start=0):\n",
    "    def incr():\n",
    "        nonlocal start # nonlocal关键字声明变量为外层函数的变量\n",
    "        # q:nonlocal与global的区别\n",
    "        # a:nonlocal关键字声明变量为外层函数的变量，global关键字声明变量为全局变量\n",
    "        start += 1\n",
    "        return start\n",
    "    return incr\n",
    "\n",
    "\n",
    "c1 = counter(5)\n",
    "print(c1())\n",
    "print(c1())\n",
    "c2 = counter(50)\n",
    "print(c2())\n",
    "print(c2())\n",
    "print(c1())\n",
    "print(c1())\n",
    "print(c2())\n",
    "print(c2())\n"
   ]
  },
  {
   "attachments": {},
   "cell_type": "markdown",
   "metadata": {},
   "source": [
    "# 5、\t使用装饰器为某个函数增加权限验证"
   ]
  },
  {
   "cell_type": "code",
   "execution_count": 3,
   "metadata": {},
   "outputs": [
    {
     "name": "stdout",
     "output_type": "stream",
     "text": [
      "---开始进行装饰权限的功能---\n",
      "---这是权限验证----\n",
      "------test1------ 1\n"
     ]
    }
   ],
   "source": [
    "def authentication(func):\n",
    "    print(\"---开始进行装饰权限的功能---\")\n",
    "\n",
    "    def call_func(*args, **kwargs):\n",
    "        print(\"---这是权限验证----\")\n",
    "        return func(*args, **kwargs)\n",
    "    return call_func\n",
    "\n",
    "\n",
    "@authentication # 最后装饰，最先执行\n",
    "def test1(a):\n",
    "    print(\"------test1------\", a)\n",
    "\n",
    "\n",
    "test1(1)\n"
   ]
  },
  {
   "attachments": {},
   "cell_type": "markdown",
   "metadata": {},
   "source": [
    "# 6、\t多个装饰器的执行顺序练习，掌握其原理"
   ]
  },
  {
   "cell_type": "code",
   "execution_count": null,
   "metadata": {},
   "outputs": [],
   "source": [
    "# 多个装饰器装饰同一个函数\n",
    "def add_first(func):\n",
    "    print(\"---开始进行装饰权限1 的功能---\")\n",
    "\n",
    "    def call_func(*args, **kwargs):\n",
    "        print(\"---这是权限验证1----\")\n",
    "        return func(*args, **kwargs)\n",
    "    return call_func\n",
    "\n",
    "\n",
    "def add_second(func):\n",
    "    print(\"---开始进行装饰权限2 的功能---\")\n",
    "\n",
    "    def call_func(*args, **kwargs):\n",
    "        print(\"---这是权限验证2----\")\n",
    "        return func(*args, **kwargs)\n",
    "    return call_func\n",
    "\n",
    "def add_third(func):\n",
    "    print(\"---开始进行装饰权限3 的功能---\")\n",
    "\n",
    "    def call_func(*args, **kwargs):\n",
    "        print(\"---这是权限验证3----\")\n",
    "        return func(*args, **kwargs)\n",
    "    return call_func\n",
    "\n",
    "@add_first # 最后装饰，最先执行\n",
    "@add_second \n",
    "@add_third # 最先装饰，最后执行\n",
    "def test1(a):\n",
    "    print(\"------test1------\", a)\n",
    "\n",
    "\n",
    "test1(1)\n"
   ]
  },
  {
   "cell_type": "code",
   "execution_count": null,
   "metadata": {},
   "outputs": [],
   "source": []
  }
 ],
 "metadata": {
  "kernelspec": {
   "display_name": "Python 3",
   "language": "python",
   "name": "python3"
  },
  "language_info": {
   "codemirror_mode": {
    "name": "ipython",
    "version": 3
   },
   "file_extension": ".py",
   "mimetype": "text/x-python",
   "name": "python",
   "nbconvert_exporter": "python",
   "pygments_lexer": "ipython3",
   "version": "3.8.10"
  },
  "orig_nbformat": 4
 },
 "nbformat": 4,
 "nbformat_minor": 2
}
