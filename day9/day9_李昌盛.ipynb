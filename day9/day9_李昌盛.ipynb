{
 "cells": [
  {
   "attachments": {},
   "cell_type": "markdown",
   "metadata": {},
   "source": [
    "1、练习继承、使用super调用父类方法，多重继承练习（和上课保持一致即可）"
   ]
  },
  {
   "cell_type": "code",
   "execution_count": null,
   "metadata": {},
   "outputs": [],
   "source": [
    "class Animal:\n",
    "    def bark(self):\n",
    "        print (\"Animal!\")\n",
    "\n",
    "class Mammal:\n",
    "    def bark(self):\n",
    "        print (\"Mammal!\")\n",
    "        \n",
    "class Dog(Animal,Mammal):\n",
    "    def bark(self):\n",
    "        super(Mammal,self).bark()\n",
    "\n",
    "d = Dog()\n",
    "d.bark()\n",
    "#输出\"Mammal!\""
   ]
  },
  {
   "attachments": {},
   "cell_type": "markdown",
   "metadata": {},
   "source": [
    "2、完成类属性，类方法，静态方法的使用（和上课保持一致即可）"
   ]
  },
  {
   "cell_type": "code",
   "execution_count": 4,
   "metadata": {},
   "outputs": [
    {
     "name": "stdout",
     "output_type": "stream",
     "text": [
      "现在创建了2个工具\n",
      "工具对象总数2\n",
      "工具对象的总数2\n",
      "static!\n"
     ]
    }
   ],
   "source": [
    "class Tool(object):\n",
    "    count = 0\n",
    "    def __init__(self):\n",
    "        Tool.count += 1\n",
    "    @classmethod\n",
    "    def show_tool_count(cls):\n",
    "        \"\"\"显示工具对象的总数\"\"\"\n",
    "        print(\"工具对象的总数%d\"%cls.count)\n",
    "    \n",
    "    @staticmethod\n",
    "    def show_static():\n",
    "        print(\"static!\")\n",
    "\n",
    "tool1 = Tool()\n",
    "tool2 = Tool()\n",
    "print(\"现在创建了%d个工具\"%Tool.count)\n",
    "print(\"工具对象总数%d\"%tool1.count)\n",
    "Tool.show_tool_count()\n",
    "Tool.show_static()"
   ]
  }
 ],
 "metadata": {
  "kernelspec": {
   "display_name": "Python 3",
   "language": "python",
   "name": "python3"
  },
  "language_info": {
   "codemirror_mode": {
    "name": "ipython",
    "version": 3
   },
   "file_extension": ".py",
   "mimetype": "text/x-python",
   "name": "python",
   "nbconvert_exporter": "python",
   "pygments_lexer": "ipython3",
   "version": "3.8.10"
  },
  "orig_nbformat": 4,
  "vscode": {
   "interpreter": {
    "hash": "f5946b6e853b34f473fb738bafc13c5730ec46b1be076a90eae2c15b8d0b108b"
   }
  }
 },
 "nbformat": 4,
 "nbformat_minor": 2
}
