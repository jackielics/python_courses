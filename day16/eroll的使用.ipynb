{
 "cells": [
  {
   "cell_type": "code",
   "execution_count": null,
   "metadata": {},
   "outputs": [],
   "source": [
    "import select # 导入select模块\n",
    "epol=select.epoll() # 创建一个epol对象\n",
    "epol.register(文件句柄,事件类型) # 注册要监控的文件句柄和事件\n",
    "# 事件类型\n",
    "    # select.EPOLLIN  可读事件\n",
    "    # select.EPOLLOUT 可写事件\n",
    "    # select.EPOLLERR 错误事件\n",
    "    # select.EPOLLHUP 客户端断开事件\n",
    "epol.unregister(文件句柄) # 销毁文件句柄\n",
    "epol.poll(timeout) # 当文件句柄发生变化，则会以列表的形式主动报告给用户进程，timeout 为超时时间，默认为-1，即一直等待直到文件句柄发生变化，如果指定为1那么epol每1秒汇报一次当前文件句柄的变化情况，如果无变化则返回空\n",
    "epol.fileno() # 返回epoll的控制文件描述符(Return the epoll control file descriptor)\n",
    "epol.modfiy(fineno,event) # fineno为文件描述符event为事件类型作用是修改文件描述符所对应的事件\n",
    "epol.fromfd(fileno) # 从1个指定的文件描述符创建1个epo对象\n",
    "epol.close() # 关闭epol对象的控制文件描述符"
   ]
  },
  {
   "attachments": {},
   "cell_type": "markdown",
   "metadata": {},
   "source": [
    "# eroll的使用流程"
   ]
  },
  {
   "attachments": {},
   "cell_type": "markdown",
   "metadata": {},
   "source": [
    "1 创建一个epol对象 \\\n",
    "epol=select.epoll()\n",
    "\n",
    "2 在指定的socket上监听指定的事件 \\\n",
    "epol.register(文件句柄,事件类型)\n",
    "\n"
   ]
  },
  {
   "cell_type": "code",
   "execution_count": null,
   "metadata": {},
   "outputs": [],
   "source": [
    "import select # 导入select模块\n",
    "epol=select.epoll() # 创建一个epol对象\n",
    "epol.register(文件句柄,事件类型) # 注册要监控的文件句柄和事件\n",
    "# 事件类型\n",
    "    # select.EPOLLIN  可读事件\n",
    "    # select.EPOLLOUT 可写事件\n",
    "    # select.EPOLLERR 错误事件\n",
    "    # select.EPOLLHUP 客户端断开事件\n",
    "epol.unregister(文件句柄) # 销毁文件句柄\n",
    "epoll.poll(timeout) # 当文件句柄发生变化，则会以列表的形式主动报告给用户进程，timeout 为超时时间，默认为-1，即一直等待直到文件句柄发生变化，如果指定为1那么epol每1秒汇报一次当前文件句柄的变化情况，如果无变化则返回空\n",
    "epol.fileno() # 返回epoll的控制文件描述符(Return the epoll control file descriptor)\n",
    "epol.modfiy(fineno,event) # fineno为文件描述符event为事件类型作用是修改文件描述符所对应的事件\n",
    "epol.fromfd(fileno) # 从1个指定的文件描述符创建1个epo对象\n",
    "epol.close() # 关闭epol对象的控制文件描述符"
   ]
  },
  {
   "cell_type": "code",
   "execution_count": null,
   "metadata": {},
   "outputs": [],
   "source": []
  }
 ],
 "metadata": {
  "kernelspec": {
   "display_name": "Python 3",
   "language": "python",
   "name": "python3"
  },
  "language_info": {
   "codemirror_mode": {
    "name": "ipython",
    "version": 3
   },
   "file_extension": ".py",
   "mimetype": "text/x-python",
   "name": "python",
   "nbconvert_exporter": "python",
   "pygments_lexer": "ipython3",
   "version": "3.8.10"
  },
  "orig_nbformat": 4
 },
 "nbformat": 4,
 "nbformat_minor": 2
}
