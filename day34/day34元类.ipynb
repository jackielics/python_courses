{
 "cells": [
  {
   "attachments": {},
   "cell_type": "markdown",
   "metadata": {},
   "source": [
    "# 1. 类也是对象"
   ]
  },
  {
   "cell_type": "code",
   "execution_count": 4,
   "metadata": {},
   "outputs": [
    {
     "name": "stdout",
     "output_type": "stream",
     "text": [
      "<class '__main__.ObjectCreator'>\n",
      "<class '__main__.ObjectCreator'>\n",
      "False\n",
      "True\n",
      "foo\n",
      "<__main__.ObjectCreator object at 0x0000021BD717D850>\n"
     ]
    }
   ],
   "source": [
    "class ObjectCreator(object):\n",
    "    pass\n",
    "\n",
    "print(ObjectCreator)\n",
    "def echo(o):\n",
    "    print(o)\n",
    "\n",
    "echo(ObjectCreator) # 你可以将类做为参数传给函数\n",
    "print(hasattr(ObjectCreator, 'new_attribute'))\n",
    "ObjectCreator.new_attribute = 'foo' # 你可以为类增加属性\n",
    "print(hasattr(ObjectCreator, 'new_attribute'))\n",
    "print(ObjectCreator.new_attribute)\n",
    "ObjectCreatorMirror = ObjectCreator # 你可以将类赋值给一个变量\n",
    "print(ObjectCreatorMirror())"
   ]
  },
  {
   "attachments": {},
   "cell_type": "markdown",
   "metadata": {},
   "source": [
    "# 2. 动态地创建类"
   ]
  },
  {
   "cell_type": "code",
   "execution_count": 5,
   "metadata": {},
   "outputs": [
    {
     "name": "stdout",
     "output_type": "stream",
     "text": [
      "<class 'int'>\n",
      "<class 'str'>\n",
      "<class '__main__.ObjectCreator'>\n",
      "<class 'type'>\n"
     ]
    }
   ],
   "source": [
    "print(type(1)) # 数值的类型\n",
    "print(type(\"1\")) # 字符串的类型\n",
    "print(type(ObjectCreator())) # 实例对象的类型\n",
    "print(type(ObjectCreator)) # 类的类型"
   ]
  },
  {
   "attachments": {},
   "cell_type": "markdown",
   "metadata": {},
   "source": [
    "# 3. 使用type 创建类\n",
    "type 可以接受一个类的描述作为参数，然后返回一个类。type(类名, 由父类名称组成的元组（针对继承的情况，可以为空），包含属性的字（名称和值）)"
   ]
  },
  {
   "cell_type": "code",
   "execution_count": 15,
   "metadata": {},
   "outputs": [
    {
     "name": "stdout",
     "output_type": "stream",
     "text": [
      "<__main__.Test object at 0x0000021BD51BD520>\n",
      "<__main__.Test2 object at 0x0000021BD51BD520>\n",
      "<class '__main__.MyDog'>\n",
      "Help on class Test2 in module __main__:\n",
      "\n",
      "class Test2(builtins.object)\n",
      " |  Data descriptors defined here:\n",
      " |  \n",
      " |  __dict__\n",
      " |      dictionary for instance variables (if defined)\n",
      " |  \n",
      " |  __weakref__\n",
      " |      list of weak references to the object (if defined)\n",
      "\n"
     ]
    }
   ],
   "source": [
    "class Test: #定义了一个Test 类\n",
    "    pass\n",
    "print(Test()) # 创建了一个Test 类的实例对象\n",
    "Test2 = type(\"Test2\", (), {}) # 定了一个Test2 类\n",
    "print(Test2()) # 创建了一个Test2 类的实例对象\n",
    "\n",
    "MyDogClass = type('MyDog', (), {})\n",
    "print(MyDogClass)\n",
    "help(Test2)"
   ]
  },
  {
   "attachments": {},
   "cell_type": "markdown",
   "metadata": {},
   "source": [
    "# 4. 使用type 创建带有属性的类"
   ]
  },
  {
   "cell_type": "code",
   "execution_count": 3,
   "metadata": {},
   "outputs": [
    {
     "name": "stdout",
     "output_type": "stream",
     "text": [
      "<class '__main__.Foo'>\n",
      "True\n",
      "<__main__.Foo object at 0x00000192CD3C1970>\n",
      "True\n",
      "Help on class Foo in module __main__:\n",
      "\n",
      "class Foo(builtins.object)\n",
      " |  Data descriptors defined here:\n",
      " |  \n",
      " |  __dict__\n",
      " |      dictionary for instance variables (if defined)\n",
      " |  \n",
      " |  __weakref__\n",
      " |      list of weak references to the object (if defined)\n",
      " |  \n",
      " |  ----------------------------------------------------------------------\n",
      " |  Data and other attributes defined here:\n",
      " |  \n",
      " |  bar = True\n",
      "\n",
      "<class '__main__.FooChild'>\n",
      "True\n"
     ]
    }
   ],
   "source": [
    "Foo = type('Foo', (), {'bar': True})\n",
    "\"\"\" 等价为\n",
    "class Foo(object):\n",
    "    bar = True \"\"\"\n",
    "print(Foo)\n",
    "print(Foo.bar)\n",
    "f = Foo()\n",
    "print(f)\n",
    "print(f.bar)\n",
    "help(Foo)\n",
    "# 当然，你可以继承这个类，代码如下：\n",
    "class FooChild(Foo):\n",
    "    pass\n",
    "FooChild = type('FooChild', (Foo,), {})\n",
    "print(FooChild)\n",
    "print(FooChild.bar) # bar 属性是由Foo 继承而来"
   ]
  },
  {
   "attachments": {},
   "cell_type": "markdown",
   "metadata": {},
   "source": [
    "# 5. 使用type 创建带有方法的类"
   ]
  },
  {
   "cell_type": "code",
   "execution_count": 4,
   "metadata": {},
   "outputs": [
    {
     "name": "stdout",
     "output_type": "stream",
     "text": [
      "False\n",
      "True\n",
      "True\n"
     ]
    }
   ],
   "source": [
    "def echo_bar(self): # 定义了一个普通的函数\n",
    "    print(self.bar)\n",
    "FooChild = type('FooChild', (Foo,), {'echo_bar': echo_bar}) #\n",
    "# 让FooChild 类中的echo_bar 属性，指向了上面定义的函数\n",
    "print(hasattr(Foo, 'echo_bar')) # 判断Foo 类中是否有echo_bar 这个属性\n",
    "print(hasattr(FooChild, 'echo_bar')) # 判断FooChild 类中是否有echo_bar 这个属性\n",
    "my_foo = FooChild()\n",
    "my_foo.echo_bar()"
   ]
  },
  {
   "cell_type": "code",
   "execution_count": 8,
   "metadata": {},
   "outputs": [
    {
     "name": "stdout",
     "output_type": "stream",
     "text": [
      "添加静态方法\n",
      "<function test_static at 0x00000192CCF16CA0>\n",
      "static method ....\n",
      "True\n",
      "添加类方法\n",
      "True\n",
      "较为完整的使用type 创建类的方式:\n",
      "100\n",
      "----haha-----\n",
      "100\n"
     ]
    }
   ],
   "source": [
    "# 添加静态方法\n",
    "print(\"添加静态方法\")\n",
    "\n",
    "\n",
    "@staticmethod\n",
    "def test_static():\n",
    "    print(\"static method ....\")\n",
    "\n",
    "\n",
    "Foochild = type('Foochild', (Foo,), {\n",
    "                \"echo_bar\": echo_bar, \"test_static\": test_static})\n",
    "fooclid = Foochild()\n",
    "print(fooclid.test_static)\n",
    "fooclid.test_static()\n",
    "fooclid.echo_bar()\n",
    "\n",
    "# 添加类方法\n",
    "print(\"添加类方法\")\n",
    "\n",
    "\n",
    "@classmethod\n",
    "def test_class(cls):\n",
    "    print(cls.bar)\n",
    "\n",
    "\n",
    "Foochild = type('Foochild', (Foo,), {\n",
    "                \"echo_bar\": echo_bar, \"test_static\": test_static, \"test_class\": test_class})\n",
    "fooclid = Foochild()\n",
    "fooclid.test_class()\n",
    "\n",
    "# 较为完整的使用type 创建类的方式:\n",
    "print(\"较为完整的使用type 创建类的方式:\")\n",
    "\n",
    "\n",
    "class A(object):\n",
    "    num = 100\n",
    "\n",
    "\n",
    "def print_b(self):\n",
    "    print(self.num)\n",
    "\n",
    "\n",
    "@staticmethod\n",
    "def print_static():\n",
    "    print(\"----haha-----\")\n",
    "\n",
    "\n",
    "@classmethod\n",
    "def print_class(cls):\n",
    "    print(cls.num)\n",
    "\n",
    "\n",
    "B = type(\"B\", (A,), {\"print_b\": print_b, \"print_static\": print_static,\n",
    "                     \"print_class\": print_class})\n",
    "b = B()\n",
    "b.print_b()\n",
    "b.print_static()\n",
    "b.print_class()\n"
   ]
  },
  {
   "attachments": {},
   "cell_type": "markdown",
   "metadata": {},
   "source": [
    "# 6. 到底什么是元类\n",
    "元类就是用来创建类的“东西”，type 实际上是一个元类"
   ]
  },
  {
   "cell_type": "code",
   "execution_count": 10,
   "metadata": {},
   "outputs": [
    {
     "name": "stdout",
     "output_type": "stream",
     "text": [
      "<class 'int'>\n",
      "<class 'str'>\n",
      "<class 'function'>\n",
      "<class '__main__.Bar'>\n",
      "<class 'type'>\n",
      "<class 'type'>\n",
      "<class 'type'>\n"
     ]
    }
   ],
   "source": [
    "age = 35\n",
    "print(age.__class__) # 对象.__class__ 获取该对象所属的类对象\n",
    "name = 'bob'\n",
    "print(name.__class__)\n",
    "def foo(): \n",
    "    pass\n",
    "print(foo.__class__)\n",
    "class Bar(object): \n",
    "    pass\n",
    "b = Bar()\n",
    "print(b.__class__) # 对象.__class__.__class__ 获取对象所属类的元类\n",
    "print(age.__class__.__class__)\n",
    "print(foo.__class__.__class__)\n",
    "print(b.__class__.__class__)"
   ]
  },
  {
   "cell_type": "markdown",
   "metadata": {},
   "source": []
  },
  {
   "attachments": {},
   "cell_type": "markdown",
   "metadata": {},
   "source": [
    "# 8. 自定义元类"
   ]
  },
  {
   "cell_type": "code",
   "execution_count": 1,
   "metadata": {},
   "outputs": [
    {
     "name": "stdout",
     "output_type": "stream",
     "text": [
      "False\n",
      "True\n",
      "bip\n"
     ]
    }
   ],
   "source": [
    "# -*- coding:utf-8 -*-\n",
    "def upper_attr(class_name, class_parents, class_attr):\n",
    "    # 遍历属性字典，把不是__开头的属性名字变为大写\n",
    "    new_attr = {}\n",
    "    for name, value in class_attr.items():\n",
    "        if not name.startswith(\"__\"):\n",
    "            new_attr[name.upper()] = value\n",
    "    # 调用type 来创建一个类\n",
    "    return type(class_name, class_parents, new_attr)\n",
    "\n",
    "\n",
    "class Foo(object, metaclass=upper_attr):\n",
    "    bar = 'bip'\n",
    "\n",
    "\n",
    "print(hasattr(Foo, 'bar'))\n",
    "print(hasattr(Foo, 'BAR'))\n",
    "\n",
    "f = Foo()\n",
    "print(f.BAR)\n"
   ]
  },
  {
   "cell_type": "code",
   "execution_count": 2,
   "metadata": {},
   "outputs": [
    {
     "name": "stdout",
     "output_type": "stream",
     "text": [
      "False\n",
      "True\n",
      "bip\n"
     ]
    }
   ],
   "source": [
    "# coding=utf-8\n",
    "class UpperAttrMetaClass(type):\n",
    "    # __new__ 是在__init__之前被调用的特殊方法\n",
    "    # __new__是用来创建对象并返回之的方法\n",
    "    # 而__init__只是用来将传入的参数初始化给对象\n",
    "    # 你很少用到__new__，除非你希望能够控制对象的创建\n",
    "    # 这里，创建的对象是类，我们希望能够自定义它，所以我们这里改写__new__\n",
    "    # 如果你希望的话，你也可以在__init__中做些事情\n",
    "    # 还有一些高级的用法会涉及到改写__call__特殊方法，但是我们这里不用\n",
    "    def __new__(cls, class_name, class_parents, class_attr):\n",
    "        # 遍历属性字典，把不是__开头的属性名字变为大写\n",
    "        new_attr = {}\n",
    "        for name, value in class_attr.items():\n",
    "            if not name.startswith(\"__\"):\n",
    "                new_attr[name.upper()] = value\n",
    "        # 方法1：通过'type'来做类对象的创建，不要用这种\n",
    "        return type(class_name, class_parents, new_attr)\n",
    "        # 方法2：复用type.__new__方法\n",
    "        # 这就是基本的OOP 编程，没什么魔法，用这一种，可以保证父类使用metaclass 正确\n",
    "        # return type.__new__(cls, class_name, class_parents, new_attr)\n",
    "\n",
    "# python3 的用法\n",
    "\n",
    "\n",
    "class Foo(object, metaclass=UpperAttrMetaClass): \n",
    "    # metaclass参数指示Python解释器在创建Foo时，要通过UpperAttrMetaClass.__new__()来创建\n",
    "    bar = 'bip'\n",
    "\n",
    "\n",
    "print(hasattr(Foo, 'bar')) # hasattr的功能：判断对象是否有某个属性\n",
    "# 输出: False\n",
    "print(hasattr(Foo, 'BAR'))\n",
    "# 输出:True\n",
    "f = Foo()\n",
    "print(f.BAR)\n",
    "# 输出:'bip'\n"
   ]
  },
  {
   "attachments": {},
   "cell_type": "markdown",
   "metadata": {},
   "source": [
    "# 9.元类生成的类对象A能不能继续作为类B的metaclass？\n",
    "metaclass在class之间最多只能传递一次"
   ]
  },
  {
   "cell_type": "code",
   "execution_count": 13,
   "metadata": {},
   "outputs": [
    {
     "ename": "TypeError",
     "evalue": "B() takes no arguments",
     "output_type": "error",
     "traceback": [
      "\u001b[1;31m---------------------------------------------------------------------------\u001b[0m",
      "\u001b[1;31mTypeError\u001b[0m                                 Traceback (most recent call last)",
      "\u001b[1;32md:\\Codes\\王道Python\\day34\\34.ipynb 单元格 20\u001b[0m in \u001b[0;36m<cell line: 7>\u001b[1;34m()\u001b[0m\n\u001b[0;32m      <a href='vscode-notebook-cell:/d%3A/Codes/%E7%8E%8B%E9%81%93Python/day34/34.ipynb#X44sZmlsZQ%3D%3D?line=3'>4</a>\u001b[0m \u001b[39mclass\u001b[39;00m \u001b[39mB\u001b[39;00m(metaclass\u001b[39m=\u001b[39mA):\n\u001b[0;32m      <a href='vscode-notebook-cell:/d%3A/Codes/%E7%8E%8B%E9%81%93Python/day34/34.ipynb#X44sZmlsZQ%3D%3D?line=4'>5</a>\u001b[0m     \u001b[39mpass\u001b[39;00m\n\u001b[1;32m----> <a href='vscode-notebook-cell:/d%3A/Codes/%E7%8E%8B%E9%81%93Python/day34/34.ipynb#X44sZmlsZQ%3D%3D?line=6'>7</a>\u001b[0m \u001b[39mclass\u001b[39;00m \u001b[39mC\u001b[39;00m(metaclass\u001b[39m=\u001b[39mB):\n\u001b[0;32m      <a href='vscode-notebook-cell:/d%3A/Codes/%E7%8E%8B%E9%81%93Python/day34/34.ipynb#X44sZmlsZQ%3D%3D?line=7'>8</a>\u001b[0m     \u001b[39mpass\u001b[39;00m\n\u001b[0;32m     <a href='vscode-notebook-cell:/d%3A/Codes/%E7%8E%8B%E9%81%93Python/day34/34.ipynb#X44sZmlsZQ%3D%3D?line=9'>10</a>\u001b[0m \u001b[39mprint\u001b[39m(\u001b[39mtype\u001b[39m(C))\n",
      "\u001b[1;31mTypeError\u001b[0m: B() takes no arguments"
     ]
    }
   ],
   "source": [
    "class A(type):\n",
    "    pass\n",
    "\n",
    "class B(metaclass=A):\n",
    "    pass\n",
    "\n",
    "class C(metaclass=B):\n",
    "    pass\n",
    "\n",
    "print(type(C)) # 会报错，因为C 的元类是B，B 的元类是A，A 是type 的子类，但是type 是不允许被继承的\n"
   ]
  },
  {
   "cell_type": "code",
   "execution_count": null,
   "metadata": {},
   "outputs": [],
   "source": []
  }
 ],
 "metadata": {
  "kernelspec": {
   "display_name": "Python 3",
   "language": "python",
   "name": "python3"
  },
  "language_info": {
   "codemirror_mode": {
    "name": "ipython",
    "version": 3
   },
   "file_extension": ".py",
   "mimetype": "text/x-python",
   "name": "python",
   "nbconvert_exporter": "python",
   "pygments_lexer": "ipython3",
   "version": "3.8.10"
  },
  "orig_nbformat": 4
 },
 "nbformat": 4,
 "nbformat_minor": 2
}
