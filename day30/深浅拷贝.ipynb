{
 "cells": [
  {
   "attachments": {},
   "cell_type": "markdown",
   "metadata": {},
   "source": [
    "## is 和 == 的区别\n",
    "\n",
    "is ： 比较两个对象的引用是否相同，即 它们的id 是否一样 \\\n",
    "== ： 比较两个对象的值是否相同。"
   ]
  },
  {
   "attachments": {},
   "cell_type": "markdown",
   "metadata": {},
   "source": [
    "浅拷贝： 拷贝的是对象的引用，如果原对象改变，相应的拷贝对象也会发生改变\n",
    "\n",
    "深拷贝： 拷贝对象中的每个元素，拷贝对象和原有对象不在有关系，两个是独立的对象"
   ]
  },
  {
   "attachments": {},
   "cell_type": "markdown",
   "metadata": {},
   "source": [
    "## copy.copy()\n",
    "创建一个原始对象的浅拷贝（Shallow Copy），即创建一个新的对象，其中包含原始对象的所有元素的引用，而不是复制原始对象中的元素本身。"
   ]
  },
  {
   "cell_type": "code",
   "execution_count": 2,
   "metadata": {},
   "outputs": [
    {
     "name": "stdout",
     "output_type": "stream",
     "text": [
      "[[0, 2, 3], [4, 5, 6]]\n",
      "[[0, 2, 3], [4, 5, 6]]\n"
     ]
    }
   ],
   "source": [
    "\"\"\" 如果原始对象是一个可变对象，浅拷贝将创建一个新的对象，其中包含与原始对象相同的元素，\n",
    "但这些元素本身并没有被复制，而是仍然指向原始对象的元素。这意味着，如果修改浅拷贝对象中的一个元素，\n",
    "它将反映在原始对象中。 \"\"\"\n",
    "import copy\n",
    "\n",
    "# 浅拷贝示例\n",
    "original_list = [[1, 2, 3], [4, 5, 6]]\n",
    "new_list = copy.copy(original_list)\n",
    "\n",
    "# 修改 new_list 中的元素\n",
    "new_list[0][0] = 0\n",
    "\n",
    "# 原始列表也随之改变\n",
    "print(original_list)  # 输出 [[0, 2, 3], [4, 5, 6]]\n",
    "print(new_list)  # 输出 [[0, 2, 3], [4, 5, 6]]"
   ]
  },
  {
   "attachments": {},
   "cell_type": "markdown",
   "metadata": {},
   "source": [
    "\n",
    "如果原始对象是一个不可变对象（如元组或字符串），则浅拷贝将返回原始对象本身，因为这些对象无法更改。\n",
    "\n",
    "copy.copy() 的作用在于创建一个新的对象，而不是引用原始对象。这对于需要在不改变原始对象的情况下修改它的副本非常有用。但需要注意的是，由于浅拷贝只复制对象的引用，因此如果原始对象包含嵌套的可变对象，这些对象也将被复制为引用，而不是复制它们本身。在这种情况下，可以使用 copy.deepcopy() 方法创建一个深拷贝（Deep Copy），以便完全复制对象及其嵌套对象。"
   ]
  },
  {
   "attachments": {},
   "cell_type": "markdown",
   "metadata": {},
   "source": [
    "## copy.deepcopy() \n",
    "可以认为 copy.deepcopy() 创建的对象与原始的对象没有任何关系了"
   ]
  },
  {
   "cell_type": "code",
   "execution_count": null,
   "metadata": {},
   "outputs": [],
   "source": []
  },
  {
   "cell_type": "code",
   "execution_count": null,
   "metadata": {},
   "outputs": [],
   "source": []
  }
 ],
 "metadata": {
  "kernelspec": {
   "display_name": "Python 3",
   "language": "python",
   "name": "python3"
  },
  "language_info": {
   "codemirror_mode": {
    "name": "ipython",
    "version": 3
   },
   "file_extension": ".py",
   "mimetype": "text/x-python",
   "name": "python",
   "nbconvert_exporter": "python",
   "pygments_lexer": "ipython3",
   "version": "3.8.10"
  },
  "orig_nbformat": 4
 },
 "nbformat": 4,
 "nbformat_minor": 2
}
