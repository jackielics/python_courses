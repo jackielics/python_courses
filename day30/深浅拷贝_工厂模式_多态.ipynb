{
 "cells": [
  {
   "attachments": {},
   "cell_type": "markdown",
   "metadata": {},
   "source": [
    "## is 和 == 的区别\n",
    "\n",
    "is ： 比较两个对象的引用是否相同，即 它们的id 是否一样 \\\n",
    "== ： 比较两个对象的值是否相同。"
   ]
  },
  {
   "attachments": {},
   "cell_type": "markdown",
   "metadata": {},
   "source": [
    "## copy.copy()浅拷贝\n",
    "拷贝的是对象的引用，如果原对象改变，相应的拷贝对象也会发生改变\n",
    "### 可变对象\n",
    "创建一个原始对象的浅拷贝（Shallow Copy），即创建一个新的对象，其中包含原始对象的所有元素的引用，而不是复制原始对象中的元素本身。"
   ]
  },
  {
   "cell_type": "code",
   "execution_count": 2,
   "metadata": {},
   "outputs": [
    {
     "name": "stdout",
     "output_type": "stream",
     "text": [
      "[[0, 2, 3], [4, 5, 6]]\n",
      "[[0, 2, 3], [4, 5, 6]]\n"
     ]
    },
    {
     "ename": "",
     "evalue": "",
     "output_type": "error",
     "traceback": [
      "\u001b[1;31m在当前单元格或上一个单元格中执行代码时 Kernel 崩溃。请查看单元格中的代码，以确定故障的可能原因。有关详细信息，请单击 <a href='https://aka.ms/vscodeJupyterKernelCrash'>此处</a>。有关更多详细信息，请查看 Jupyter <a href='command:jupyter.viewOutput'>log</a>。"
     ]
    }
   ],
   "source": [
    "\"\"\" 如果原始对象是一个可变对象，浅拷贝将创建一个新的对象，其中包含与原始对象相同的元素，\n",
    "但这些元素本身并没有被复制，而是仍然指向原始对象的元素。这意味着，如果修改浅拷贝对象中的一个元素，\n",
    "它将反映在原始对象中。 \"\"\"\n",
    "import copy\n",
    "\n",
    "# 浅拷贝示例\n",
    "original_list = [[1, 2, 3], [4, 5, 6]]\n",
    "new_list = copy.copy(original_list)\n",
    "\n",
    "# 修改 new_list 中的元素\n",
    "new_list[0][0] = 0\n",
    "\n",
    "# 原始列表也随之改变\n",
    "print(original_list)  # 输出 [[0, 2, 3], [4, 5, 6]]\n",
    "print(new_list)  # 输出 [[0, 2, 3], [4, 5, 6]]"
   ]
  },
  {
   "attachments": {},
   "cell_type": "markdown",
   "metadata": {},
   "source": [
    "### 不可变对象\n",
    "如果原始对象是一个不可变对象（如元组或字符串），则浅拷贝将返回原始对象本身，因为这些对象无法更改。\n",
    "\n",
    "copy.copy() 的作用在于创建一个新的对象，而不是引用原始对象。这对于需要在不改变原始对象的情况下修改它的副本非常有用。但需要注意的是，由于浅拷贝只复制对象的引用，因此如果原始对象包含嵌套的可变对象，这些对象也将被复制为引用，而不是复制它们本身。在这种情况下，可以使用 copy.deepcopy() 方法创建一个深拷贝（Deep Copy），以便完全复制对象及其嵌套对象。"
   ]
  },
  {
   "cell_type": "code",
   "execution_count": 1,
   "metadata": {},
   "outputs": [
    {
     "ename": "NameError",
     "evalue": "name 'copy' is not defined",
     "output_type": "error",
     "traceback": [
      "\u001b[1;31m---------------------------------------------------------------------------\u001b[0m",
      "\u001b[1;31mNameError\u001b[0m                                 Traceback (most recent call last)",
      "\u001b[1;32md:\\Codes\\王道Python\\day30\\深浅拷贝_工厂模式_多态.ipynb 单元格 5\u001b[0m in \u001b[0;36m<cell line: 2>\u001b[1;34m()\u001b[0m\n\u001b[0;32m      <a href='vscode-notebook-cell:/d%3A/Codes/%E7%8E%8B%E9%81%93Python/day30/%E6%B7%B1%E6%B5%85%E6%8B%B7%E8%B4%9D_%E5%B7%A5%E5%8E%82%E6%A8%A1%E5%BC%8F_%E5%A4%9A%E6%80%81.ipynb#W4sZmlsZQ%3D%3D?line=0'>1</a>\u001b[0m x \u001b[39m=\u001b[39m \u001b[39m1\u001b[39m\n\u001b[1;32m----> <a href='vscode-notebook-cell:/d%3A/Codes/%E7%8E%8B%E9%81%93Python/day30/%E6%B7%B1%E6%B5%85%E6%8B%B7%E8%B4%9D_%E5%B7%A5%E5%8E%82%E6%A8%A1%E5%BC%8F_%E5%A4%9A%E6%80%81.ipynb#W4sZmlsZQ%3D%3D?line=1'>2</a>\u001b[0m y \u001b[39m=\u001b[39m copy\u001b[39m.\u001b[39mcopy(x)\n\u001b[0;32m      <a href='vscode-notebook-cell:/d%3A/Codes/%E7%8E%8B%E9%81%93Python/day30/%E6%B7%B1%E6%B5%85%E6%8B%B7%E8%B4%9D_%E5%B7%A5%E5%8E%82%E6%A8%A1%E5%BC%8F_%E5%A4%9A%E6%80%81.ipynb#W4sZmlsZQ%3D%3D?line=2'>3</a>\u001b[0m \u001b[39mprint\u001b[39m(x) \u001b[39m# 1\u001b[39;00m\n\u001b[0;32m      <a href='vscode-notebook-cell:/d%3A/Codes/%E7%8E%8B%E9%81%93Python/day30/%E6%B7%B1%E6%B5%85%E6%8B%B7%E8%B4%9D_%E5%B7%A5%E5%8E%82%E6%A8%A1%E5%BC%8F_%E5%A4%9A%E6%80%81.ipynb#W4sZmlsZQ%3D%3D?line=3'>4</a>\u001b[0m \u001b[39mprint\u001b[39m(y) \u001b[39m# 1\u001b[39;00m\n",
      "\u001b[1;31mNameError\u001b[0m: name 'copy' is not defined"
     ]
    }
   ],
   "source": [
    "x = 1\n",
    "y = copy.copy(x)\n",
    "print(x) # 1\n",
    "print(y) # 1\n",
    "print(id(x) == id(y)) # True\n"
   ]
  },
  {
   "attachments": {},
   "cell_type": "markdown",
   "metadata": {},
   "source": [
    "## copy.deepcopy() 深拷贝\n",
    "拷贝对象中的每个元素，拷贝对象和原有对象不在有关系，两个是独立的对象\n",
    "\n",
    "可以认为 copy.deepcopy() 完全复制对象及其嵌套对象，创建的对象与原始的对象将没有任何关系了"
   ]
  },
  {
   "cell_type": "code",
   "execution_count": 3,
   "metadata": {},
   "outputs": [
    {
     "name": "stdout",
     "output_type": "stream",
     "text": [
      "{'a': [1, 2, 3], 'b': {'c': 4, 'd': 5}}\n",
      "{'a': [0, 2, 3], 'b': {'c': 6, 'd': 5}}\n"
     ]
    }
   ],
   "source": [
    "import copy\n",
    "# 深拷贝示例\n",
    "original_dict = {\"a\": [1, 2, 3], \"b\": {\"c\": 4, \"d\": 5}}\n",
    "new_dict = copy.deepcopy(original_dict)\n",
    "\n",
    "# 修改 new_dict 中的元素\n",
    "new_dict[\"a\"][0] = 0\n",
    "new_dict[\"b\"][\"c\"] = 6\n",
    "\n",
    "# 原始字典不受影响\n",
    "print(original_dict)  # 输出 {\"a\": [1, 2, 3], \"b\": {\"c\": 4, \"d\": 5}}\n",
    "print(new_dict)  # 输出 {\"a\": [0, 2, 3], \"b\": {\"c\": 6, \"d\": 5}}"
   ]
  },
  {
   "attachments": {},
   "cell_type": "markdown",
   "metadata": {},
   "source": [
    "## 设计模式——工厂模式\n",
    "通过将对象的创建委托给一个单独的类或函数（即工厂），从而简化对象的创建过程"
   ]
  },
  {
   "cell_type": "code",
   "execution_count": null,
   "metadata": {},
   "outputs": [],
   "source": [
    "class Animal:\n",
    "    def speak(self):\n",
    "        pass\n",
    "\n",
    "    species = \"\"\n",
    "\n",
    "class Dog(Animal):\n",
    "    def speak(self):\n",
    "        return \"Woof!\"\n",
    "\n",
    "    species = \"Canine\"\n",
    "\n",
    "class Cat(Animal):\n",
    "    def speak(self):\n",
    "        return \"Meow!\"\n",
    "\n",
    "    species = \"Feline\"\n",
    "def create_animal(animal_type):\n",
    "    if animal_type == \"dog\":\n",
    "        return Dog()\n",
    "    elif animal_type == \"cat\":\n",
    "        return Cat()\n",
    "    else:\n",
    "        return None\n",
    "dog = create_animal(\"dog\")\n",
    "cat = create_animal(\"cat\")"
   ]
  },
  {
   "attachments": {},
   "cell_type": "markdown",
   "metadata": {},
   "source": [
    "## 多态\n",
    "不同的子类重写之后调用相同的父类方法，得到不同的表现"
   ]
  },
  {
   "cell_type": "code",
   "execution_count": 7,
   "metadata": {},
   "outputs": [
    {
     "name": "stdout",
     "output_type": "stream",
     "text": [
      "Woof!\n",
      "Meow!\n"
     ]
    }
   ],
   "source": [
    "class Animal:\n",
    "    def speak(self):\n",
    "        pass\n",
    "class Dog(Animal):\n",
    "    def speak(self):\n",
    "        return \"Woof!\"\n",
    "\n",
    "class Cat(Animal):\n",
    "    def speak(self):\n",
    "        return \"Meow!\"\n",
    "dog = Dog()\n",
    "cat = Cat()\n",
    "\n",
    "print(dog.speak()) # \"Woof!\"\n",
    "print(cat.speak()) # \"Meow!\"\n"
   ]
  },
  {
   "cell_type": "code",
   "execution_count": null,
   "metadata": {},
   "outputs": [],
   "source": []
  }
 ],
 "metadata": {
  "kernelspec": {
   "display_name": "Python 3",
   "language": "python",
   "name": "python3"
  },
  "language_info": {
   "codemirror_mode": {
    "name": "ipython",
    "version": 3
   },
   "file_extension": ".py",
   "mimetype": "text/x-python",
   "name": "python",
   "nbconvert_exporter": "python",
   "pygments_lexer": "ipython3",
   "version": "3.8.10"
  },
  "orig_nbformat": 4
 },
 "nbformat": 4,
 "nbformat_minor": 2
}
