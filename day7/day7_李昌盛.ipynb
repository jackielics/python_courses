{
 "cells": [
  {
   "attachments": {},
   "cell_type": "markdown",
   "metadata": {},
   "source": [
    "1、\t函数的简单入参练习"
   ]
  },
  {
   "cell_type": "code",
   "execution_count": 1,
   "metadata": {},
   "outputs": [
    {
     "name": "stdout",
     "output_type": "stream",
     "text": [
      "1\n"
     ]
    }
   ],
   "source": [
    "def t(i):\n",
    "    print(i)\n",
    "t(1)"
   ]
  },
  {
   "attachments": {},
   "cell_type": "markdown",
   "metadata": {},
   "source": [
    "2、\t函数可变类型列表，字典入参练习，在函数内改变列表，字典内容后，函数外打印显示发生改变"
   ]
  },
  {
   "cell_type": "code",
   "execution_count": 3,
   "metadata": {},
   "outputs": [
    {
     "data": {
      "text/plain": [
       "{'a': 'av', 'b': 'bv', 'c': 'cv'}"
      ]
     },
     "execution_count": 3,
     "metadata": {},
     "output_type": "execute_result"
    }
   ],
   "source": [
    "def t(d:dict):\n",
    "    d[\"c\"] = \"cv\"\n",
    "d = {\"a\":\"av\", \"b\":\"bv\"}\n",
    "t(d)\n",
    "d"
   ]
  },
  {
   "attachments": {},
   "cell_type": "markdown",
   "metadata": {},
   "source": [
    "3、\t多个缺省参数的传递练习，练习多个缺省参数"
   ]
  },
  {
   "cell_type": "code",
   "execution_count": 4,
   "metadata": {},
   "outputs": [
    {
     "name": "stdout",
     "output_type": "stream",
     "text": [
      "a0 = 0, a1 = 1, a2 = 2, a3 = 3\n"
     ]
    }
   ],
   "source": [
    "def t(a0, a1 = 1, a2 = 2, a3 = 3):\n",
    "    print(f\"a0 = {a0}, a1 = {a1}, a2 = {a2}, a3 = {a3}\")\n",
    "t(0)\n"
   ]
  },
  {
   "attachments": {},
   "cell_type": "markdown",
   "metadata": {},
   "source": [
    "4、\t可变参数练习，元组，字典的传参拆包练习"
   ]
  },
  {
   "cell_type": "code",
   "execution_count": 5,
   "metadata": {},
   "outputs": [
    {
     "name": "stdout",
     "output_type": "stream",
     "text": [
      "(1, 2)\n",
      "{'a': 1, 'b': 2}\n"
     ]
    }
   ],
   "source": [
    "def t(*args,**kargs):\n",
    "    print(args)\n",
    "    print(kargs)\n",
    "\n",
    "t(1,2,a=1,b=2)\n"
   ]
  },
  {
   "cell_type": "code",
   "execution_count": null,
   "metadata": {},
   "outputs": [],
   "source": []
  }
 ],
 "metadata": {
  "kernelspec": {
   "display_name": "Python 3",
   "language": "python",
   "name": "python3"
  },
  "language_info": {
   "codemirror_mode": {
    "name": "ipython",
    "version": 3
   },
   "file_extension": ".py",
   "mimetype": "text/x-python",
   "name": "python",
   "nbconvert_exporter": "python",
   "pygments_lexer": "ipython3",
   "version": "3.8.10"
  },
  "orig_nbformat": 4,
  "vscode": {
   "interpreter": {
    "hash": "f5946b6e853b34f473fb738bafc13c5730ec46b1be076a90eae2c15b8d0b108b"
   }
  }
 },
 "nbformat": 4,
 "nbformat_minor": 2
}
