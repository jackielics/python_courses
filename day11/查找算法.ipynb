{
 "cells": [
  {
   "attachments": {},
   "cell_type": "markdown",
   "metadata": {},
   "source": [
    "# 查找算法"
   ]
  },
  {
   "attachments": {},
   "cell_type": "markdown",
   "metadata": {},
   "source": [
    "二分查找"
   ]
  },
  {
   "cell_type": "code",
   "execution_count": 1,
   "metadata": {},
   "outputs": [
    {
     "data": {
      "text/plain": [
       "7"
      ]
     },
     "execution_count": 1,
     "metadata": {},
     "output_type": "execute_result"
    }
   ],
   "source": [
    "def binary_search(seq, target):\n",
    "    \"\"\"二分查找，返回目标元素的索引，如果不存在则返回-1\"\"\"\n",
    "    i = 0 # i为列表的左指针\n",
    "    j = len(seq) - 1 # j为列表的右指针\n",
    "    while i <= j: # 只要左指针小于等于右指针\n",
    "        if seq[i] == target: # 如果左指针指向的元素等于目标元素\n",
    "            return i\n",
    "        elif seq[j] == target: # 如果右指针指向的元素等于目标元素\n",
    "            return j\n",
    "        mid = (i + j) // 2 # 取中间位置\n",
    "        if seq[mid] == target: # 如果中间位置的元素等于目标元素\n",
    "            return mid\n",
    "        elif target < seq[mid] : # 如果中间位置的元素小于目标元素\n",
    "            j = mid - 1 # 右指针左移\n",
    "            i += 1 # 左指针右移\n",
    "        else: # 如果中间位置的元素大于目标元素\n",
    "            i = mid + 1 # 左指针右移\n",
    "            j -= 1 # 右指针左移\n",
    "    return -1\n",
    "\n",
    "binary_search([1, 3, 5, 7, 9, 11, 13, 15], 15)"
   ]
  },
  {
   "attachments": {},
   "cell_type": "markdown",
   "metadata": {},
   "source": [
    "位图"
   ]
  },
  {
   "cell_type": "code",
   "execution_count": 19,
   "metadata": {},
   "outputs": [
    {
     "name": "stdout",
     "output_type": "stream",
     "text": [
      "len(list1) : 100000\n",
      "len(result) : 63269\n",
      "len(int_bitmap) : 99999\n"
     ]
    }
   ],
   "source": [
    "def bitmap(arr):\n",
    "    int_bitmap=0 #初试位图全 0\n",
    "    result=[] #放置不重复的结果\n",
    "    for i in arr:\n",
    "        if not int_bitmap&1<<i: # 如果这个数没出现过，就把对应位置标记为 1\n",
    "            result.append(i) #这个数没出现过，放入 result\n",
    "            int_bitmap|=1<<i #这个数出现了，把对应位置标记为 1\n",
    "    result.sort()\n",
    "    print(f\"len(result) : {len(result)}\")\n",
    "    print(f\"len(int_bitmap) : {len(str(bin(int_bitmap))[2:])}\")\n",
    "\n",
    "list1 = [__import__('random').randint(0, int(1e5)) for _ in range(int(1e5))]\n",
    "print(f\"len(list1) : {len(list1)}\")\n",
    "bitmap(list1)"
   ]
  },
  {
   "cell_type": "code",
   "execution_count": 22,
   "metadata": {},
   "outputs": [
    {
     "data": {
      "text/plain": [
       "[' ',\n",
       " ' ',\n",
       " ' ',\n",
       " ' ',\n",
       " ' ',\n",
       " ' ',\n",
       " 'a',\n",
       " 'A',\n",
       " 'd',\n",
       " 'e',\n",
       " 'e',\n",
       " 'f',\n",
       " 'g',\n",
       " 'h',\n",
       " 'i',\n",
       " 'i',\n",
       " 'i',\n",
       " 'm',\n",
       " 'n',\n",
       " 'n',\n",
       " 'o',\n",
       " 'r',\n",
       " 'r',\n",
       " 'r',\n",
       " 's',\n",
       " 's',\n",
       " 's',\n",
       " 's',\n",
       " 'T',\n",
       " 't',\n",
       " 't',\n",
       " 't',\n",
       " 'w']"
      ]
     },
     "execution_count": 22,
     "metadata": {},
     "output_type": "execute_result"
    }
   ],
   "source": [
    "sorted(\"This is a test string from Andrew\", key=str.lower)"
   ]
  },
  {
   "cell_type": "code",
   "execution_count": null,
   "metadata": {},
   "outputs": [],
   "source": []
  }
 ],
 "metadata": {
  "kernelspec": {
   "display_name": "Python 3",
   "language": "python",
   "name": "python3"
  },
  "language_info": {
   "codemirror_mode": {
    "name": "ipython",
    "version": 3
   },
   "file_extension": ".py",
   "mimetype": "text/x-python",
   "name": "python",
   "nbconvert_exporter": "python",
   "pygments_lexer": "ipython3",
   "version": "3.8.10"
  },
  "orig_nbformat": 4,
  "vscode": {
   "interpreter": {
    "hash": "f5946b6e853b34f473fb738bafc13c5730ec46b1be076a90eae2c15b8d0b108b"
   }
  }
 },
 "nbformat": 4,
 "nbformat_minor": 2
}
