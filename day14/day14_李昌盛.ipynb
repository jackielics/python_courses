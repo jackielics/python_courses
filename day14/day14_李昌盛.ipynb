{
 "cells": [
  {
   "attachments": {},
   "cell_type": "markdown",
   "metadata": {},
   "source": [
    "# 1、\t完成sorted的各种使用（和上课一致）"
   ]
  },
  {
   "cell_type": "markdown",
   "metadata": {},
   "source": [
    "基本区别"
   ]
  },
  {
   "cell_type": "code",
   "execution_count": null,
   "metadata": {},
   "outputs": [
    {
     "name": "stdout",
     "output_type": "stream",
     "text": [
      "[9, 6, 5, 5, 5, 4, 3, 3, 2, 1, 1]\n",
      "[1, 1, 2, 3, 3, 4, 5, 5, 5, 6, 9]\n",
      "[3, 1, 4, 1, 5, 9, 2, 6, 5, 3, 5]\n"
     ]
    }
   ],
   "source": [
    "# sort()的例子\n",
    "my_list = [3, 1, 4, 1, 5, 9, 2, 6, 5, 3, 5]\n",
    "my_list.sort(reverse=True)\n",
    "print(my_list)\n",
    "\n",
    "# sorted()的例子\n",
    "my_list = [3, 1, 4, 1, 5, 9, 2, 6, 5, 3, 5]\n",
    "sorted_list = sorted(my_list)\n",
    "print(sorted_list)  # 输出 [1, 1, 2, 3, 3, 4, 5, 5, 5, 6, 9]\n",
    "print(my_list)      # 输出 [3, 1, 4, 1, 5, 9, 2, 6, 5, 3, 5]"
   ]
  },
  {
   "cell_type": "markdown",
   "metadata": {},
   "source": [
    "自定义key参数"
   ]
  },
  {
   "cell_type": "code",
   "execution_count": null,
   "metadata": {},
   "outputs": [
    {
     "name": "stdout",
     "output_type": "stream",
     "text": [
      "['J', 'Luc', 'Andy', 'Maggie']\n",
      "['J', 'Luc', 'Andy', 'Maggie']\n"
     ]
    }
   ],
   "source": [
    "names = ['J', 'Luc', 'Maggie', 'Andy']\n",
    "sorted_names = sorted(names, key=lambda x: len(x))\n",
    "print(sorted_names)\n",
    "\n",
    "names.sort(key=lambda x: len(x))\n",
    "print(names)\n"
   ]
  },
  {
   "cell_type": "markdown",
   "metadata": {},
   "source": [
    "字典中有列表"
   ]
  },
  {
   "cell_type": "code",
   "execution_count": null,
   "metadata": {},
   "outputs": [
    {
     "data": {
      "text/plain": [
       "dict_items([('a', [3, 1, 4]), ('b', [5, 2, 6]), ('c', [9, 7, 8])])"
      ]
     },
     "metadata": {},
     "output_type": "display_data"
    }
   ],
   "source": [
    "my_dict = {'a': [3, 1, 4], 'b': [5, 2, 6], 'c': [9, 7, 8]}\n",
    "# .items()返回元组(key, value) \n",
    "sorted(my_dict.items(), key=lambda x: x[1][1]) # 对于每个元素，返回该元素值的第二个元素，作为排序的依据。\n",
    "# my_dict.items() "
   ]
  },
  {
   "cell_type": "markdown",
   "metadata": {},
   "source": [
    "列表中有字典"
   ]
  },
  {
   "cell_type": "code",
   "execution_count": null,
   "metadata": {},
   "outputs": [
    {
     "data": {
      "text/plain": [
       "[{'name': 'Bob', 'age': 20},\n",
       " {'name': 'Alice', 'age': 25},\n",
       " {'name': 'Charlie', 'age': 30}]"
      ]
     },
     "metadata": {},
     "output_type": "display_data"
    }
   ],
   "source": [
    "my_list = [{'name': 'Alice', 'age': 25}, {'name': 'Bob', 'age': 20}, {'name': 'Charlie', 'age': 30}]\n",
    "sorted(my_list, key=lambda x: x['age'])"
   ]
  },
  {
   "cell_type": "markdown",
   "metadata": {},
   "source": [
    "itemgetter与attrgetter"
   ]
  },
  {
   "cell_type": "code",
   "execution_count": null,
   "metadata": {},
   "outputs": [
    {
     "name": "stdout",
     "output_type": "stream",
     "text": [
      "[('Bob', 20), ('Alice', 25), ('Charlie', 30)]\n"
     ]
    }
   ],
   "source": [
    "# itemgetter 主要用于获取容器对象中指定位置的元素\n",
    "from operator import itemgetter\n",
    "\n",
    "data = [('Alice', 25), ('Bob', 20), ('Charlie', 30)]\n",
    "\n",
    "# 按照第二个元素排序\n",
    "data.sort(key=itemgetter(1))\n",
    "\n",
    "print(data)\n",
    "# 输出 [('Bob', 20), ('Alice', 25), ('Charlie', 30)]\n"
   ]
  },
  {
   "cell_type": "code",
   "execution_count": null,
   "metadata": {},
   "outputs": [
    {
     "name": "stdout",
     "output_type": "stream",
     "text": [
      "[Person(name=Bob, age=20), Person(name=Alice, age=25), Person(name=Charlie, age=30)]\n"
     ]
    }
   ],
   "source": [
    "# attrgetter 主要用于获取容器对象中指定属性的值。\n",
    "from operator import attrgetter\n",
    "\n",
    "class Person:\n",
    "    def __init__(self, name, age):\n",
    "        self.name = name\n",
    "        self.age = age\n",
    "\n",
    "    def __repr__(self):\n",
    "        return f'Person(name={self.name}, age={self.age})'\n",
    "\n",
    "data = [Person('Alice', 25), Person('Bob', 20), Person('Charlie', 30)]\n",
    "\n",
    "# 按照年龄排序\n",
    "data.sort(key=attrgetter('age'))\n",
    "\n",
    "print(data)\n",
    "# 输出 [Person(name=Bob, age=20), Person(name=Alice, age=25), Person(name=Charlie, age=30)]\n"
   ]
  },
  {
   "cell_type": "code",
   "execution_count": null,
   "metadata": {},
   "outputs": [
    {
     "name": "stdout",
     "output_type": "stream",
     "text": [
      "1\n",
      "[2, 3, 4]\n",
      "(1, 3, 5)\n"
     ]
    }
   ],
   "source": [
    "from operator import itemgetter\n",
    "\n",
    "class MyClass:\n",
    "    def __init__(self, data):\n",
    "        self.data = data\n",
    "\n",
    "    def __getitem__(self, key):\n",
    "        if isinstance(key, slice):\n",
    "            return [self.data[i] for i in range(*key.indices(len(self.data)))]\n",
    "        elif isinstance(key, int):\n",
    "            return self.data[key]\n",
    "        elif isinstance(key, tuple):\n",
    "            return itemgetter(*key)(self.data)\n",
    "        else:\n",
    "            raise TypeError(\"Invalid argument type\")\n",
    "\n",
    "my_obj = MyClass([1, 2, 3, 4, 5])\n",
    "print(my_obj[0])  # 1\n",
    "print(my_obj[1:4])  # [2, 3, 4]\n",
    "print(my_obj[(0, 2, 4)])  # (1, 3, 5)"
   ]
  },
  {
   "attachments": {},
   "cell_type": "markdown",
   "metadata": {},
   "source": [
    "# 4、\t完成红黑树的新增代码编写（和上课一致）"
   ]
  },
  {
   "cell_type": "code",
   "execution_count": 1,
   "metadata": {},
   "outputs": [
    {
     "name": "stdout",
     "output_type": "stream",
     "text": [
      "队列实现层次遍历:\n",
      "0123456789\n",
      "\n",
      " 递归实现先序遍历:\n",
      "0137849256\n",
      " 递归实现中序遍历:\n",
      "7381940526\n",
      " 递归实现后序遍历:\n",
      "7839415620\n",
      "\n",
      " 堆栈实现先序遍历:\n",
      "0137849256\n",
      " 堆栈实现中序遍历:\n",
      "7381940526\n",
      " 堆栈实现后序遍历:\n",
      "7839415620"
     ]
    }
   ],
   "source": [
    "class Node(object):\n",
    "    \"\"\"节点类\"\"\"\n",
    "    def __init__(self, elem=-1, lchild=None, rchild=None):\n",
    "        self.elem = elem\n",
    "        self.lchild = lchild\n",
    "        self.rchild = rchild\n",
    "class Tree(object):\n",
    "    \"\"\"树类\"\"\"\n",
    "    def __init__(self):\n",
    "        self.root = Node()\n",
    "        self.myQueue = []\n",
    "    def add(self, elem):\n",
    "        \"\"\"为树添加节点\"\"\"\n",
    "        node = Node(elem)\n",
    "        if self.root.elem == -1: # 如果树是空的，则对根节点赋值\n",
    "            self.root = node\n",
    "            self.myQueue.append(self.root)\n",
    "        else:\n",
    "            treeNode = self.myQueue[0] # 此结点的子树还没有齐。\n",
    "            if treeNode.lchild == None:\n",
    "                treeNode.lchild = node\n",
    "                self.myQueue.append(treeNode.lchild)\n",
    "            else:\n",
    "                treeNode.rchild = node\n",
    "                self.myQueue.append(treeNode.rchild)\n",
    "                self.myQueue.pop(0) # 如果该结点存在右子树，将此结点丢弃。\n",
    "    def front_digui(self, root):\n",
    "        \"\"\"利用递归实现树的先序遍历\"\"\"\n",
    "        if root == None:\n",
    "            return\n",
    "        print(root.elem, end=\"\")\n",
    "        self.front_digui(root.lchild)\n",
    "        self.front_digui(root.rchild)\n",
    "    def middle_digui(self, root):\n",
    "        \"\"\"利用递归实现树的中序遍历\"\"\"\n",
    "        if root == None:\n",
    "            return\n",
    "        self.middle_digui(root.lchild)\n",
    "        print(root.elem, end=\"\")\n",
    "        self.middle_digui(root.rchild)\n",
    "    def later_digui(self, root):\n",
    "        \"\"\"利用递归实现树的后序遍历\"\"\"\n",
    "        if root == None:\n",
    "            return\n",
    "        self.later_digui(root.lchild)\n",
    "        self.later_digui(root.rchild)\n",
    "        print(root.elem, end=\"\")\n",
    "    def front_stack(self, root):\n",
    "        \"\"\"利用堆栈实现树的先序遍历\"\"\"\n",
    "        if root == None:\n",
    "            return\n",
    "        myStack = []\n",
    "        node = root\n",
    "        while node or myStack:\n",
    "            while node: # 从根节点开始，一直找它的左子树\n",
    "                print(node.elem, end=\"\")\n",
    "                myStack.append(node)\n",
    "                node = node.lchild\n",
    "            node = myStack.pop() # while 结束表示当前节点 node 为空，即前一个节点没有左子树了\n",
    "            node = node.rchild # 开始查看它的右子树\n",
    "    def middle_stack(self, root):\n",
    "        \"\"\"利用堆栈实现树的中序遍历\"\"\"\n",
    "        if root == None:\n",
    "            return\n",
    "        myStack = []\n",
    "        node = root\n",
    "        while node or myStack:\n",
    "            while node: # 从根节点开始，一直找它的左子树\n",
    "                myStack.append(node)\n",
    "                node = node.lchild\n",
    "            node = myStack.pop() # while 结束表示当前节点 node 为空，即前一个节点没有左子树了\n",
    "            print(node.elem, end=\"\")\n",
    "            node = node.rchild # 开始查看它的右子树\n",
    "    def later_stack(self, root):\n",
    "        \"\"\"利用堆栈实现树的后序遍历\"\"\"\n",
    "        if root == None:\n",
    "            return\n",
    "        myStack1 = []\n",
    "        myStack2 = []\n",
    "        node = root\n",
    "        myStack1.append(node)\n",
    "        while myStack1: # 这个 while 循环的功能是找出后序遍历的逆序，存在 myStack2 里面\n",
    "            node = myStack1.pop()\n",
    "            if node.lchild:\n",
    "                myStack1.append(node.lchild)\n",
    "            if node.rchild:\n",
    "                myStack1.append(node.rchild)\n",
    "            myStack2.append(node)\n",
    "        while myStack2: # 将 myStack2 中的元素出栈，即为后序遍历次序\n",
    "            print(myStack2.pop().elem, end=\"\")\n",
    "    def level_queue(self, root):\n",
    "        \"\"\"利用队列实现树的层次遍历\"\"\"\n",
    "        if root == None:\n",
    "            return\n",
    "        myQueue = []\n",
    "        node = root\n",
    "        myQueue.append(node)\n",
    "        while myQueue:\n",
    "            node = myQueue.pop(0)\n",
    "            print(node.elem, end=\"\")\n",
    "            if node.lchild != None:\n",
    "                myQueue.append(node.lchild)\n",
    "            if node.rchild != None:\n",
    "                myQueue.append(node.rchild)\n",
    "    \n",
    "\n",
    "if __name__ == '__main__':\n",
    "    \"\"\"主函数\"\"\"\n",
    "    elems = range(10) # 生成十个数据作为树节点\n",
    "    tree = Tree() # 新建一个树对象\n",
    "    for elem in elems:\n",
    "        tree.add(elem) # 逐个添加树的节点\n",
    "    print('队列实现层次遍历:')\n",
    "    tree.level_queue(tree.root)\n",
    "    print('\\n\\n 递归实现先序遍历:')\n",
    "    tree.front_digui(tree.root)\n",
    "    print('\\n 递归实现中序遍历:')\n",
    "    tree.middle_digui(tree.root)\n",
    "    print('\\n 递归实现后序遍历:')\n",
    "    tree.later_digui(tree.root)\n",
    "    print('\\n\\n 堆栈实现先序遍历:')\n",
    "    tree.front_stack(tree.root)\n",
    "    print('\\n 堆栈实现中序遍历:')\n",
    "    tree.middle_stack(tree.root)\n",
    "    print('\\n 堆栈实现后序遍历:')\n",
    "    tree.later_stack(tree.root)"
   ]
  },
  {
   "cell_type": "code",
   "execution_count": null,
   "metadata": {},
   "outputs": [],
   "source": [
    "# 找到一个节点的叔父和祖父节点的函数"
   ]
  }
 ],
 "metadata": {
  "kernelspec": {
   "display_name": "Python 3",
   "language": "python",
   "name": "python3"
  },
  "language_info": {
   "codemirror_mode": {
    "name": "ipython",
    "version": 3
   },
   "file_extension": ".py",
   "mimetype": "text/x-python",
   "name": "python",
   "nbconvert_exporter": "python",
   "pygments_lexer": "ipython3",
   "version": "3.8.10"
  },
  "orig_nbformat": 4
 },
 "nbformat": 4,
 "nbformat_minor": 2
}
