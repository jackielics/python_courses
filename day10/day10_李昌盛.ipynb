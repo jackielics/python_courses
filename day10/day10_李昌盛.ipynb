{
 "cells": [
  {
   "attachments": {},
   "cell_type": "markdown",
   "metadata": {},
   "source": [
    "1、\t实现单例模式"
   ]
  },
  {
   "cell_type": "code",
   "execution_count": 1,
   "metadata": {},
   "outputs": [
    {
     "name": "stdout",
     "output_type": "stream",
     "text": [
      "True\n"
     ]
    }
   ],
   "source": [
    "def singleton(cls):\n",
    "    instances = {}\n",
    "    def get_instance (*args,**kwargs):\n",
    "        if cls not in instances:\n",
    "            instances[cls] = cls(*args,**kwargs)\n",
    "        return instances[cls]\n",
    "    return get_instance \n",
    "@singleton\n",
    "class MyClass:\n",
    "    pass\n",
    "a = MyClass()\n",
    "b = MyClass()\n",
    "print(a is b)#True"
   ]
  },
  {
   "attachments": {},
   "cell_type": "markdown",
   "metadata": {},
   "source": [
    "2、\t通过try进行异常捕捉，确保输入的内容一定是一个整型数，然后判断该整型数是否是对称数，12321就是对称数，123321也是对称数，否则就打印不是，非整型抛异常"
   ]
  },
  {
   "cell_type": "code",
   "execution_count": 8,
   "metadata": {},
   "outputs": [
    {
     "name": "stdout",
     "output_type": "stream",
     "text": [
      "请输入数字\n"
     ]
    }
   ],
   "source": [
    "try:\n",
    "    num = int(input())\n",
    "    s_num = str(num)\n",
    "    s_len = len(s_num)\n",
    "    flag = 1\n",
    "    for i in range(int(s_len/2)):\n",
    "        if(s_num[i] != s_num[s_len - 1 - i]):\n",
    "            flag = 0\n",
    "            break\n",
    "    if flag == 0:\n",
    "        print('不是对称数')\n",
    "    else:\n",
    "        print('是对称数')  \n",
    "except ValueError:\n",
    "    print('请输入数字')"
   ]
  },
  {
   "attachments": {},
   "cell_type": "markdown",
   "metadata": {},
   "source": [
    "3、\t以可读可写打开一个文件，然后写入“人生苦短 我用Python”，关闭文件"
   ]
  },
  {
   "cell_type": "code",
   "execution_count": 9,
   "metadata": {},
   "outputs": [],
   "source": [
    "with open('test.txt','w', encoding='utf-8') as f:\n",
    "    f.write('人生苦短 我用Python')\n",
    "    f.close()"
   ]
  },
  {
   "attachments": {},
   "cell_type": "markdown",
   "metadata": {},
   "source": [
    "4、\t通过readline依次读取文件每一行并打印"
   ]
  },
  {
   "cell_type": "code",
   "execution_count": 12,
   "metadata": {},
   "outputs": [
    {
     "name": "stdout",
     "output_type": "stream",
     "text": [
      "人生苦短 我用Python\n",
      "人生苦短 我用Python\n",
      "人生苦短 我用Python\n",
      "人生苦短 我用Python\n",
      "人生苦短 我用Python\n",
      "人生苦短 我用Python\n",
      "人生苦短 我用Python\n",
      "人生苦短 我用Python\n",
      "人生苦短 我用Python\n",
      "人生苦短 我用Python\n",
      "人生苦短 我用Python\n",
      "人生苦短 我用Python\n",
      "人生苦短 我用Python\n",
      "人生苦短 我用Python\n",
      "人生苦短 我用Python\n",
      "人生苦短 我用Python\n",
      "人生苦短 我用Python\n",
      "人生苦短 我用Python\n",
      "人生苦短 我用Python\n",
      "人生苦短 我用Python\n",
      "人生苦短 我用Python\n",
      "人生苦短 我用Python\n",
      "人生苦短 我用Python\n",
      "人生苦短 我用Python\n",
      "人生苦短 我用Python\n",
      "人生苦短 我用Python\n",
      "人生苦短 我用Python\n",
      "\n"
     ]
    }
   ],
   "source": [
    "#打开文件\n",
    "file = open(\"test.txt\",encoding='utf-8')\n",
    "while True:\n",
    "    #读取一行内容\n",
    "    text = file.readline()#判断是否读到内容\n",
    "    if not text:\n",
    "        break\n",
    "    #每读取一行的末尾已经有了一个~\\n \n",
    "    print(text,end=\"\")\n",
    "# 关闭文件\n",
    "file.close()"
   ]
  },
  {
   "attachments": {},
   "cell_type": "markdown",
   "metadata": {},
   "source": [
    "5、\t读取readme文件内容，复制到readme1中"
   ]
  },
  {
   "cell_type": "code",
   "execution_count": 13,
   "metadata": {},
   "outputs": [],
   "source": [
    "# 1. 打开文件\n",
    "file_read = open(\"test.txt\")\n",
    "file_write = open(\"test1.txt\", \"w\")\n",
    "# 2. 读取并写入文件\n",
    "while True:\n",
    "    # 每次读取一行\n",
    "    text = file_read.readline()\n",
    "    # 判断是否读取到内容\n",
    "    if not text:\n",
    "        break\n",
    "    file_write.write(text)\n",
    "# 3. 关闭文件\n",
    "file_read.close()\n",
    "file_write.close()\n"
   ]
  },
  {
   "cell_type": "code",
   "execution_count": 14,
   "metadata": {},
   "outputs": [
    {
     "data": {
      "text/plain": [
       "'test1.txt'"
      ]
     },
     "execution_count": 14,
     "metadata": {},
     "output_type": "execute_result"
    }
   ],
   "source": [
    "import shutil\n",
    "# 复制文件\n",
    "shutil.copy(\"test.txt\", \"test1.txt\")"
   ]
  },
  {
   "attachments": {},
   "cell_type": "markdown",
   "metadata": {},
   "source": [
    "6、\t通过seek从文件开头偏移5个字节，然后把文件剩余内容读取"
   ]
  },
  {
   "cell_type": "code",
   "execution_count": 17,
   "metadata": {},
   "outputs": [
    {
     "name": "stdout",
     "output_type": "stream",
     "text": [
      "苦短 我用Python\n",
      "人生苦短 我用Python\n",
      "人生苦短 我用Python\n",
      "人生苦短 我用Python\n",
      "人生苦短 我用Python\n",
      "人生苦短 我用Python\n",
      "人生苦短 我用Python\n",
      "人生苦短 我用Python\n",
      "人生苦短 我用Python\n",
      "人生苦短 我用Python\n",
      "人生苦短 我用Python\n",
      "人生苦短 我用Python\n",
      "人生苦短 我用Python\n",
      "人生苦短 我用Python\n",
      "人生苦短 我用Python\n",
      "人生苦短 我用Python\n",
      "人生苦短 我用Python\n",
      "人生苦短 我用Python\n",
      "人生苦短 我用Python\n",
      "人生苦短 我用Python\n",
      "人生苦短 我用Python\n",
      "人生苦短 我用Python\n",
      "人生苦短 我用Python\n",
      "人生苦短 我用Python\n",
      "人生苦短 我用Python\n",
      "人生苦短 我用Python\n",
      "人生苦短 我用Python\n",
      "\n",
      "\n"
     ]
    }
   ],
   "source": [
    "#打开文件\n",
    "with open(\"test.txt\",encoding='utf-8') as f:\n",
    "    f.seek(6)\n",
    "    #读取文件内容\n",
    "    text = f.read()\n",
    "    print(text)"
   ]
  },
  {
   "attachments": {},
   "cell_type": "markdown",
   "metadata": {},
   "source": [
    "7、\t练习open的a+，w+模式，感受他们与r+的区别"
   ]
  },
  {
   "cell_type": "code",
   "execution_count": 34,
   "metadata": {},
   "outputs": [
    {
     "name": "stdout",
     "output_type": "stream",
     "text": [
      "人人人人\n",
      "##################################################\n",
      "人人人人人人人人\n",
      "##################################################\n",
      "\n"
     ]
    }
   ],
   "source": [
    "# r+将指针放在文件开头\n",
    "with open(\"test.txt\" , \"r+\",encoding='utf-8') as f:\n",
    "    f.write(\"人人人人\")\n",
    "    f.close()\n",
    "with open(\"test.txt\" , \"r+\",encoding='utf-8') as f:\n",
    "    #读取文件内容\n",
    "    print(f.read())\n",
    "    f.close()\n",
    "print(\"#\"*50)\n",
    "\n",
    "# a+将指针放在文件末尾\n",
    "with open(\"test.txt\" , \"a+\",encoding='utf-8') as f:\n",
    "    f.write(\"人人人人\")\n",
    "    f.close()\n",
    "with open(\"test.txt\" , \"r+\",encoding='utf-8') as f:\n",
    "    print(f.read())\n",
    "    f.close()\n",
    "print(\"#\"*50)\n",
    "\n",
    "# w+将指针放在文件开头\n",
    "with open(\"test.txt\" , \"w+\",encoding='utf-8') as f:\n",
    "    f.write(\"人人人人\")\n",
    "    f.close()\n",
    "with open(\"test.txt\" , \"w+\",encoding='utf-8') as f:\n",
    "    print(f.read())\n",
    "    f.close()"
   ]
  },
  {
   "attachments": {},
   "cell_type": "markdown",
   "metadata": {},
   "source": [
    "8、\t练习rb+模式，感受与r+模式的区别"
   ]
  },
  {
   "cell_type": "code",
   "execution_count": 37,
   "metadata": {},
   "outputs": [
    {
     "name": "stdout",
     "output_type": "stream",
     "text": [
      "b'aasdfghjkl'\n"
     ]
    }
   ],
   "source": [
    "with open(\"test.txt\" , \"rb+\") as f:\n",
    "    f.write(b\"aasdfghjkl\")\n",
    "    f.close()\n",
    "with open(\"test.txt\" , \"rb+\") as f:\n",
    "    #读取文件内容\n",
    "    print(f.read())\n",
    "    f.close()"
   ]
  },
  {
   "attachments": {},
   "cell_type": "markdown",
   "metadata": {},
   "source": [
    "9、\t对文件进行改名并删除文件"
   ]
  },
  {
   "cell_type": "code",
   "execution_count": 38,
   "metadata": {},
   "outputs": [],
   "source": [
    "import os\n",
    "\n",
    "os.rename(\"test1.txt\", \"test2.txt\")\n",
    "os.remove(\"test2.txt\")"
   ]
  },
  {
   "attachments": {},
   "cell_type": "markdown",
   "metadata": {},
   "source": [
    "10、\t创建文件夹，删除文件夹（均使用相对路径），改变程序执行路径，获取程序当前路径"
   ]
  },
  {
   "cell_type": "code",
   "execution_count": 42,
   "metadata": {},
   "outputs": [
    {
     "data": {
      "text/plain": [
       "'d:\\\\Codes\\\\王道Python\\\\day10_李昌盛\\\\test_chdir'"
      ]
     },
     "execution_count": 42,
     "metadata": {},
     "output_type": "execute_result"
    }
   ],
   "source": [
    "import os\n",
    "os.mkdir(\"test_dir\")\n",
    "os.rmdir(\"test_dir\")\n",
    "\n",
    "os.mkdir(\"test_chdir\")\n",
    "os.chdir(\"test_chdir\")\n",
    "\n",
    "os.getcwd()"
   ]
  },
  {
   "cell_type": "code",
   "execution_count": 47,
   "metadata": {},
   "outputs": [
    {
     "data": {
      "text/plain": [
       "'d:\\\\Codes\\\\王道Python\\\\day10_李昌盛'"
      ]
     },
     "execution_count": 47,
     "metadata": {},
     "output_type": "execute_result"
    }
   ],
   "source": [
    "os.chdir('d:\\\\Codes\\\\王道Python\\\\day10_李昌盛')\n",
    "os.getcwd()"
   ]
  },
  {
   "attachments": {},
   "cell_type": "markdown",
   "metadata": {},
   "source": [
    "11、\t实现目录深度优先遍历"
   ]
  },
  {
   "cell_type": "code",
   "execution_count": 48,
   "metadata": {},
   "outputs": [
    {
     "name": "stdout",
     "output_type": "stream",
     "text": [
      "File: .\\day10_李昌盛.ipynb\n",
      "File: .\\test.txt\n",
      "Directory: .\\test_chdir\n",
      "File: .\\test_chdir\\test\n",
      "Directory: .\\test_chdir\\test_dir1\n",
      "File: .\\test_chdir\\test_dir1\\test2\n"
     ]
    }
   ],
   "source": [
    "import os\n",
    "\n",
    "def dfs(root):\n",
    "    # 遍历当前目录下的所有文件和子目录\n",
    "    for item in os.listdir(root):\n",
    "        # 获取子目录或文件的完整路径\n",
    "        path = os.path.join(root, item)\n",
    "        # 判断是否是文件\n",
    "        if os.path.isfile(path):\n",
    "            print('File:', path)\n",
    "        # 判断是否是目录\n",
    "        elif os.path.isdir(path):\n",
    "            print('Directory:', path)\n",
    "            # 递归遍历子目录\n",
    "            dfs(path)\n",
    "\n",
    "# 测试：遍历当前目录下的所有文件和子目录\n",
    "root = '.'\n",
    "dfs(root)\n"
   ]
  },
  {
   "cell_type": "code",
   "execution_count": null,
   "metadata": {},
   "outputs": [],
   "source": []
  }
 ],
 "metadata": {
  "kernelspec": {
   "display_name": "Python 3",
   "language": "python",
   "name": "python3"
  },
  "language_info": {
   "codemirror_mode": {
    "name": "ipython",
    "version": 3
   },
   "file_extension": ".py",
   "mimetype": "text/x-python",
   "name": "python",
   "nbconvert_exporter": "python",
   "pygments_lexer": "ipython3",
   "version": "3.8.10"
  },
  "orig_nbformat": 4,
  "vscode": {
   "interpreter": {
    "hash": "f5946b6e853b34f473fb738bafc13c5730ec46b1be076a90eae2c15b8d0b108b"
   }
  }
 },
 "nbformat": 4,
 "nbformat_minor": 2
}
